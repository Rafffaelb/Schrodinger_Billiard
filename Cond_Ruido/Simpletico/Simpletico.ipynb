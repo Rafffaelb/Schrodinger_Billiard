{
 "cells": [
  {
   "cell_type": "code",
   "execution_count": 4,
   "metadata": {},
   "outputs": [],
   "source": [
    "import numpy as np\n",
    "import matplotlib.pyplot as plt"
   ]
  },
  {
   "cell_type": "code",
   "execution_count": 5,
   "metadata": {},
   "outputs": [
    {
     "data": {
      "text/plain": [
       "100000"
      ]
     },
     "execution_count": 5,
     "metadata": {},
     "output_type": "execute_result"
    }
   ],
   "source": [
    "G_txt = open(\"G_S.txt\", \"r\")\n",
    "G_S = [float(line) for line in G_txt.readlines()]\n",
    "G_txt.close()\n",
    "len(G_S)\n",
    "\n",
    "R_txt = open(\"R_S.txt\", \"r\")\n",
    "R_S = [float(line) for line in R_txt.readlines()]\n",
    "R_txt.close()\n",
    "len(R_S)"
   ]
  },
  {
   "cell_type": "code",
   "execution_count": 6,
   "metadata": {},
   "outputs": [
    {
     "data": {
      "text/plain": [
       "(array([  13.,   37.,   58.,   78.,   94.,  117.,  142.,  163.,  169.,\n",
       "         183.,  207.,  219.,  278.,  287.,  277.,  298.,  322.,  375.,\n",
       "         397.,  429.,  400.,  432.,  448.,  477.,  471.,  516.,  533.,\n",
       "         522.,  590.,  612.,  600.,  609.,  661.,  681.,  747.,  669.,\n",
       "         746.,  762.,  757.,  731.,  789.,  812.,  802.,  855.,  868.,\n",
       "         912.,  957., 1016.,  936.,  976.,  940., 1020., 1020., 1125.,\n",
       "        1097., 1086., 1170., 1183., 1146., 1176., 1222., 1238., 1271.,\n",
       "        1274., 1295., 1274., 1280., 1292., 1401., 1412., 1371., 1461.,\n",
       "        1387., 1451., 1509., 1499., 1523., 1562., 1545., 1616., 1564.,\n",
       "        1616., 1615., 1641., 1704., 1716., 1784., 1712., 1821., 1813.,\n",
       "        1825., 1811., 1837., 1843., 1994., 1895., 1931., 1981., 2001.,\n",
       "        2020.]),\n",
       " array([1.48439000e-03, 2.14693461e-02, 4.14543022e-02, 6.14392583e-02,\n",
       "        8.14242144e-02, 1.01409171e-01, 1.21394127e-01, 1.41379083e-01,\n",
       "        1.61364039e-01, 1.81348995e-01, 2.01333951e-01, 2.21318907e-01,\n",
       "        2.41303863e-01, 2.61288819e-01, 2.81273775e-01, 3.01258732e-01,\n",
       "        3.21243688e-01, 3.41228644e-01, 3.61213600e-01, 3.81198556e-01,\n",
       "        4.01183512e-01, 4.21168468e-01, 4.41153424e-01, 4.61138380e-01,\n",
       "        4.81123336e-01, 5.01108292e-01, 5.21093249e-01, 5.41078205e-01,\n",
       "        5.61063161e-01, 5.81048117e-01, 6.01033073e-01, 6.21018029e-01,\n",
       "        6.41002985e-01, 6.60987941e-01, 6.80972897e-01, 7.00957854e-01,\n",
       "        7.20942810e-01, 7.40927766e-01, 7.60912722e-01, 7.80897678e-01,\n",
       "        8.00882634e-01, 8.20867590e-01, 8.40852546e-01, 8.60837502e-01,\n",
       "        8.80822458e-01, 9.00807415e-01, 9.20792371e-01, 9.40777327e-01,\n",
       "        9.60762283e-01, 9.80747239e-01, 1.00073220e+00, 1.02071715e+00,\n",
       "        1.04070211e+00, 1.06068706e+00, 1.08067202e+00, 1.10065698e+00,\n",
       "        1.12064193e+00, 1.14062689e+00, 1.16061184e+00, 1.18059680e+00,\n",
       "        1.20058176e+00, 1.22056671e+00, 1.24055167e+00, 1.26053662e+00,\n",
       "        1.28052158e+00, 1.30050654e+00, 1.32049149e+00, 1.34047645e+00,\n",
       "        1.36046140e+00, 1.38044636e+00, 1.40043132e+00, 1.42041627e+00,\n",
       "        1.44040123e+00, 1.46038619e+00, 1.48037114e+00, 1.50035610e+00,\n",
       "        1.52034105e+00, 1.54032601e+00, 1.56031097e+00, 1.58029592e+00,\n",
       "        1.60028088e+00, 1.62026583e+00, 1.64025079e+00, 1.66023575e+00,\n",
       "        1.68022070e+00, 1.70020566e+00, 1.72019061e+00, 1.74017557e+00,\n",
       "        1.76016053e+00, 1.78014548e+00, 1.80013044e+00, 1.82011540e+00,\n",
       "        1.84010035e+00, 1.86008531e+00, 1.88007026e+00, 1.90005522e+00,\n",
       "        1.92004018e+00, 1.94002513e+00, 1.96001009e+00, 1.97999504e+00,\n",
       "        1.99998000e+00]),\n",
       " <a list of 100 Patch objects>)"
      ]
     },
     "execution_count": 6,
     "metadata": {},
     "output_type": "execute_result"
    },
    {
     "data": {
      "image/png": "[encoded data removed]",
      "text/plain": [
       "<Figure size 432x288 with 1 Axes>"
      ]
     },
     "metadata": {},
     "output_type": "display_data"
    }
   ],
   "source": [
    "plt.hist(G_S, bins = 100, color='green', label = r'$\\beta = 1$', alpha=1, histtype='bar', ec='black')"
   ]
  },
  {
   "cell_type": "code",
   "execution_count": 7,
   "metadata": {},
   "outputs": [
    {
     "data": {
      "text/plain": [
       "(array([ 504.,  546.,  463.,  534.,  499.,  517.,  537.,  539.,  523.,\n",
       "         550.,  548.,  547.,  541.,  535.,  546.,  543.,  553.,  555.,\n",
       "         525.,  603.,  618.,  567.,  593.,  589.,  539.,  569.,  573.,\n",
       "         608.,  588.,  601.,  589.,  582.,  608.,  632.,  599.,  630.,\n",
       "         645.,  640.,  624.,  657.,  665.,  665.,  638.,  698.,  654.,\n",
       "         681.,  726.,  710.,  699.,  723.,  689.,  680.,  749.,  742.,\n",
       "         739.,  731.,  767.,  753.,  762.,  746.,  838.,  826.,  821.,\n",
       "         801.,  893.,  790.,  901.,  877.,  844.,  923.,  929.,  920.,\n",
       "         969.,  968.,  965., 1019., 1062.,  961., 1117., 1053., 1111.,\n",
       "        1209., 1172., 1252., 1288., 1299., 1384., 1321., 1461., 1562.,\n",
       "        1645., 1673., 1811., 1992., 2135., 2355., 2621., 3132., 4129.,\n",
       "        9995.]),\n",
       " array([1.65982000e-05, 5.01643222e-03, 1.00162662e-02, 1.50161003e-02,\n",
       "        2.00159343e-02, 2.50157683e-02, 3.00156023e-02, 3.50154363e-02,\n",
       "        4.00152703e-02, 4.50151044e-02, 5.00149384e-02, 5.50147724e-02,\n",
       "        6.00146064e-02, 6.50144404e-02, 7.00142745e-02, 7.50141085e-02,\n",
       "        8.00139425e-02, 8.50137765e-02, 9.00136105e-02, 9.50134445e-02,\n",
       "        1.00013279e-01, 1.05013113e-01, 1.10012947e-01, 1.15012781e-01,\n",
       "        1.20012615e-01, 1.25012449e-01, 1.30012283e-01, 1.35012117e-01,\n",
       "        1.40011951e-01, 1.45011785e-01, 1.50011619e-01, 1.55011453e-01,\n",
       "        1.60011287e-01, 1.65011121e-01, 1.70010955e-01, 1.75010789e-01,\n",
       "        1.80010623e-01, 1.85010457e-01, 1.90010291e-01, 1.95010125e-01,\n",
       "        2.00009959e-01, 2.05009793e-01, 2.10009627e-01, 2.15009461e-01,\n",
       "        2.20009295e-01, 2.25009129e-01, 2.30008963e-01, 2.35008797e-01,\n",
       "        2.40008631e-01, 2.45008465e-01, 2.50008299e-01, 2.55008133e-01,\n",
       "        2.60007967e-01, 2.65007801e-01, 2.70007635e-01, 2.75007469e-01,\n",
       "        2.80007303e-01, 2.85007137e-01, 2.90006971e-01, 2.95006805e-01,\n",
       "        3.00006639e-01, 3.05006473e-01, 3.10006307e-01, 3.15006141e-01,\n",
       "        3.20005975e-01, 3.25005809e-01, 3.30005643e-01, 3.35005477e-01,\n",
       "        3.40005311e-01, 3.45005145e-01, 3.50004979e-01, 3.55004813e-01,\n",
       "        3.60004647e-01, 3.65004482e-01, 3.70004316e-01, 3.75004150e-01,\n",
       "        3.80003984e-01, 3.85003818e-01, 3.90003652e-01, 3.95003486e-01,\n",
       "        4.00003320e-01, 4.05003154e-01, 4.10002988e-01, 4.15002822e-01,\n",
       "        4.20002656e-01, 4.25002490e-01, 4.30002324e-01, 4.35002158e-01,\n",
       "        4.40001992e-01, 4.45001826e-01, 4.50001660e-01, 4.55001494e-01,\n",
       "        4.60001328e-01, 4.65001162e-01, 4.70000996e-01, 4.75000830e-01,\n",
       "        4.80000664e-01, 4.85000498e-01, 4.90000332e-01, 4.95000166e-01,\n",
       "        5.00000000e-01]),\n",
       " <a list of 100 Patch objects>)"
      ]
     },
     "execution_count": 7,
     "metadata": {},
     "output_type": "execute_result"
    },
    {
     "data": {
      "image/png": "[encoded data removed]",
      "text/plain": [
       "<Figure size 432x288 with 1 Axes>"
      ]
     },
     "metadata": {},
     "output_type": "display_data"
    }
   ],
   "source": [
    "plt.hist(R_S, bins = 100, color='green', label = r'$\\beta = 1$', alpha=1, histtype='bar', ec='black')"
   ]
  },
  {
   "cell_type": "code",
   "execution_count": null,
   "metadata": {},
   "outputs": [],
   "source": []
  }
 ],
 "metadata": {
  "kernelspec": {
   "display_name": "Python 3",
   "language": "python",
   "name": "python3"
  },
  "language_info": {
   "codemirror_mode": {
    "name": "ipython",
    "version": 3
   },
   "file_extension": ".py",
   "mimetype": "text/x-python",
   "name": "python",
   "nbconvert_exporter": "python",
   "pygments_lexer": "ipython3",
   "version": "3.6.9"
  }
 },
 "nbformat": 4,
 "nbformat_minor": 2
}
