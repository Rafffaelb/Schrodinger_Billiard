{
 "cells": [
  {
   "cell_type": "code",
   "execution_count": 1,
   "metadata": {},
   "outputs": [],
   "source": [
    "import numpy as np\n",
    "import matplotlib.pyplot as plt\n",
    "import pandas as pd"
   ]
  },
  {
   "cell_type": "code",
   "execution_count": 2,
   "metadata": {},
   "outputs": [],
   "source": [
    "df = pd.read_csv(r'G_O.txt', sep='\\t')"
   ]
  },
  {
   "cell_type": "code",
   "execution_count": 3,
   "metadata": {},
   "outputs": [
    {
     "data": {
      "text/html": [
       "<div>\n",
       "<style scoped>\n",
       "    .dataframe tbody tr th:only-of-type {\n",
       "        vertical-align: middle;\n",
       "    }\n",
       "\n",
       "    .dataframe tbody tr th {\n",
       "        vertical-align: top;\n",
       "    }\n",
       "\n",
       "    .dataframe thead th {\n",
       "        text-align: right;\n",
       "    }\n",
       "</style>\n",
       "<table border=\"1\" class=\"dataframe\">\n",
       "  <thead>\n",
       "    <tr style=\"text-align: right;\">\n",
       "      <th></th>\n",
       "      <th>0.814864</th>\n",
       "      <th>0.943699</th>\n",
       "      <th>1.31759</th>\n",
       "      <th>2.11299</th>\n",
       "      <th>2.15732</th>\n",
       "      <th>2.39049</th>\n",
       "      <th>3.51141</th>\n",
       "      <th>3.71248</th>\n",
       "      <th>5.26019</th>\n",
       "      <th>8.85131</th>\n",
       "    </tr>\n",
       "  </thead>\n",
       "  <tbody>\n",
       "    <tr>\n",
       "      <th>0</th>\n",
       "      <td>0.887957</td>\n",
       "      <td>0.638970</td>\n",
       "      <td>1.257610</td>\n",
       "      <td>2.42642</td>\n",
       "      <td>2.76040</td>\n",
       "      <td>2.82909</td>\n",
       "      <td>3.63066</td>\n",
       "      <td>3.68072</td>\n",
       "      <td>5.07106</td>\n",
       "      <td>8.47903</td>\n",
       "    </tr>\n",
       "    <tr>\n",
       "      <th>1</th>\n",
       "      <td>0.907119</td>\n",
       "      <td>1.015890</td>\n",
       "      <td>1.622910</td>\n",
       "      <td>2.44717</td>\n",
       "      <td>3.17988</td>\n",
       "      <td>2.45369</td>\n",
       "      <td>3.65786</td>\n",
       "      <td>4.58106</td>\n",
       "      <td>5.10701</td>\n",
       "      <td>8.04226</td>\n",
       "    </tr>\n",
       "    <tr>\n",
       "      <th>2</th>\n",
       "      <td>0.104131</td>\n",
       "      <td>1.007170</td>\n",
       "      <td>1.987090</td>\n",
       "      <td>2.31009</td>\n",
       "      <td>2.26518</td>\n",
       "      <td>3.31280</td>\n",
       "      <td>3.89830</td>\n",
       "      <td>3.84372</td>\n",
       "      <td>5.06688</td>\n",
       "      <td>9.24502</td>\n",
       "    </tr>\n",
       "    <tr>\n",
       "      <th>3</th>\n",
       "      <td>0.000027</td>\n",
       "      <td>0.970875</td>\n",
       "      <td>1.441910</td>\n",
       "      <td>2.25737</td>\n",
       "      <td>2.01916</td>\n",
       "      <td>3.38980</td>\n",
       "      <td>2.97700</td>\n",
       "      <td>4.30188</td>\n",
       "      <td>4.89665</td>\n",
       "      <td>8.20242</td>\n",
       "    </tr>\n",
       "    <tr>\n",
       "      <th>4</th>\n",
       "      <td>0.000029</td>\n",
       "      <td>0.855477</td>\n",
       "      <td>1.763960</td>\n",
       "      <td>2.91902</td>\n",
       "      <td>2.57505</td>\n",
       "      <td>2.73923</td>\n",
       "      <td>3.30751</td>\n",
       "      <td>3.64366</td>\n",
       "      <td>4.81551</td>\n",
       "      <td>7.51181</td>\n",
       "    </tr>\n",
       "    <tr>\n",
       "      <th>...</th>\n",
       "      <td>...</td>\n",
       "      <td>...</td>\n",
       "      <td>...</td>\n",
       "      <td>...</td>\n",
       "      <td>...</td>\n",
       "      <td>...</td>\n",
       "      <td>...</td>\n",
       "      <td>...</td>\n",
       "      <td>...</td>\n",
       "      <td>...</td>\n",
       "    </tr>\n",
       "    <tr>\n",
       "      <th>994</th>\n",
       "      <td>0.304811</td>\n",
       "      <td>1.319480</td>\n",
       "      <td>0.850318</td>\n",
       "      <td>1.84789</td>\n",
       "      <td>2.03624</td>\n",
       "      <td>3.01805</td>\n",
       "      <td>3.58669</td>\n",
       "      <td>4.44034</td>\n",
       "      <td>3.97426</td>\n",
       "      <td>7.73433</td>\n",
       "    </tr>\n",
       "    <tr>\n",
       "      <th>995</th>\n",
       "      <td>0.995872</td>\n",
       "      <td>0.968601</td>\n",
       "      <td>1.682210</td>\n",
       "      <td>1.40380</td>\n",
       "      <td>2.09883</td>\n",
       "      <td>3.40763</td>\n",
       "      <td>4.58193</td>\n",
       "      <td>4.08165</td>\n",
       "      <td>4.29234</td>\n",
       "      <td>7.21402</td>\n",
       "    </tr>\n",
       "    <tr>\n",
       "      <th>996</th>\n",
       "      <td>0.072927</td>\n",
       "      <td>1.003960</td>\n",
       "      <td>1.297050</td>\n",
       "      <td>2.00846</td>\n",
       "      <td>2.76504</td>\n",
       "      <td>2.76513</td>\n",
       "      <td>3.51956</td>\n",
       "      <td>4.53201</td>\n",
       "      <td>5.11797</td>\n",
       "      <td>8.90707</td>\n",
       "    </tr>\n",
       "    <tr>\n",
       "      <th>997</th>\n",
       "      <td>0.043930</td>\n",
       "      <td>1.262520</td>\n",
       "      <td>1.747660</td>\n",
       "      <td>2.07075</td>\n",
       "      <td>2.19854</td>\n",
       "      <td>2.84776</td>\n",
       "      <td>4.13889</td>\n",
       "      <td>3.36839</td>\n",
       "      <td>4.24974</td>\n",
       "      <td>8.48139</td>\n",
       "    </tr>\n",
       "    <tr>\n",
       "      <th>998</th>\n",
       "      <td>0.186503</td>\n",
       "      <td>0.475750</td>\n",
       "      <td>0.977184</td>\n",
       "      <td>1.71893</td>\n",
       "      <td>2.29614</td>\n",
       "      <td>3.79406</td>\n",
       "      <td>4.48673</td>\n",
       "      <td>4.22432</td>\n",
       "      <td>5.43720</td>\n",
       "      <td>9.02896</td>\n",
       "    </tr>\n",
       "  </tbody>\n",
       "</table>\n",
       "<p>999 rows × 10 columns</p>\n",
       "</div>"
      ],
      "text/plain": [
       "     0.814864  0.943699   1.31759  2.11299  2.15732  2.39049  3.51141  \\\n",
       "0    0.887957  0.638970  1.257610  2.42642  2.76040  2.82909  3.63066   \n",
       "1    0.907119  1.015890  1.622910  2.44717  3.17988  2.45369  3.65786   \n",
       "2    0.104131  1.007170  1.987090  2.31009  2.26518  3.31280  3.89830   \n",
       "3    0.000027  0.970875  1.441910  2.25737  2.01916  3.38980  2.97700   \n",
       "4    0.000029  0.855477  1.763960  2.91902  2.57505  2.73923  3.30751   \n",
       "..        ...       ...       ...      ...      ...      ...      ...   \n",
       "994  0.304811  1.319480  0.850318  1.84789  2.03624  3.01805  3.58669   \n",
       "995  0.995872  0.968601  1.682210  1.40380  2.09883  3.40763  4.58193   \n",
       "996  0.072927  1.003960  1.297050  2.00846  2.76504  2.76513  3.51956   \n",
       "997  0.043930  1.262520  1.747660  2.07075  2.19854  2.84776  4.13889   \n",
       "998  0.186503  0.475750  0.977184  1.71893  2.29614  3.79406  4.48673   \n",
       "\n",
       "     3.71248  5.26019  8.85131  \n",
       "0    3.68072  5.07106  8.47903  \n",
       "1    4.58106  5.10701  8.04226  \n",
       "2    3.84372  5.06688  9.24502  \n",
       "3    4.30188  4.89665  8.20242  \n",
       "4    3.64366  4.81551  7.51181  \n",
       "..       ...      ...      ...  \n",
       "994  4.44034  3.97426  7.73433  \n",
       "995  4.08165  4.29234  7.21402  \n",
       "996  4.53201  5.11797  8.90707  \n",
       "997  3.36839  4.24974  8.48139  \n",
       "998  4.22432  5.43720  9.02896  \n",
       "\n",
       "[999 rows x 10 columns]"
      ]
     },
     "execution_count": 3,
     "metadata": {},
     "output_type": "execute_result"
    }
   ],
   "source": [
    "df"
   ]
  },
  {
   "cell_type": "code",
   "execution_count": 3,
   "metadata": {},
   "outputs": [
    {
     "ename": "TypeError",
     "evalue": "'sep' is an invalid keyword argument for this function",
     "output_type": "error",
     "traceback": [
      "\u001b[0;31m---------------------------------------------------------------------------\u001b[0m",
      "\u001b[0;31mTypeError\u001b[0m                                 Traceback (most recent call last)",
      "\u001b[0;32m<ipython-input-3-74d729b3208e>\u001b[0m in \u001b[0;36m<module>\u001b[0;34m()\u001b[0m\n\u001b[0;32m----> 1\u001b[0;31m \u001b[0mG_txt\u001b[0m \u001b[0;34m=\u001b[0m \u001b[0mopen\u001b[0m\u001b[0;34m(\u001b[0m\u001b[0;34m\"G_O.txt\"\u001b[0m\u001b[0;34m,\u001b[0m \u001b[0;34m\"r\"\u001b[0m\u001b[0;34m,\u001b[0m \u001b[0msep\u001b[0m \u001b[0;34m=\u001b[0m \u001b[0;34m'\\t'\u001b[0m\u001b[0;34m)\u001b[0m\u001b[0;34m\u001b[0m\u001b[0;34m\u001b[0m\u001b[0m\n\u001b[0m\u001b[1;32m      2\u001b[0m \u001b[0mG_O\u001b[0m \u001b[0;34m=\u001b[0m \u001b[0;34m[\u001b[0m\u001b[0mfloat\u001b[0m\u001b[0;34m(\u001b[0m\u001b[0mline\u001b[0m\u001b[0;34m)\u001b[0m \u001b[0;32mfor\u001b[0m \u001b[0mline\u001b[0m \u001b[0;32min\u001b[0m \u001b[0mG_txt\u001b[0m\u001b[0;34m.\u001b[0m\u001b[0mreadlines\u001b[0m\u001b[0;34m(\u001b[0m\u001b[0;34m)\u001b[0m\u001b[0;34m]\u001b[0m\u001b[0;34m\u001b[0m\u001b[0;34m\u001b[0m\u001b[0m\n\u001b[1;32m      3\u001b[0m \u001b[0mG_txt\u001b[0m\u001b[0;34m.\u001b[0m\u001b[0mclose\u001b[0m\u001b[0;34m(\u001b[0m\u001b[0;34m)\u001b[0m\u001b[0;34m\u001b[0m\u001b[0;34m\u001b[0m\u001b[0m\n\u001b[1;32m      4\u001b[0m \u001b[0mlen\u001b[0m\u001b[0;34m(\u001b[0m\u001b[0mG_O\u001b[0m\u001b[0;34m)\u001b[0m\u001b[0;34m\u001b[0m\u001b[0;34m\u001b[0m\u001b[0m\n\u001b[1;32m      5\u001b[0m \u001b[0;34m\u001b[0m\u001b[0m\n",
      "\u001b[0;31mTypeError\u001b[0m: 'sep' is an invalid keyword argument for this function"
     ]
    }
   ],
   "source": [
    "G_txt = open(\"G_O.txt\", \"r\", sep = '\\t')\n",
    "G_O = [float(line) for line in G_txt.readlines()]\n",
    "G_txt.close()\n",
    "len(G_O)\n",
    "\n",
    "R_txt = open(\"R_O.txt\", \"r\", sep = '\\t')\n",
    "R_O = [float(line) for line in R_txt.readlines()]\n",
    "R_txt.close()\n",
    "len(R_O)"
   ]
  },
  {
   "cell_type": "code",
   "execution_count": 3,
   "metadata": {},
   "outputs": [
    {
     "data": {
      "text/plain": [
       "(array([4990., 1963., 1572., 1360., 1153., 1032.,  947.,  901.,  863.,\n",
       "         803.,  775.,  760.,  719.,  665.,  664.,  696.,  645.,  580.,\n",
       "         605.,  571.,  558.,  508.,  544.,  493.,  513.,  536.,  533.,\n",
       "         454.,  485.,  448.,  438.,  477.,  421.,  384.,  426.,  422.,\n",
       "         418.,  409.,  402.,  413.,  383.,  367.,  392.,  355.,  405.,\n",
       "         333.,  366.,  318.,  345.,  323.,  340.,  325.,  331.,  370.,\n",
       "         322.,  363.,  308.,  379.,  340.,  313.,  339.,  337.,  343.,\n",
       "         324.,  310.,  312.,  316.,  282.,  311.,  302.,  289.,  273.,\n",
       "         309.,  296.,  310.,  317.,  264.,  300.,  290.,  304.,  250.,\n",
       "         275.,  265.,  268.,  290.,  269.,  277.,  252.,  264.,  284.,\n",
       "         268.,  253.,  263.,  276.,  278.,  258.,  277.,  265.,  268.,\n",
       "         248.]),\n",
       " array([4.89145000e-11, 9.99991005e-03, 1.99998200e-02, 2.99997300e-02,\n",
       "        3.99996400e-02, 4.99995500e-02, 5.99994600e-02, 6.99993700e-02,\n",
       "        7.99992800e-02, 8.99991900e-02, 9.99991000e-02, 1.09999010e-01,\n",
       "        1.19998920e-01, 1.29998830e-01, 1.39998740e-01, 1.49998650e-01,\n",
       "        1.59998560e-01, 1.69998470e-01, 1.79998380e-01, 1.89998290e-01,\n",
       "        1.99998200e-01, 2.09998110e-01, 2.19998020e-01, 2.29997930e-01,\n",
       "        2.39997840e-01, 2.49997750e-01, 2.59997660e-01, 2.69997570e-01,\n",
       "        2.79997480e-01, 2.89997390e-01, 2.99997300e-01, 3.09997210e-01,\n",
       "        3.19997120e-01, 3.29997030e-01, 3.39996940e-01, 3.49996850e-01,\n",
       "        3.59996760e-01, 3.69996670e-01, 3.79996580e-01, 3.89996490e-01,\n",
       "        3.99996400e-01, 4.09996310e-01, 4.19996220e-01, 4.29996130e-01,\n",
       "        4.39996040e-01, 4.49995950e-01, 4.59995860e-01, 4.69995770e-01,\n",
       "        4.79995680e-01, 4.89995590e-01, 4.99995500e-01, 5.09995410e-01,\n",
       "        5.19995320e-01, 5.29995230e-01, 5.39995140e-01, 5.49995050e-01,\n",
       "        5.59994960e-01, 5.69994870e-01, 5.79994780e-01, 5.89994690e-01,\n",
       "        5.99994600e-01, 6.09994510e-01, 6.19994420e-01, 6.29994330e-01,\n",
       "        6.39994240e-01, 6.49994150e-01, 6.59994060e-01, 6.69993970e-01,\n",
       "        6.79993880e-01, 6.89993790e-01, 6.99993700e-01, 7.09993610e-01,\n",
       "        7.19993520e-01, 7.29993430e-01, 7.39993340e-01, 7.49993250e-01,\n",
       "        7.59993160e-01, 7.69993070e-01, 7.79992980e-01, 7.89992890e-01,\n",
       "        7.99992800e-01, 8.09992710e-01, 8.19992620e-01, 8.29992530e-01,\n",
       "        8.39992440e-01, 8.49992350e-01, 8.59992260e-01, 8.69992170e-01,\n",
       "        8.79992080e-01, 8.89991990e-01, 8.99991900e-01, 9.09991810e-01,\n",
       "        9.19991720e-01, 9.29991630e-01, 9.39991540e-01, 9.49991450e-01,\n",
       "        9.59991360e-01, 9.69991270e-01, 9.79991180e-01, 9.89991090e-01,\n",
       "        9.99991000e-01]),\n",
       " <a list of 100 Patch objects>)"
      ]
     },
     "execution_count": 3,
     "metadata": {},
     "output_type": "execute_result"
    },
    {
     "data": {
      "image/png": "[encoded data removed]",
      "text/plain": [
       "<Figure size 432x288 with 1 Axes>"
      ]
     },
     "metadata": {},
     "output_type": "display_data"
    }
   ],
   "source": [
    "plt.hist(G_O, bins = 100, color='blue', label = r'$\\beta = 1$', alpha=1, histtype='bar', ec='black')"
   ]
  },
  {
   "cell_type": "code",
   "execution_count": 4,
   "metadata": {},
   "outputs": [
    {
     "data": {
      "text/plain": [
       "(array([2479., 1112.,  918.,  754.,  658.,  580.,  538.,  541.,  505.,\n",
       "         472.,  466.,  459.,  443.,  444.,  404.,  427.,  385.,  404.,\n",
       "         365.,  381.,  373.,  355.,  359.,  368.,  347.,  336.,  360.,\n",
       "         358.,  330.,  348.,  359.,  324.,  293.,  329.,  354.,  310.,\n",
       "         337.,  352.,  317.,  346.,  325.,  320.,  337.,  319.,  334.,\n",
       "         312.,  286.,  371.,  334.,  331.,  308.,  329.,  383.,  351.,\n",
       "         337.,  346.,  322.,  325.,  336.,  354.,  358.,  322.,  351.,\n",
       "         331.,  378.,  367.,  329.,  357.,  357.,  388.,  386.,  351.,\n",
       "         366.,  380.,  432.,  449.,  407.,  441.,  450.,  414.,  423.,\n",
       "         445.,  441.,  463.,  456.,  534.,  523.,  519.,  489.,  543.,\n",
       "         605.,  641.,  662.,  729.,  789.,  897.,  950., 1171., 1483.,\n",
       "        3373.]),\n",
       " array([4.89145000e-11, 2.50000005e-03, 5.00000005e-03, 7.50000005e-03,\n",
       "        1.00000000e-02, 1.25000000e-02, 1.50000000e-02, 1.75000000e-02,\n",
       "        2.00000000e-02, 2.25000000e-02, 2.50000000e-02, 2.75000000e-02,\n",
       "        3.00000000e-02, 3.25000000e-02, 3.50000000e-02, 3.75000000e-02,\n",
       "        4.00000000e-02, 4.25000000e-02, 4.50000000e-02, 4.75000000e-02,\n",
       "        5.00000000e-02, 5.25000000e-02, 5.50000000e-02, 5.75000000e-02,\n",
       "        6.00000000e-02, 6.25000000e-02, 6.50000000e-02, 6.75000000e-02,\n",
       "        7.00000000e-02, 7.25000000e-02, 7.50000000e-02, 7.75000000e-02,\n",
       "        8.00000000e-02, 8.25000000e-02, 8.50000000e-02, 8.75000000e-02,\n",
       "        9.00000000e-02, 9.25000000e-02, 9.50000000e-02, 9.75000000e-02,\n",
       "        1.00000000e-01, 1.02500000e-01, 1.05000000e-01, 1.07500000e-01,\n",
       "        1.10000000e-01, 1.12500000e-01, 1.15000000e-01, 1.17500000e-01,\n",
       "        1.20000000e-01, 1.22500000e-01, 1.25000000e-01, 1.27500000e-01,\n",
       "        1.30000000e-01, 1.32500000e-01, 1.35000000e-01, 1.37500000e-01,\n",
       "        1.40000000e-01, 1.42500000e-01, 1.45000000e-01, 1.47500000e-01,\n",
       "        1.50000000e-01, 1.52500000e-01, 1.55000000e-01, 1.57500000e-01,\n",
       "        1.60000000e-01, 1.62500000e-01, 1.65000000e-01, 1.67500000e-01,\n",
       "        1.70000000e-01, 1.72500000e-01, 1.75000000e-01, 1.77500000e-01,\n",
       "        1.80000000e-01, 1.82500000e-01, 1.85000000e-01, 1.87500000e-01,\n",
       "        1.90000000e-01, 1.92500000e-01, 1.95000000e-01, 1.97500000e-01,\n",
       "        2.00000000e-01, 2.02500000e-01, 2.05000000e-01, 2.07500000e-01,\n",
       "        2.10000000e-01, 2.12500000e-01, 2.15000000e-01, 2.17500000e-01,\n",
       "        2.20000000e-01, 2.22500000e-01, 2.25000000e-01, 2.27500000e-01,\n",
       "        2.30000000e-01, 2.32500000e-01, 2.35000000e-01, 2.37500000e-01,\n",
       "        2.40000000e-01, 2.42500000e-01, 2.45000000e-01, 2.47500000e-01,\n",
       "        2.50000000e-01]),\n",
       " <a list of 100 Patch objects>)"
      ]
     },
     "execution_count": 4,
     "metadata": {},
     "output_type": "execute_result"
    },
    {
     "data": {
      "image/png": "[encoded data removed]",
      "text/plain": [
       "<Figure size 432x288 with 1 Axes>"
      ]
     },
     "metadata": {},
     "output_type": "display_data"
    }
   ],
   "source": [
    "plt.hist(R_O, bins = 100, color='blue', label = r'$\\beta = 1$', alpha=1, histtype='bar', ec='black')"
   ]
  },
  {
   "cell_type": "code",
   "execution_count": 5,
   "metadata": {},
   "outputs": [
    {
     "data": {
      "text/plain": [
       "0.3358438138926073"
      ]
     },
     "execution_count": 5,
     "metadata": {},
     "output_type": "execute_result"
    }
   ],
   "source": [
    "np.mean(G_O)"
   ]
  },
  {
   "cell_type": "code",
   "execution_count": 6,
   "metadata": {},
   "outputs": [
    {
     "data": {
      "text/plain": [
       "0.0895623651937486"
      ]
     },
     "execution_count": 6,
     "metadata": {},
     "output_type": "execute_result"
    }
   ],
   "source": [
    "np.var(G_O)"
   ]
  },
  {
   "cell_type": "code",
   "execution_count": null,
   "metadata": {},
   "outputs": [],
   "source": []
  }
 ],
 "metadata": {
  "kernelspec": {
   "display_name": "Python 3",
   "language": "python",
   "name": "python3"
  },
  "language_info": {
   "codemirror_mode": {
    "name": "ipython",
    "version": 3
   },
   "file_extension": ".py",
   "mimetype": "text/x-python",
   "name": "python",
   "nbconvert_exporter": "python",
   "pygments_lexer": "ipython3",
   "version": "3.6.9"
  }
 },
 "nbformat": 4,
 "nbformat_minor": 2
}
