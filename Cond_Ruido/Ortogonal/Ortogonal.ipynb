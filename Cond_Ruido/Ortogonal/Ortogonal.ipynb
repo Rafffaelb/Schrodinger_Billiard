{
 "cells": [
  {
   "cell_type": "code",
   "execution_count": 1,
   "metadata": {},
   "outputs": [],
   "source": [
    "import numpy as np\n",
    "import matplotlib.pyplot as plt"
   ]
  },
  {
   "cell_type": "code",
   "execution_count": 2,
   "metadata": {},
   "outputs": [
    {
     "data": {
      "text/plain": [
       "50000"
      ]
     },
     "execution_count": 2,
     "metadata": {},
     "output_type": "execute_result"
    }
   ],
   "source": [
    "G_txt = open(\"G_O.txt\", \"r\")\n",
    "G_O = [float(line) for line in G_txt.readlines()]\n",
    "G_txt.close()\n",
    "len(G_O)\n",
    "\n",
    "R_txt = open(\"R_O.txt\", \"r\")\n",
    "R_O = [float(line) for line in R_txt.readlines()]\n",
    "R_txt.close()\n",
    "len(R_O)"
   ]
  },
  {
   "cell_type": "code",
   "execution_count": 3,
   "metadata": {},
   "outputs": [
    {
     "data": {
      "text/plain": [
       "(array([5077., 1985., 1604., 1380., 1155., 1051., 1000.,  922.,  886.,\n",
       "         839.,  741.,  757.,  707.,  684.,  628.,  647.,  578.,  640.,\n",
       "         591.,  618.,  556.,  544.,  487.,  533.,  510.,  470.,  469.,\n",
       "         466.,  438.,  459.,  452.,  470.,  423.,  461.,  396.,  405.,\n",
       "         409.,  405.,  395.,  407.,  420.,  382.,  367.,  378.,  382.,\n",
       "         359.,  382.,  354.,  323.,  347.,  333.,  358.,  302.,  363.,\n",
       "         337.,  350.,  362.,  316.,  342.,  322.,  342.,  337.,  307.,\n",
       "         273.,  315.,  308.,  303.,  305.,  319.,  311.,  302.,  286.,\n",
       "         302.,  279.,  263.,  277.,  266.,  309.,  260.,  287.,  298.,\n",
       "         275.,  239.,  260.,  265.,  275.,  280.,  262.,  275.,  235.,\n",
       "         275.,  303.,  246.,  253.,  275.,  262.,  246.,  269.,  292.,\n",
       "         240.]),\n",
       " array([8.45640000e-09, 9.99973837e-03, 1.99994683e-02, 2.99991982e-02,\n",
       "        3.99989281e-02, 4.99986580e-02, 5.99983879e-02, 6.99981179e-02,\n",
       "        7.99978478e-02, 8.99975777e-02, 9.99973076e-02, 1.09997038e-01,\n",
       "        1.19996767e-01, 1.29996497e-01, 1.39996227e-01, 1.49995957e-01,\n",
       "        1.59995687e-01, 1.69995417e-01, 1.79995147e-01, 1.89994877e-01,\n",
       "        1.99994607e-01, 2.09994337e-01, 2.19994067e-01, 2.29993797e-01,\n",
       "        2.39993526e-01, 2.49993256e-01, 2.59992986e-01, 2.69992716e-01,\n",
       "        2.79992446e-01, 2.89992176e-01, 2.99991906e-01, 3.09991636e-01,\n",
       "        3.19991366e-01, 3.29991096e-01, 3.39990826e-01, 3.49990555e-01,\n",
       "        3.59990285e-01, 3.69990015e-01, 3.79989745e-01, 3.89989475e-01,\n",
       "        3.99989205e-01, 4.09988935e-01, 4.19988665e-01, 4.29988395e-01,\n",
       "        4.39988125e-01, 4.49987855e-01, 4.59987585e-01, 4.69987314e-01,\n",
       "        4.79987044e-01, 4.89986774e-01, 4.99986504e-01, 5.09986234e-01,\n",
       "        5.19985964e-01, 5.29985694e-01, 5.39985424e-01, 5.49985154e-01,\n",
       "        5.59984884e-01, 5.69984614e-01, 5.79984344e-01, 5.89984073e-01,\n",
       "        5.99983803e-01, 6.09983533e-01, 6.19983263e-01, 6.29982993e-01,\n",
       "        6.39982723e-01, 6.49982453e-01, 6.59982183e-01, 6.69981913e-01,\n",
       "        6.79981643e-01, 6.89981373e-01, 6.99981103e-01, 7.09980832e-01,\n",
       "        7.19980562e-01, 7.29980292e-01, 7.39980022e-01, 7.49979752e-01,\n",
       "        7.59979482e-01, 7.69979212e-01, 7.79978942e-01, 7.89978672e-01,\n",
       "        7.99978402e-01, 8.09978132e-01, 8.19977862e-01, 8.29977591e-01,\n",
       "        8.39977321e-01, 8.49977051e-01, 8.59976781e-01, 8.69976511e-01,\n",
       "        8.79976241e-01, 8.89975971e-01, 8.99975701e-01, 9.09975431e-01,\n",
       "        9.19975161e-01, 9.29974891e-01, 9.39974621e-01, 9.49974350e-01,\n",
       "        9.59974080e-01, 9.69973810e-01, 9.79973540e-01, 9.89973270e-01,\n",
       "        9.99973000e-01]),\n",
       " <a list of 100 Patch objects>)"
      ]
     },
     "execution_count": 3,
     "metadata": {},
     "output_type": "execute_result"
    },
    {
     "data": {
      "image/png": "[encoded data removed]",
      "text/plain": [
       "<Figure size 432x288 with 1 Axes>"
      ]
     },
     "metadata": {},
     "output_type": "display_data"
    }
   ],
   "source": [
    "plt.hist(G_O, bins = 100, color='blue', label = r'$\\beta = 1$', alpha=1, histtype='bar', ec='black')"
   ]
  },
  {
   "cell_type": "code",
   "execution_count": 4,
   "metadata": {},
   "outputs": [
    {
     "data": {
      "text/plain": [
       "(array([2596., 1119.,  837.,  790.,  655.,  598.,  539.,  546.,  512.,\n",
       "         529.,  454.,  423.,  464.,  469.,  430.,  359.,  397.,  396.,\n",
       "         397.,  371.,  386.,  372.,  342.,  365.,  373.,  357.,  348.,\n",
       "         350.,  335.,  350.,  362.,  362.,  337.,  351.,  332.,  355.,\n",
       "         325.,  303.,  305.,  311.,  365.,  313.,  366.,  298.,  325.,\n",
       "         311.,  329.,  336.,  323.,  312.,  324.,  337.,  357.,  285.,\n",
       "         315.,  321.,  332.,  343.,  326.,  344.,  341.,  360.,  377.,\n",
       "         371.,  371.,  346.,  346.,  338.,  377.,  349.,  368.,  378.,\n",
       "         391.,  385.,  382.,  390.,  357.,  384.,  419.,  417.,  438.,\n",
       "         428.,  438.,  462.,  490.,  535.,  511.,  522.,  554.,  581.,\n",
       "         557.,  610.,  642.,  677.,  788.,  879.,  984., 1113., 1523.,\n",
       "        3457.]),\n",
       " array([8.45640000e-09, 2.50000837e-03, 5.00000829e-03, 7.50000820e-03,\n",
       "        1.00000081e-02, 1.25000080e-02, 1.50000079e-02, 1.75000079e-02,\n",
       "        2.00000078e-02, 2.25000077e-02, 2.50000076e-02, 2.75000075e-02,\n",
       "        3.00000074e-02, 3.25000074e-02, 3.50000073e-02, 3.75000072e-02,\n",
       "        4.00000071e-02, 4.25000070e-02, 4.50000069e-02, 4.75000068e-02,\n",
       "        5.00000068e-02, 5.25000067e-02, 5.50000066e-02, 5.75000065e-02,\n",
       "        6.00000064e-02, 6.25000063e-02, 6.50000063e-02, 6.75000062e-02,\n",
       "        7.00000061e-02, 7.25000060e-02, 7.50000059e-02, 7.75000058e-02,\n",
       "        8.00000058e-02, 8.25000057e-02, 8.50000056e-02, 8.75000055e-02,\n",
       "        9.00000054e-02, 9.25000053e-02, 9.50000052e-02, 9.75000052e-02,\n",
       "        1.00000005e-01, 1.02500005e-01, 1.05000005e-01, 1.07500005e-01,\n",
       "        1.10000005e-01, 1.12500005e-01, 1.15000005e-01, 1.17500004e-01,\n",
       "        1.20000004e-01, 1.22500004e-01, 1.25000004e-01, 1.27500004e-01,\n",
       "        1.30000004e-01, 1.32500004e-01, 1.35000004e-01, 1.37500004e-01,\n",
       "        1.40000004e-01, 1.42500004e-01, 1.45000004e-01, 1.47500003e-01,\n",
       "        1.50000003e-01, 1.52500003e-01, 1.55000003e-01, 1.57500003e-01,\n",
       "        1.60000003e-01, 1.62500003e-01, 1.65000003e-01, 1.67500003e-01,\n",
       "        1.70000003e-01, 1.72500003e-01, 1.75000003e-01, 1.77500002e-01,\n",
       "        1.80000002e-01, 1.82500002e-01, 1.85000002e-01, 1.87500002e-01,\n",
       "        1.90000002e-01, 1.92500002e-01, 1.95000002e-01, 1.97500002e-01,\n",
       "        2.00000002e-01, 2.02500002e-01, 2.05000002e-01, 2.07500001e-01,\n",
       "        2.10000001e-01, 2.12500001e-01, 2.15000001e-01, 2.17500001e-01,\n",
       "        2.20000001e-01, 2.22500001e-01, 2.25000001e-01, 2.27500001e-01,\n",
       "        2.30000001e-01, 2.32500001e-01, 2.35000001e-01, 2.37500000e-01,\n",
       "        2.40000000e-01, 2.42500000e-01, 2.45000000e-01, 2.47500000e-01,\n",
       "        2.50000000e-01]),\n",
       " <a list of 100 Patch objects>)"
      ]
     },
     "execution_count": 4,
     "metadata": {},
     "output_type": "execute_result"
    },
    {
     "data": {
      "image/png": "[encoded data removed]",
      "text/plain": [
       "<Figure size 432x288 with 1 Axes>"
      ]
     },
     "metadata": {},
     "output_type": "display_data"
    }
   ],
   "source": [
    "plt.hist(R_O, bins = 100, color='blue', label = r'$\\beta = 1$', alpha=1, histtype='bar', ec='black')"
   ]
  },
  {
   "cell_type": "code",
   "execution_count": 5,
   "metadata": {},
   "outputs": [
    {
     "data": {
      "text/plain": [
       "0.33309959353935154"
      ]
     },
     "execution_count": 5,
     "metadata": {},
     "output_type": "execute_result"
    }
   ],
   "source": [
    "np.mean(G_O)"
   ]
  },
  {
   "cell_type": "code",
   "execution_count": 6,
   "metadata": {},
   "outputs": [
    {
     "data": {
      "text/plain": [
       "0.08928793141275963"
      ]
     },
     "execution_count": 6,
     "metadata": {},
     "output_type": "execute_result"
    }
   ],
   "source": [
    "np.var(G_O)"
   ]
  },
  {
   "cell_type": "code",
   "execution_count": null,
   "metadata": {},
   "outputs": [],
   "source": []
  }
 ],
 "metadata": {
  "kernelspec": {
   "display_name": "Python 3",
   "language": "python",
   "name": "python3"
  },
  "language_info": {
   "codemirror_mode": {
    "name": "ipython",
    "version": 3
   },
   "file_extension": ".py",
   "mimetype": "text/x-python",
   "name": "python",
   "nbconvert_exporter": "python",
   "pygments_lexer": "ipython3",
   "version": "3.6.9"
  }
 },
 "nbformat": 4,
 "nbformat_minor": 2
}
