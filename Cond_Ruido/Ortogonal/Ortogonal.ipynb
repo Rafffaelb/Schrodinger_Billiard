{
 "cells": [
  {
   "cell_type": "code",
   "execution_count": 21,
   "metadata": {},
   "outputs": [],
   "source": [
    "import numpy as np\n",
    "import matplotlib.pyplot as plt\n",
    "import pandas as pd"
   ]
  },
  {
   "cell_type": "code",
   "execution_count": 22,
   "metadata": {},
   "outputs": [],
   "source": [
    "df_G = pd.read_csv(r'G_O.txt', sep='\\t', header = None)\n",
    "df_R = pd.read_csv(r'R_O.txt', sep='\\t', header = None)"
   ]
  },
  {
   "cell_type": "code",
   "execution_count": 23,
   "metadata": {},
   "outputs": [
    {
     "data": {
      "text/html": [
       "<div>\n",
       "<style scoped>\n",
       "    .dataframe tbody tr th:only-of-type {\n",
       "        vertical-align: middle;\n",
       "    }\n",
       "\n",
       "    .dataframe tbody tr th {\n",
       "        vertical-align: top;\n",
       "    }\n",
       "\n",
       "    .dataframe thead th {\n",
       "        text-align: right;\n",
       "    }\n",
       "</style>\n",
       "<table border=\"1\" class=\"dataframe\">\n",
       "  <thead>\n",
       "    <tr style=\"text-align: right;\">\n",
       "      <th></th>\n",
       "      <th>0</th>\n",
       "      <th>1</th>\n",
       "      <th>2</th>\n",
       "      <th>3</th>\n",
       "      <th>4</th>\n",
       "      <th>5</th>\n",
       "      <th>6</th>\n",
       "      <th>7</th>\n",
       "      <th>8</th>\n",
       "      <th>9</th>\n",
       "    </tr>\n",
       "  </thead>\n",
       "  <tbody>\n",
       "    <tr>\n",
       "      <th>0</th>\n",
       "      <td>0.814864</td>\n",
       "      <td>0.943699</td>\n",
       "      <td>1.317590</td>\n",
       "      <td>2.11299</td>\n",
       "      <td>2.15732</td>\n",
       "      <td>2.39049</td>\n",
       "      <td>3.51141</td>\n",
       "      <td>3.71248</td>\n",
       "      <td>5.26019</td>\n",
       "      <td>8.85131</td>\n",
       "    </tr>\n",
       "    <tr>\n",
       "      <th>1</th>\n",
       "      <td>0.887957</td>\n",
       "      <td>0.638970</td>\n",
       "      <td>1.257610</td>\n",
       "      <td>2.42642</td>\n",
       "      <td>2.76040</td>\n",
       "      <td>2.82909</td>\n",
       "      <td>3.63066</td>\n",
       "      <td>3.68072</td>\n",
       "      <td>5.07106</td>\n",
       "      <td>8.47903</td>\n",
       "    </tr>\n",
       "    <tr>\n",
       "      <th>2</th>\n",
       "      <td>0.907119</td>\n",
       "      <td>1.015890</td>\n",
       "      <td>1.622910</td>\n",
       "      <td>2.44717</td>\n",
       "      <td>3.17988</td>\n",
       "      <td>2.45369</td>\n",
       "      <td>3.65786</td>\n",
       "      <td>4.58106</td>\n",
       "      <td>5.10701</td>\n",
       "      <td>8.04226</td>\n",
       "    </tr>\n",
       "    <tr>\n",
       "      <th>3</th>\n",
       "      <td>0.104131</td>\n",
       "      <td>1.007170</td>\n",
       "      <td>1.987090</td>\n",
       "      <td>2.31009</td>\n",
       "      <td>2.26518</td>\n",
       "      <td>3.31280</td>\n",
       "      <td>3.89830</td>\n",
       "      <td>3.84372</td>\n",
       "      <td>5.06688</td>\n",
       "      <td>9.24502</td>\n",
       "    </tr>\n",
       "    <tr>\n",
       "      <th>4</th>\n",
       "      <td>0.000027</td>\n",
       "      <td>0.970875</td>\n",
       "      <td>1.441910</td>\n",
       "      <td>2.25737</td>\n",
       "      <td>2.01916</td>\n",
       "      <td>3.38980</td>\n",
       "      <td>2.97700</td>\n",
       "      <td>4.30188</td>\n",
       "      <td>4.89665</td>\n",
       "      <td>8.20242</td>\n",
       "    </tr>\n",
       "    <tr>\n",
       "      <th>...</th>\n",
       "      <td>...</td>\n",
       "      <td>...</td>\n",
       "      <td>...</td>\n",
       "      <td>...</td>\n",
       "      <td>...</td>\n",
       "      <td>...</td>\n",
       "      <td>...</td>\n",
       "      <td>...</td>\n",
       "      <td>...</td>\n",
       "      <td>...</td>\n",
       "    </tr>\n",
       "    <tr>\n",
       "      <th>995</th>\n",
       "      <td>0.304811</td>\n",
       "      <td>1.319480</td>\n",
       "      <td>0.850318</td>\n",
       "      <td>1.84789</td>\n",
       "      <td>2.03624</td>\n",
       "      <td>3.01805</td>\n",
       "      <td>3.58669</td>\n",
       "      <td>4.44034</td>\n",
       "      <td>3.97426</td>\n",
       "      <td>7.73433</td>\n",
       "    </tr>\n",
       "    <tr>\n",
       "      <th>996</th>\n",
       "      <td>0.995872</td>\n",
       "      <td>0.968601</td>\n",
       "      <td>1.682210</td>\n",
       "      <td>1.40380</td>\n",
       "      <td>2.09883</td>\n",
       "      <td>3.40763</td>\n",
       "      <td>4.58193</td>\n",
       "      <td>4.08165</td>\n",
       "      <td>4.29234</td>\n",
       "      <td>7.21402</td>\n",
       "    </tr>\n",
       "    <tr>\n",
       "      <th>997</th>\n",
       "      <td>0.072927</td>\n",
       "      <td>1.003960</td>\n",
       "      <td>1.297050</td>\n",
       "      <td>2.00846</td>\n",
       "      <td>2.76504</td>\n",
       "      <td>2.76513</td>\n",
       "      <td>3.51956</td>\n",
       "      <td>4.53201</td>\n",
       "      <td>5.11797</td>\n",
       "      <td>8.90707</td>\n",
       "    </tr>\n",
       "    <tr>\n",
       "      <th>998</th>\n",
       "      <td>0.043930</td>\n",
       "      <td>1.262520</td>\n",
       "      <td>1.747660</td>\n",
       "      <td>2.07075</td>\n",
       "      <td>2.19854</td>\n",
       "      <td>2.84776</td>\n",
       "      <td>4.13889</td>\n",
       "      <td>3.36839</td>\n",
       "      <td>4.24974</td>\n",
       "      <td>8.48139</td>\n",
       "    </tr>\n",
       "    <tr>\n",
       "      <th>999</th>\n",
       "      <td>0.186503</td>\n",
       "      <td>0.475750</td>\n",
       "      <td>0.977184</td>\n",
       "      <td>1.71893</td>\n",
       "      <td>2.29614</td>\n",
       "      <td>3.79406</td>\n",
       "      <td>4.48673</td>\n",
       "      <td>4.22432</td>\n",
       "      <td>5.43720</td>\n",
       "      <td>9.02896</td>\n",
       "    </tr>\n",
       "  </tbody>\n",
       "</table>\n",
       "<p>1000 rows × 10 columns</p>\n",
       "</div>"
      ],
      "text/plain": [
       "            0         1         2        3        4        5        6  \\\n",
       "0    0.814864  0.943699  1.317590  2.11299  2.15732  2.39049  3.51141   \n",
       "1    0.887957  0.638970  1.257610  2.42642  2.76040  2.82909  3.63066   \n",
       "2    0.907119  1.015890  1.622910  2.44717  3.17988  2.45369  3.65786   \n",
       "3    0.104131  1.007170  1.987090  2.31009  2.26518  3.31280  3.89830   \n",
       "4    0.000027  0.970875  1.441910  2.25737  2.01916  3.38980  2.97700   \n",
       "..        ...       ...       ...      ...      ...      ...      ...   \n",
       "995  0.304811  1.319480  0.850318  1.84789  2.03624  3.01805  3.58669   \n",
       "996  0.995872  0.968601  1.682210  1.40380  2.09883  3.40763  4.58193   \n",
       "997  0.072927  1.003960  1.297050  2.00846  2.76504  2.76513  3.51956   \n",
       "998  0.043930  1.262520  1.747660  2.07075  2.19854  2.84776  4.13889   \n",
       "999  0.186503  0.475750  0.977184  1.71893  2.29614  3.79406  4.48673   \n",
       "\n",
       "           7        8        9  \n",
       "0    3.71248  5.26019  8.85131  \n",
       "1    3.68072  5.07106  8.47903  \n",
       "2    4.58106  5.10701  8.04226  \n",
       "3    3.84372  5.06688  9.24502  \n",
       "4    4.30188  4.89665  8.20242  \n",
       "..       ...      ...      ...  \n",
       "995  4.44034  3.97426  7.73433  \n",
       "996  4.08165  4.29234  7.21402  \n",
       "997  4.53201  5.11797  8.90707  \n",
       "998  3.36839  4.24974  8.48139  \n",
       "999  4.22432  5.43720  9.02896  \n",
       "\n",
       "[1000 rows x 10 columns]"
      ]
     },
     "execution_count": 23,
     "metadata": {},
     "output_type": "execute_result"
    }
   ],
   "source": [
    "df_G"
   ]
  },
  {
   "cell_type": "code",
   "execution_count": 24,
   "metadata": {},
   "outputs": [
    {
     "data": {
      "text/plain": [
       "1000"
      ]
     },
     "execution_count": 24,
     "metadata": {},
     "output_type": "execute_result"
    }
   ],
   "source": [
    "G_O = df_G[9].values\n",
    "R_O = df_R[9].values\n",
    "len(G_O)"
   ]
  },
  {
   "cell_type": "code",
   "execution_count": 25,
   "metadata": {},
   "outputs": [
    {
     "data": {
      "text/plain": [
       "(array([ 1.,  0.,  0.,  0.,  0.,  0.,  0.,  1.,  0.,  0.,  1.,  1.,  1.,\n",
       "         0.,  0.,  2.,  1.,  2.,  2.,  2.,  6.,  3.,  3.,  3.,  8.,  8.,\n",
       "         8.,  4.,  9.,  8., 10.,  8., 12., 12., 14., 18., 16., 11., 29.,\n",
       "        19., 30., 24., 24., 25., 18., 23., 38., 25., 23., 39., 27., 23.,\n",
       "        26., 28., 25., 18., 24., 15., 22., 28., 16., 21., 13., 16., 16.,\n",
       "        18., 19., 11., 17., 15.,  8., 11., 13.,  8., 12.,  7.,  7.,  9.,\n",
       "         2.,  5.,  3.,  1.,  4.,  3.,  2.,  0.,  4.,  2.,  2.,  1.,  0.,\n",
       "         0.,  4.,  0.,  0.,  0.,  0.,  0.,  0.,  2.]),\n",
       " array([6.2601   , 6.2957465, 6.331393 , 6.3670395, 6.402686 , 6.4383325,\n",
       "        6.473979 , 6.5096255, 6.545272 , 6.5809185, 6.616565 , 6.6522115,\n",
       "        6.687858 , 6.7235045, 6.759151 , 6.7947975, 6.830444 , 6.8660905,\n",
       "        6.901737 , 6.9373835, 6.97303  , 7.0086765, 7.044323 , 7.0799695,\n",
       "        7.115616 , 7.1512625, 7.186909 , 7.2225555, 7.258202 , 7.2938485,\n",
       "        7.329495 , 7.3651415, 7.400788 , 7.4364345, 7.472081 , 7.5077275,\n",
       "        7.543374 , 7.5790205, 7.614667 , 7.6503135, 7.68596  , 7.7216065,\n",
       "        7.757253 , 7.7928995, 7.828546 , 7.8641925, 7.899839 , 7.9354855,\n",
       "        7.971132 , 8.0067785, 8.042425 , 8.0780715, 8.113718 , 8.1493645,\n",
       "        8.185011 , 8.2206575, 8.256304 , 8.2919505, 8.327597 , 8.3632435,\n",
       "        8.39889  , 8.4345365, 8.470183 , 8.5058295, 8.541476 , 8.5771225,\n",
       "        8.612769 , 8.6484155, 8.684062 , 8.7197085, 8.755355 , 8.7910015,\n",
       "        8.826648 , 8.8622945, 8.897941 , 8.9335875, 8.969234 , 9.0048805,\n",
       "        9.040527 , 9.0761735, 9.11182  , 9.1474665, 9.183113 , 9.2187595,\n",
       "        9.254406 , 9.2900525, 9.325699 , 9.3613455, 9.396992 , 9.4326385,\n",
       "        9.468285 , 9.5039315, 9.539578 , 9.5752245, 9.610871 , 9.6465175,\n",
       "        9.682164 , 9.7178105, 9.753457 , 9.7891035, 9.82475  ]),\n",
       " <a list of 100 Patch objects>)"
      ]
     },
     "execution_count": 25,
     "metadata": {},
     "output_type": "execute_result"
    },
    {
     "data": {
      "image/png": "[encoded data removed]",
      "text/plain": [
       "<Figure size 432x288 with 1 Axes>"
      ]
     },
     "metadata": {},
     "output_type": "display_data"
    }
   ],
   "source": [
    "plt.hist(G_O, bins = 100, color='blue', label = r'$\\beta = 1$', alpha=1, histtype='bar', ec='black')"
   ]
  },
  {
   "cell_type": "code",
   "execution_count": 26,
   "metadata": {},
   "outputs": [
    {
     "data": {
      "text/plain": [
       "(array([ 1.,  0.,  1.,  0.,  0.,  1.,  1.,  0.,  1.,  0.,  0.,  0.,  1.,\n",
       "         0.,  1.,  2.,  2.,  3.,  1.,  2.,  3.,  3.,  3.,  3.,  4.,  3.,\n",
       "         4.,  3.,  6., 12.,  9.,  5.,  9., 16., 11., 14., 14., 13., 14.,\n",
       "        15., 13., 11., 20., 21., 19., 24., 21., 23., 26., 22., 19., 19.,\n",
       "        21., 24., 29., 24., 29., 27., 37., 25., 19., 22., 26., 21., 27.,\n",
       "        20., 32., 23., 15., 11.,  7., 13., 10., 17., 10.,  8., 13., 14.,\n",
       "         6.,  7.,  6.,  6.,  5.,  3.,  4.,  2.,  3.,  2.,  2.,  1.,  0.,\n",
       "         2.,  3.,  0.,  1.,  1.,  1.,  0.,  1.,  1.]),\n",
       " array([-9.43055  , -9.3484558, -9.2663616, -9.1842674, -9.1021732,\n",
       "        -9.020079 , -8.9379848, -8.8558906, -8.7737964, -8.6917022,\n",
       "        -8.609608 , -8.5275138, -8.4454196, -8.3633254, -8.2812312,\n",
       "        -8.199137 , -8.1170428, -8.0349486, -7.9528544, -7.8707602,\n",
       "        -7.788666 , -7.7065718, -7.6244776, -7.5423834, -7.4602892,\n",
       "        -7.378195 , -7.2961008, -7.2140066, -7.1319124, -7.0498182,\n",
       "        -6.967724 , -6.8856298, -6.8035356, -6.7214414, -6.6393472,\n",
       "        -6.557253 , -6.4751588, -6.3930646, -6.3109704, -6.2288762,\n",
       "        -6.146782 , -6.0646878, -5.9825936, -5.9004994, -5.8184052,\n",
       "        -5.736311 , -5.6542168, -5.5721226, -5.4900284, -5.4079342,\n",
       "        -5.32584  , -5.2437458, -5.1616516, -5.0795574, -4.9974632,\n",
       "        -4.915369 , -4.8332748, -4.7511806, -4.6690864, -4.5869922,\n",
       "        -4.504898 , -4.4228038, -4.3407096, -4.2586154, -4.1765212,\n",
       "        -4.094427 , -4.0123328, -3.9302386, -3.8481444, -3.7660502,\n",
       "        -3.683956 , -3.6018618, -3.5197676, -3.4376734, -3.3555792,\n",
       "        -3.273485 , -3.1913908, -3.1092966, -3.0272024, -2.9451082,\n",
       "        -2.863014 , -2.7809198, -2.6988256, -2.6167314, -2.5346372,\n",
       "        -2.452543 , -2.3704488, -2.2883546, -2.2062604, -2.1241662,\n",
       "        -2.042072 , -1.9599778, -1.8778836, -1.7957894, -1.7136952,\n",
       "        -1.631601 , -1.5495068, -1.4674126, -1.3853184, -1.3032242,\n",
       "        -1.22113  ]),\n",
       " <a list of 100 Patch objects>)"
      ]
     },
     "execution_count": 26,
     "metadata": {},
     "output_type": "execute_result"
    },
    {
     "data": {
      "image/png": "[encoded data removed]",
      "text/plain": [
       "<Figure size 432x288 with 1 Axes>"
      ]
     },
     "metadata": {},
     "output_type": "display_data"
    }
   ],
   "source": [
    "plt.hist(R_O, bins = 100, color='blue', label = r'$\\beta = 1$', alpha=1, histtype='bar', ec='black')"
   ]
  },
  {
   "cell_type": "code",
   "execution_count": 27,
   "metadata": {},
   "outputs": [
    {
     "data": {
      "text/plain": [
       "8.08609062"
      ]
     },
     "execution_count": 27,
     "metadata": {},
     "output_type": "execute_result"
    }
   ],
   "source": [
    "np.mean(G_O)"
   ]
  },
  {
   "cell_type": "code",
   "execution_count": 28,
   "metadata": {},
   "outputs": [
    {
     "data": {
      "text/plain": [
       "0.28496648388861556"
      ]
     },
     "execution_count": 28,
     "metadata": {},
     "output_type": "execute_result"
    }
   ],
   "source": [
    "np.var(G_O)"
   ]
  },
  {
   "cell_type": "code",
   "execution_count": null,
   "metadata": {},
   "outputs": [],
   "source": []
  },
  {
   "cell_type": "code",
   "execution_count": null,
   "metadata": {},
   "outputs": [],
   "source": []
  }
 ],
 "metadata": {
  "kernelspec": {
   "display_name": "Python 3",
   "language": "python",
   "name": "python3"
  },
  "language_info": {
   "codemirror_mode": {
    "name": "ipython",
    "version": 3
   },
   "file_extension": ".py",
   "mimetype": "text/x-python",
   "name": "python",
   "nbconvert_exporter": "python",
   "pygments_lexer": "ipython3",
   "version": "3.6.9"
  }
 },
 "nbformat": 4,
 "nbformat_minor": 2
}
