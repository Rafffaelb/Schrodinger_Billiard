{
 "cells": [
  {
   "cell_type": "code",
   "execution_count": 1,
   "metadata": {},
   "outputs": [],
   "source": [
    "import numpy as np\n",
    "import matplotlib.pyplot as plt\n",
    "import pandas as pd"
   ]
  },
  {
   "cell_type": "code",
   "execution_count": 2,
   "metadata": {},
   "outputs": [],
   "source": [
    "df_G = pd.read_csv(r'G_O.txt', sep='\\t', header = None)\n",
    "df_R = pd.read_csv(r'R_O.txt', sep='\\t', header = None)"
   ]
  },
  {
   "cell_type": "code",
   "execution_count": 3,
   "metadata": {},
   "outputs": [
    {
     "data": {
      "text/html": [
       "<div>\n",
       "<style scoped>\n",
       "    .dataframe tbody tr th:only-of-type {\n",
       "        vertical-align: middle;\n",
       "    }\n",
       "\n",
       "    .dataframe tbody tr th {\n",
       "        vertical-align: top;\n",
       "    }\n",
       "\n",
       "    .dataframe thead th {\n",
       "        text-align: right;\n",
       "    }\n",
       "</style>\n",
       "<table border=\"1\" class=\"dataframe\">\n",
       "  <thead>\n",
       "    <tr style=\"text-align: right;\">\n",
       "      <th></th>\n",
       "      <th>0</th>\n",
       "      <th>1</th>\n",
       "      <th>2</th>\n",
       "      <th>3</th>\n",
       "      <th>4</th>\n",
       "      <th>5</th>\n",
       "      <th>6</th>\n",
       "      <th>7</th>\n",
       "      <th>8</th>\n",
       "      <th>9</th>\n",
       "    </tr>\n",
       "  </thead>\n",
       "  <tbody>\n",
       "    <tr>\n",
       "      <th>0</th>\n",
       "      <td>0.256102</td>\n",
       "      <td>0.682914</td>\n",
       "      <td>1.355510</td>\n",
       "      <td>1.33833</td>\n",
       "      <td>4.37790</td>\n",
       "      <td>6.65701</td>\n",
       "      <td>3.57997</td>\n",
       "      <td>3.53318</td>\n",
       "      <td>8.11437</td>\n",
       "      <td>9.75327</td>\n",
       "    </tr>\n",
       "    <tr>\n",
       "      <th>1</th>\n",
       "      <td>0.635751</td>\n",
       "      <td>1.044720</td>\n",
       "      <td>1.204150</td>\n",
       "      <td>1.96374</td>\n",
       "      <td>5.56106</td>\n",
       "      <td>8.40377</td>\n",
       "      <td>3.53833</td>\n",
       "      <td>4.00827</td>\n",
       "      <td>8.92577</td>\n",
       "      <td>10.13610</td>\n",
       "    </tr>\n",
       "    <tr>\n",
       "      <th>2</th>\n",
       "      <td>0.409406</td>\n",
       "      <td>0.345231</td>\n",
       "      <td>1.548950</td>\n",
       "      <td>1.94896</td>\n",
       "      <td>4.08774</td>\n",
       "      <td>6.96146</td>\n",
       "      <td>5.10800</td>\n",
       "      <td>4.39217</td>\n",
       "      <td>8.29737</td>\n",
       "      <td>10.26490</td>\n",
       "    </tr>\n",
       "    <tr>\n",
       "      <th>3</th>\n",
       "      <td>0.370663</td>\n",
       "      <td>0.445440</td>\n",
       "      <td>1.259320</td>\n",
       "      <td>1.83094</td>\n",
       "      <td>4.54221</td>\n",
       "      <td>7.66551</td>\n",
       "      <td>4.35839</td>\n",
       "      <td>3.50063</td>\n",
       "      <td>8.14226</td>\n",
       "      <td>9.31005</td>\n",
       "    </tr>\n",
       "    <tr>\n",
       "      <th>4</th>\n",
       "      <td>0.921749</td>\n",
       "      <td>0.640396</td>\n",
       "      <td>1.033970</td>\n",
       "      <td>1.57681</td>\n",
       "      <td>3.62308</td>\n",
       "      <td>8.65538</td>\n",
       "      <td>3.99279</td>\n",
       "      <td>4.24510</td>\n",
       "      <td>8.39887</td>\n",
       "      <td>9.12492</td>\n",
       "    </tr>\n",
       "    <tr>\n",
       "      <th>...</th>\n",
       "      <td>...</td>\n",
       "      <td>...</td>\n",
       "      <td>...</td>\n",
       "      <td>...</td>\n",
       "      <td>...</td>\n",
       "      <td>...</td>\n",
       "      <td>...</td>\n",
       "      <td>...</td>\n",
       "      <td>...</td>\n",
       "      <td>...</td>\n",
       "    </tr>\n",
       "    <tr>\n",
       "      <th>99995</th>\n",
       "      <td>0.181841</td>\n",
       "      <td>0.773982</td>\n",
       "      <td>1.049030</td>\n",
       "      <td>1.52511</td>\n",
       "      <td>4.59908</td>\n",
       "      <td>7.21512</td>\n",
       "      <td>4.66522</td>\n",
       "      <td>4.04976</td>\n",
       "      <td>8.01423</td>\n",
       "      <td>9.60971</td>\n",
       "    </tr>\n",
       "    <tr>\n",
       "      <th>99996</th>\n",
       "      <td>0.068338</td>\n",
       "      <td>0.586289</td>\n",
       "      <td>0.884604</td>\n",
       "      <td>2.15563</td>\n",
       "      <td>3.94339</td>\n",
       "      <td>7.95251</td>\n",
       "      <td>4.40367</td>\n",
       "      <td>4.24724</td>\n",
       "      <td>7.00963</td>\n",
       "      <td>10.02430</td>\n",
       "    </tr>\n",
       "    <tr>\n",
       "      <th>99997</th>\n",
       "      <td>0.118192</td>\n",
       "      <td>0.379385</td>\n",
       "      <td>1.149840</td>\n",
       "      <td>2.13761</td>\n",
       "      <td>4.53888</td>\n",
       "      <td>7.67918</td>\n",
       "      <td>3.38109</td>\n",
       "      <td>3.96432</td>\n",
       "      <td>8.94010</td>\n",
       "      <td>9.00074</td>\n",
       "    </tr>\n",
       "    <tr>\n",
       "      <th>99998</th>\n",
       "      <td>0.004438</td>\n",
       "      <td>0.101371</td>\n",
       "      <td>1.392530</td>\n",
       "      <td>1.84431</td>\n",
       "      <td>3.94951</td>\n",
       "      <td>7.70294</td>\n",
       "      <td>4.09084</td>\n",
       "      <td>3.94694</td>\n",
       "      <td>9.33365</td>\n",
       "      <td>9.20459</td>\n",
       "    </tr>\n",
       "    <tr>\n",
       "      <th>99999</th>\n",
       "      <td>0.751476</td>\n",
       "      <td>1.055250</td>\n",
       "      <td>1.425040</td>\n",
       "      <td>1.99225</td>\n",
       "      <td>4.27654</td>\n",
       "      <td>7.04052</td>\n",
       "      <td>4.52814</td>\n",
       "      <td>3.65349</td>\n",
       "      <td>8.91765</td>\n",
       "      <td>9.88366</td>\n",
       "    </tr>\n",
       "  </tbody>\n",
       "</table>\n",
       "<p>100000 rows × 10 columns</p>\n",
       "</div>"
      ],
      "text/plain": [
       "              0         1         2        3        4        5        6  \\\n",
       "0      0.256102  0.682914  1.355510  1.33833  4.37790  6.65701  3.57997   \n",
       "1      0.635751  1.044720  1.204150  1.96374  5.56106  8.40377  3.53833   \n",
       "2      0.409406  0.345231  1.548950  1.94896  4.08774  6.96146  5.10800   \n",
       "3      0.370663  0.445440  1.259320  1.83094  4.54221  7.66551  4.35839   \n",
       "4      0.921749  0.640396  1.033970  1.57681  3.62308  8.65538  3.99279   \n",
       "...         ...       ...       ...      ...      ...      ...      ...   \n",
       "99995  0.181841  0.773982  1.049030  1.52511  4.59908  7.21512  4.66522   \n",
       "99996  0.068338  0.586289  0.884604  2.15563  3.94339  7.95251  4.40367   \n",
       "99997  0.118192  0.379385  1.149840  2.13761  4.53888  7.67918  3.38109   \n",
       "99998  0.004438  0.101371  1.392530  1.84431  3.94951  7.70294  4.09084   \n",
       "99999  0.751476  1.055250  1.425040  1.99225  4.27654  7.04052  4.52814   \n",
       "\n",
       "             7        8         9  \n",
       "0      3.53318  8.11437   9.75327  \n",
       "1      4.00827  8.92577  10.13610  \n",
       "2      4.39217  8.29737  10.26490  \n",
       "3      3.50063  8.14226   9.31005  \n",
       "4      4.24510  8.39887   9.12492  \n",
       "...        ...      ...       ...  \n",
       "99995  4.04976  8.01423   9.60971  \n",
       "99996  4.24724  7.00963  10.02430  \n",
       "99997  3.96432  8.94010   9.00074  \n",
       "99998  3.94694  9.33365   9.20459  \n",
       "99999  3.65349  8.91765   9.88366  \n",
       "\n",
       "[100000 rows x 10 columns]"
      ]
     },
     "execution_count": 3,
     "metadata": {},
     "output_type": "execute_result"
    }
   ],
   "source": [
    "df_G"
   ]
  },
  {
   "cell_type": "code",
   "execution_count": 21,
   "metadata": {},
   "outputs": [
    {
     "data": {
      "text/plain": [
       "100000"
      ]
     },
     "execution_count": 21,
     "metadata": {},
     "output_type": "execute_result"
    }
   ],
   "source": [
    "G_O = df_G[9].values\n",
    "R_O = df_R[9].values\n",
    "len(G_O)"
   ]
  },
  {
   "cell_type": "code",
   "execution_count": 22,
   "metadata": {},
   "outputs": [
    {
     "data": {
      "text/plain": [
       "(array([1.000e+00, 0.000e+00, 0.000e+00, 0.000e+00, 2.000e+00, 1.000e+00,\n",
       "        1.000e+00, 7.000e+00, 2.000e+00, 6.000e+00, 1.700e+01, 1.900e+01,\n",
       "        1.900e+01, 3.000e+01, 3.600e+01, 6.400e+01, 6.900e+01, 1.070e+02,\n",
       "        1.610e+02, 1.790e+02, 2.240e+02, 2.770e+02, 3.460e+02, 4.280e+02,\n",
       "        5.780e+02, 6.670e+02, 7.790e+02, 8.710e+02, 1.083e+03, 1.264e+03,\n",
       "        1.433e+03, 1.566e+03, 1.772e+03, 2.026e+03, 2.269e+03, 2.407e+03,\n",
       "        2.648e+03, 2.794e+03, 3.020e+03, 3.240e+03, 3.286e+03, 3.562e+03,\n",
       "        3.529e+03, 3.587e+03, 3.646e+03, 3.721e+03, 3.664e+03, 3.572e+03,\n",
       "        3.493e+03, 3.407e+03, 3.339e+03, 3.126e+03, 3.026e+03, 2.804e+03,\n",
       "        2.641e+03, 2.433e+03, 2.125e+03, 1.965e+03, 1.744e+03, 1.569e+03,\n",
       "        1.432e+03, 1.282e+03, 1.102e+03, 8.890e+02, 8.350e+02, 6.770e+02,\n",
       "        5.900e+02, 4.860e+02, 3.820e+02, 2.970e+02, 2.680e+02, 2.300e+02,\n",
       "        1.940e+02, 1.580e+02, 1.220e+02, 8.200e+01, 6.100e+01, 5.500e+01,\n",
       "        6.300e+01, 3.100e+01, 2.800e+01, 2.000e+01, 1.700e+01, 1.800e+01,\n",
       "        1.100e+01, 2.000e+00, 6.000e+00, 2.000e+00, 1.000e+00, 2.000e+00,\n",
       "        2.000e+00, 1.000e+00, 0.000e+00, 0.000e+00, 0.000e+00, 1.000e+00,\n",
       "        0.000e+00, 0.000e+00, 0.000e+00, 1.000e+00]),\n",
       " array([ 6.56578  ,  6.6368242,  6.7078684,  6.7789126,  6.8499568,\n",
       "         6.921001 ,  6.9920452,  7.0630894,  7.1341336,  7.2051778,\n",
       "         7.276222 ,  7.3472662,  7.4183104,  7.4893546,  7.5603988,\n",
       "         7.631443 ,  7.7024872,  7.7735314,  7.8445756,  7.9156198,\n",
       "         7.986664 ,  8.0577082,  8.1287524,  8.1997966,  8.2708408,\n",
       "         8.341885 ,  8.4129292,  8.4839734,  8.5550176,  8.6260618,\n",
       "         8.697106 ,  8.7681502,  8.8391944,  8.9102386,  8.9812828,\n",
       "         9.052327 ,  9.1233712,  9.1944154,  9.2654596,  9.3365038,\n",
       "         9.407548 ,  9.4785922,  9.5496364,  9.6206806,  9.6917248,\n",
       "         9.762769 ,  9.8338132,  9.9048574,  9.9759016, 10.0469458,\n",
       "        10.11799  , 10.1890342, 10.2600784, 10.3311226, 10.4021668,\n",
       "        10.473211 , 10.5442552, 10.6152994, 10.6863436, 10.7573878,\n",
       "        10.828432 , 10.8994762, 10.9705204, 11.0415646, 11.1126088,\n",
       "        11.183653 , 11.2546972, 11.3257414, 11.3967856, 11.4678298,\n",
       "        11.538874 , 11.6099182, 11.6809624, 11.7520066, 11.8230508,\n",
       "        11.894095 , 11.9651392, 12.0361834, 12.1072276, 12.1782718,\n",
       "        12.249316 , 12.3203602, 12.3914044, 12.4624486, 12.5334928,\n",
       "        12.604537 , 12.6755812, 12.7466254, 12.8176696, 12.8887138,\n",
       "        12.959758 , 13.0308022, 13.1018464, 13.1728906, 13.2439348,\n",
       "        13.314979 , 13.3860232, 13.4570674, 13.5281116, 13.5991558,\n",
       "        13.6702   ]),\n",
       " <a list of 100 Patch objects>)"
      ]
     },
     "execution_count": 22,
     "metadata": {},
     "output_type": "execute_result"
    },
    {
     "data": {
      "image/png": "[encoded data removed]",
      "text/plain": [
       "<Figure size 432x288 with 1 Axes>"
      ]
     },
     "metadata": {},
     "output_type": "display_data"
    }
   ],
   "source": [
    "plt.hist(G_O, bins = 100, color='blue', label = r'$\\beta = 1$', alpha=1, histtype='bar', ec='black')"
   ]
  },
  {
   "cell_type": "code",
   "execution_count": 23,
   "metadata": {},
   "outputs": [
    {
     "data": {
      "text/plain": [
       "(array([1.000e+00, 0.000e+00, 1.000e+00, 0.000e+00, 0.000e+00, 0.000e+00,\n",
       "        0.000e+00, 1.000e+00, 0.000e+00, 2.000e+00, 2.000e+00, 5.000e+00,\n",
       "        4.000e+00, 3.000e+00, 5.000e+00, 9.000e+00, 9.000e+00, 1.900e+01,\n",
       "        1.400e+01, 1.300e+01, 3.600e+01, 3.700e+01, 3.800e+01, 3.700e+01,\n",
       "        6.200e+01, 7.100e+01, 9.500e+01, 9.800e+01, 9.900e+01, 1.540e+02,\n",
       "        1.580e+02, 2.000e+02, 2.260e+02, 2.920e+02, 3.050e+02, 3.700e+02,\n",
       "        3.980e+02, 5.430e+02, 5.700e+02, 7.010e+02, 8.280e+02, 8.990e+02,\n",
       "        1.056e+03, 1.149e+03, 1.239e+03, 1.436e+03, 1.513e+03, 1.775e+03,\n",
       "        1.955e+03, 2.018e+03, 2.233e+03, 2.367e+03, 2.500e+03, 2.663e+03,\n",
       "        2.835e+03, 3.025e+03, 3.134e+03, 3.264e+03, 3.329e+03, 3.380e+03,\n",
       "        3.389e+03, 3.405e+03, 3.429e+03, 3.442e+03, 3.270e+03, 3.254e+03,\n",
       "        3.176e+03, 3.149e+03, 2.878e+03, 2.652e+03, 2.585e+03, 2.407e+03,\n",
       "        2.164e+03, 2.006e+03, 1.801e+03, 1.660e+03, 1.412e+03, 1.202e+03,\n",
       "        1.069e+03, 9.280e+02, 7.860e+02, 6.300e+02, 4.940e+02, 4.060e+02,\n",
       "        3.200e+02, 2.510e+02, 1.910e+02, 1.330e+02, 8.700e+01, 9.000e+01,\n",
       "        4.300e+01, 4.500e+01, 2.700e+01, 2.500e+01, 5.000e+00, 4.000e+00,\n",
       "        5.000e+00, 1.000e+00, 0.000e+00, 3.000e+00]),\n",
       " array([-18.7373   , -18.5651652, -18.3930304, -18.2208956, -18.0487608,\n",
       "        -17.876626 , -17.7044912, -17.5323564, -17.3602216, -17.1880868,\n",
       "        -17.015952 , -16.8438172, -16.6716824, -16.4995476, -16.3274128,\n",
       "        -16.155278 , -15.9831432, -15.8110084, -15.6388736, -15.4667388,\n",
       "        -15.294604 , -15.1224692, -14.9503344, -14.7781996, -14.6060648,\n",
       "        -14.43393  , -14.2617952, -14.0896604, -13.9175256, -13.7453908,\n",
       "        -13.573256 , -13.4011212, -13.2289864, -13.0568516, -12.8847168,\n",
       "        -12.712582 , -12.5404472, -12.3683124, -12.1961776, -12.0240428,\n",
       "        -11.851908 , -11.6797732, -11.5076384, -11.3355036, -11.1633688,\n",
       "        -10.991234 , -10.8190992, -10.6469644, -10.4748296, -10.3026948,\n",
       "        -10.13056  ,  -9.9584252,  -9.7862904,  -9.6141556,  -9.4420208,\n",
       "         -9.269886 ,  -9.0977512,  -8.9256164,  -8.7534816,  -8.5813468,\n",
       "         -8.409212 ,  -8.2370772,  -8.0649424,  -7.8928076,  -7.7206728,\n",
       "         -7.548538 ,  -7.3764032,  -7.2042684,  -7.0321336,  -6.8599988,\n",
       "         -6.687864 ,  -6.5157292,  -6.3435944,  -6.1714596,  -5.9993248,\n",
       "         -5.82719  ,  -5.6550552,  -5.4829204,  -5.3107856,  -5.1386508,\n",
       "         -4.966516 ,  -4.7943812,  -4.6222464,  -4.4501116,  -4.2779768,\n",
       "         -4.105842 ,  -3.9337072,  -3.7615724,  -3.5894376,  -3.4173028,\n",
       "         -3.245168 ,  -3.0730332,  -2.9008984,  -2.7287636,  -2.5566288,\n",
       "         -2.384494 ,  -2.2123592,  -2.0402244,  -1.8680896,  -1.6959548,\n",
       "         -1.52382  ]),\n",
       " <a list of 100 Patch objects>)"
      ]
     },
     "execution_count": 23,
     "metadata": {},
     "output_type": "execute_result"
    },
    {
     "data": {
      "image/png": "[encoded data removed]",
      "text/plain": [
       "<Figure size 432x288 with 1 Axes>"
      ]
     },
     "metadata": {},
     "output_type": "display_data"
    }
   ],
   "source": [
    "plt.hist(R_O, bins = 100, color='blue', label = r'$\\beta = 1$', alpha=1, histtype='bar', ec='black')"
   ]
  },
  {
   "cell_type": "code",
   "execution_count": 24,
   "metadata": {},
   "outputs": [
    {
     "data": {
      "text/plain": [
       "9.8086915807"
      ]
     },
     "execution_count": 24,
     "metadata": {},
     "output_type": "execute_result"
    }
   ],
   "source": [
    "np.mean(G_O)"
   ]
  },
  {
   "cell_type": "code",
   "execution_count": 25,
   "metadata": {},
   "outputs": [
    {
     "data": {
      "text/plain": [
       "0.5881202727823642"
      ]
     },
     "execution_count": 25,
     "metadata": {},
     "output_type": "execute_result"
    }
   ],
   "source": [
    "np.var(G_O)"
   ]
  },
  {
   "cell_type": "code",
   "execution_count": 31,
   "metadata": {},
   "outputs": [],
   "source": [
    "G = df_G[0:9].values"
   ]
  },
  {
   "cell_type": "code",
   "execution_count": 32,
   "metadata": {
    "scrolled": false
   },
   "outputs": [
    {
     "ename": "ValueError",
     "evalue": "x and y must be the same size",
     "output_type": "error",
     "traceback": [
      "\u001b[0;31m---------------------------------------------------------------------------\u001b[0m",
      "\u001b[0;31mValueError\u001b[0m                                Traceback (most recent call last)",
      "\u001b[0;32m<ipython-input-32-18619b820111>\u001b[0m in \u001b[0;36m<module>\u001b[0;34m()\u001b[0m\n\u001b[0;32m----> 1\u001b[0;31m \u001b[0mplt\u001b[0m\u001b[0;34m.\u001b[0m\u001b[0mscatter\u001b[0m\u001b[0;34m(\u001b[0m\u001b[0mnp\u001b[0m\u001b[0;34m.\u001b[0m\u001b[0marange\u001b[0m\u001b[0;34m(\u001b[0m\u001b[0;36m1\u001b[0m\u001b[0;34m,\u001b[0m\u001b[0;36m11\u001b[0m\u001b[0;34m)\u001b[0m\u001b[0;34m,\u001b[0m\u001b[0mnp\u001b[0m\u001b[0;34m.\u001b[0m\u001b[0mmean\u001b[0m\u001b[0;34m(\u001b[0m\u001b[0mG_O\u001b[0m\u001b[0;34m,\u001b[0m\u001b[0maxis\u001b[0m\u001b[0;34m=\u001b[0m\u001b[0;36m0\u001b[0m\u001b[0;34m)\u001b[0m\u001b[0;34m)\u001b[0m\u001b[0;34m\u001b[0m\u001b[0;34m\u001b[0m\u001b[0m\n\u001b[0m",
      "\u001b[0;32m/home/rafael/.local/lib/python3.6/site-packages/matplotlib/pyplot.py\u001b[0m in \u001b[0;36mscatter\u001b[0;34m(x, y, s, c, marker, cmap, norm, vmin, vmax, alpha, linewidths, verts, edgecolors, plotnonfinite, data, **kwargs)\u001b[0m\n\u001b[1;32m   2814\u001b[0m         \u001b[0mverts\u001b[0m\u001b[0;34m=\u001b[0m\u001b[0mverts\u001b[0m\u001b[0;34m,\u001b[0m \u001b[0medgecolors\u001b[0m\u001b[0;34m=\u001b[0m\u001b[0medgecolors\u001b[0m\u001b[0;34m,\u001b[0m\u001b[0;34m\u001b[0m\u001b[0;34m\u001b[0m\u001b[0m\n\u001b[1;32m   2815\u001b[0m         plotnonfinite=plotnonfinite, **({\"data\": data} if data is not\n\u001b[0;32m-> 2816\u001b[0;31m         None else {}), **kwargs)\n\u001b[0m\u001b[1;32m   2817\u001b[0m     \u001b[0msci\u001b[0m\u001b[0;34m(\u001b[0m\u001b[0m__ret\u001b[0m\u001b[0;34m)\u001b[0m\u001b[0;34m\u001b[0m\u001b[0;34m\u001b[0m\u001b[0m\n\u001b[1;32m   2818\u001b[0m     \u001b[0;32mreturn\u001b[0m \u001b[0m__ret\u001b[0m\u001b[0;34m\u001b[0m\u001b[0;34m\u001b[0m\u001b[0m\n",
      "\u001b[0;32m/home/rafael/.local/lib/python3.6/site-packages/matplotlib/__init__.py\u001b[0m in \u001b[0;36minner\u001b[0;34m(ax, data, *args, **kwargs)\u001b[0m\n\u001b[1;32m   1563\u001b[0m     \u001b[0;32mdef\u001b[0m \u001b[0minner\u001b[0m\u001b[0;34m(\u001b[0m\u001b[0max\u001b[0m\u001b[0;34m,\u001b[0m \u001b[0;34m*\u001b[0m\u001b[0margs\u001b[0m\u001b[0;34m,\u001b[0m \u001b[0mdata\u001b[0m\u001b[0;34m=\u001b[0m\u001b[0;32mNone\u001b[0m\u001b[0;34m,\u001b[0m \u001b[0;34m**\u001b[0m\u001b[0mkwargs\u001b[0m\u001b[0;34m)\u001b[0m\u001b[0;34m:\u001b[0m\u001b[0;34m\u001b[0m\u001b[0;34m\u001b[0m\u001b[0m\n\u001b[1;32m   1564\u001b[0m         \u001b[0;32mif\u001b[0m \u001b[0mdata\u001b[0m \u001b[0;32mis\u001b[0m \u001b[0;32mNone\u001b[0m\u001b[0;34m:\u001b[0m\u001b[0;34m\u001b[0m\u001b[0;34m\u001b[0m\u001b[0m\n\u001b[0;32m-> 1565\u001b[0;31m             \u001b[0;32mreturn\u001b[0m \u001b[0mfunc\u001b[0m\u001b[0;34m(\u001b[0m\u001b[0max\u001b[0m\u001b[0;34m,\u001b[0m \u001b[0;34m*\u001b[0m\u001b[0mmap\u001b[0m\u001b[0;34m(\u001b[0m\u001b[0msanitize_sequence\u001b[0m\u001b[0;34m,\u001b[0m \u001b[0margs\u001b[0m\u001b[0;34m)\u001b[0m\u001b[0;34m,\u001b[0m \u001b[0;34m**\u001b[0m\u001b[0mkwargs\u001b[0m\u001b[0;34m)\u001b[0m\u001b[0;34m\u001b[0m\u001b[0;34m\u001b[0m\u001b[0m\n\u001b[0m\u001b[1;32m   1566\u001b[0m \u001b[0;34m\u001b[0m\u001b[0m\n\u001b[1;32m   1567\u001b[0m         \u001b[0mbound\u001b[0m \u001b[0;34m=\u001b[0m \u001b[0mnew_sig\u001b[0m\u001b[0;34m.\u001b[0m\u001b[0mbind\u001b[0m\u001b[0;34m(\u001b[0m\u001b[0max\u001b[0m\u001b[0;34m,\u001b[0m \u001b[0;34m*\u001b[0m\u001b[0margs\u001b[0m\u001b[0;34m,\u001b[0m \u001b[0;34m**\u001b[0m\u001b[0mkwargs\u001b[0m\u001b[0;34m)\u001b[0m\u001b[0;34m\u001b[0m\u001b[0;34m\u001b[0m\u001b[0m\n",
      "\u001b[0;32m/home/rafael/.local/lib/python3.6/site-packages/matplotlib/cbook/deprecation.py\u001b[0m in \u001b[0;36mwrapper\u001b[0;34m(*args, **kwargs)\u001b[0m\n\u001b[1;32m    356\u001b[0m                 \u001b[0;34mf\"%(removal)s.  If any parameter follows {name!r}, they \"\u001b[0m\u001b[0;34m\u001b[0m\u001b[0;34m\u001b[0m\u001b[0m\n\u001b[1;32m    357\u001b[0m                 f\"should be pass as keyword, not positionally.\")\n\u001b[0;32m--> 358\u001b[0;31m         \u001b[0;32mreturn\u001b[0m \u001b[0mfunc\u001b[0m\u001b[0;34m(\u001b[0m\u001b[0;34m*\u001b[0m\u001b[0margs\u001b[0m\u001b[0;34m,\u001b[0m \u001b[0;34m**\u001b[0m\u001b[0mkwargs\u001b[0m\u001b[0;34m)\u001b[0m\u001b[0;34m\u001b[0m\u001b[0;34m\u001b[0m\u001b[0m\n\u001b[0m\u001b[1;32m    359\u001b[0m \u001b[0;34m\u001b[0m\u001b[0m\n\u001b[1;32m    360\u001b[0m     \u001b[0;32mreturn\u001b[0m \u001b[0mwrapper\u001b[0m\u001b[0;34m\u001b[0m\u001b[0;34m\u001b[0m\u001b[0m\n",
      "\u001b[0;32m/home/rafael/.local/lib/python3.6/site-packages/matplotlib/axes/_axes.py\u001b[0m in \u001b[0;36mscatter\u001b[0;34m(self, x, y, s, c, marker, cmap, norm, vmin, vmax, alpha, linewidths, verts, edgecolors, plotnonfinite, **kwargs)\u001b[0m\n\u001b[1;32m   4378\u001b[0m         \u001b[0my\u001b[0m \u001b[0;34m=\u001b[0m \u001b[0mnp\u001b[0m\u001b[0;34m.\u001b[0m\u001b[0mma\u001b[0m\u001b[0;34m.\u001b[0m\u001b[0mravel\u001b[0m\u001b[0;34m(\u001b[0m\u001b[0my\u001b[0m\u001b[0;34m)\u001b[0m\u001b[0;34m\u001b[0m\u001b[0;34m\u001b[0m\u001b[0m\n\u001b[1;32m   4379\u001b[0m         \u001b[0;32mif\u001b[0m \u001b[0mx\u001b[0m\u001b[0;34m.\u001b[0m\u001b[0msize\u001b[0m \u001b[0;34m!=\u001b[0m \u001b[0my\u001b[0m\u001b[0;34m.\u001b[0m\u001b[0msize\u001b[0m\u001b[0;34m:\u001b[0m\u001b[0;34m\u001b[0m\u001b[0;34m\u001b[0m\u001b[0m\n\u001b[0;32m-> 4380\u001b[0;31m             \u001b[0;32mraise\u001b[0m \u001b[0mValueError\u001b[0m\u001b[0;34m(\u001b[0m\u001b[0;34m\"x and y must be the same size\"\u001b[0m\u001b[0;34m)\u001b[0m\u001b[0;34m\u001b[0m\u001b[0;34m\u001b[0m\u001b[0m\n\u001b[0m\u001b[1;32m   4381\u001b[0m \u001b[0;34m\u001b[0m\u001b[0m\n\u001b[1;32m   4382\u001b[0m         \u001b[0;32mif\u001b[0m \u001b[0ms\u001b[0m \u001b[0;32mis\u001b[0m \u001b[0;32mNone\u001b[0m\u001b[0;34m:\u001b[0m\u001b[0;34m\u001b[0m\u001b[0;34m\u001b[0m\u001b[0m\n",
      "\u001b[0;31mValueError\u001b[0m: x and y must be the same size"
     ]
    },
    {
     "data": {
      "image/png": "[encoded data removed]",
      "text/plain": [
       "<Figure size 432x288 with 1 Axes>"
      ]
     },
     "metadata": {},
     "output_type": "display_data"
    }
   ],
   "source": [
    "plt.scatter(np.arange(1,11),np.mean(G_O,axis=0))"
   ]
  },
  {
   "cell_type": "code",
   "execution_count": null,
   "metadata": {},
   "outputs": [],
   "source": []
  }
 ],
 "metadata": {
  "kernelspec": {
   "display_name": "Python 3",
   "language": "python",
   "name": "python3"
  },
  "language_info": {
   "codemirror_mode": {
    "name": "ipython",
    "version": 3
   },
   "file_extension": ".py",
   "mimetype": "text/x-python",
   "name": "python",
   "nbconvert_exporter": "python",
   "pygments_lexer": "ipython3",
   "version": "3.6.9"
  }
 },
 "nbformat": 4,
 "nbformat_minor": 2
}
