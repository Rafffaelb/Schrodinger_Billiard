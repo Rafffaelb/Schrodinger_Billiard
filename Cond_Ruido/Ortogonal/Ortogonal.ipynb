{
 "cells": [
  {
   "cell_type": "code",
   "execution_count": 1,
   "metadata": {},
   "outputs": [],
   "source": [
    "import numpy as np\n",
    "import matplotlib.pyplot as plt"
   ]
  },
  {
   "cell_type": "code",
   "execution_count": 2,
   "metadata": {},
   "outputs": [
    {
     "data": {
      "text/plain": [
       "50000"
      ]
     },
     "execution_count": 2,
     "metadata": {},
     "output_type": "execute_result"
    }
   ],
   "source": [
    "G_txt = open(\"G_O.txt\", \"r\")\n",
    "G_O = [float(line) for line in G_txt.readlines()]\n",
    "G_txt.close()\n",
    "len(G_O)\n",
    "\n",
    "R_txt = open(\"R_O.txt\", \"r\")\n",
    "R_O = [float(line) for line in R_txt.readlines()]\n",
    "R_txt.close()\n",
    "len(R_O)"
   ]
  },
  {
   "cell_type": "code",
   "execution_count": 3,
   "metadata": {},
   "outputs": [
    {
     "data": {
      "text/plain": [
       "(array([5003., 2102., 1521., 1345., 1146.,  986.,  985.,  951.,  833.,\n",
       "         825.,  731.,  733.,  721.,  685.,  646.,  646.,  625.,  581.,\n",
       "         567.,  577.,  565.,  511.,  540.,  514.,  540.,  539.,  511.,\n",
       "         486.,  487.,  461.,  447.,  419.,  451.,  426.,  441.,  396.,\n",
       "         392.,  395.,  384.,  391.,  383.,  381.,  385.,  395.,  388.,\n",
       "         391.,  402.,  373.,  334.,  384.,  351.,  375.,  370.,  311.,\n",
       "         320.,  325.,  344.,  325.,  322.,  348.,  329.,  322.,  316.,\n",
       "         328.,  312.,  335.,  279.,  298.,  322.,  341.,  256.,  283.,\n",
       "         315.,  287.,  298.,  271.,  266.,  256.,  331.,  287.,  275.,\n",
       "         296.,  274.,  288.,  273.,  263.,  252.,  247.,  252.,  252.,\n",
       "         281.,  250.,  239.,  256.,  248.,  277.,  261.,  254.,  256.,\n",
       "         262.]),\n",
       " array([9.65155000e-10, 9.99996096e-03, 1.99999209e-02, 2.99998809e-02,\n",
       "        3.99998409e-02, 4.99998009e-02, 5.99997609e-02, 6.99997209e-02,\n",
       "        7.99996809e-02, 8.99996409e-02, 9.99996009e-02, 1.09999561e-01,\n",
       "        1.19999521e-01, 1.29999481e-01, 1.39999441e-01, 1.49999401e-01,\n",
       "        1.59999361e-01, 1.69999321e-01, 1.79999281e-01, 1.89999241e-01,\n",
       "        1.99999201e-01, 2.09999161e-01, 2.19999121e-01, 2.29999081e-01,\n",
       "        2.39999041e-01, 2.49999001e-01, 2.59998961e-01, 2.69998921e-01,\n",
       "        2.79998881e-01, 2.89998841e-01, 2.99998801e-01, 3.09998761e-01,\n",
       "        3.19998721e-01, 3.29998681e-01, 3.39998641e-01, 3.49998601e-01,\n",
       "        3.59998561e-01, 3.69998521e-01, 3.79998481e-01, 3.89998441e-01,\n",
       "        3.99998401e-01, 4.09998361e-01, 4.19998321e-01, 4.29998281e-01,\n",
       "        4.39998241e-01, 4.49998201e-01, 4.59998161e-01, 4.69998121e-01,\n",
       "        4.79998081e-01, 4.89998040e-01, 4.99998000e-01, 5.09997960e-01,\n",
       "        5.19997920e-01, 5.29997880e-01, 5.39997840e-01, 5.49997800e-01,\n",
       "        5.59997760e-01, 5.69997720e-01, 5.79997680e-01, 5.89997640e-01,\n",
       "        5.99997600e-01, 6.09997560e-01, 6.19997520e-01, 6.29997480e-01,\n",
       "        6.39997440e-01, 6.49997400e-01, 6.59997360e-01, 6.69997320e-01,\n",
       "        6.79997280e-01, 6.89997240e-01, 6.99997200e-01, 7.09997160e-01,\n",
       "        7.19997120e-01, 7.29997080e-01, 7.39997040e-01, 7.49997000e-01,\n",
       "        7.59996960e-01, 7.69996920e-01, 7.79996880e-01, 7.89996840e-01,\n",
       "        7.99996800e-01, 8.09996760e-01, 8.19996720e-01, 8.29996680e-01,\n",
       "        8.39996640e-01, 8.49996600e-01, 8.59996560e-01, 8.69996520e-01,\n",
       "        8.79996480e-01, 8.89996440e-01, 8.99996400e-01, 9.09996360e-01,\n",
       "        9.19996320e-01, 9.29996280e-01, 9.39996240e-01, 9.49996200e-01,\n",
       "        9.59996160e-01, 9.69996120e-01, 9.79996080e-01, 9.89996040e-01,\n",
       "        9.99996000e-01]),\n",
       " <a list of 100 Patch objects>)"
      ]
     },
     "execution_count": 3,
     "metadata": {},
     "output_type": "execute_result"
    },
    {
     "data": {
      "image/png": "[encoded data removed]",
      "text/plain": [
       "<Figure size 432x288 with 1 Axes>"
      ]
     },
     "metadata": {},
     "output_type": "display_data"
    }
   ],
   "source": [
    "plt.hist(G_O, bins = 100, color='blue', label = r'$\\beta = 1$', alpha=1, histtype='bar', ec='black')"
   ]
  },
  {
   "cell_type": "code",
   "execution_count": 4,
   "metadata": {},
   "outputs": [
    {
     "data": {
      "text/plain": [
       "(array([2565., 1076.,  911.,  741.,  681.,  627.,  538.,  565.,  471.,\n",
       "         479.,  468.,  442.,  441.,  420.,  438.,  396.,  416.,  385.,\n",
       "         367.,  355.,  356.,  329.,  375.,  338.,  325.,  387.,  373.,\n",
       "         336.,  345.,  340.,  319.,  340.,  311.,  330.,  330.,  365.,\n",
       "         320.,  284.,  332.,  320.,  345.,  280.,  318.,  322.,  338.,\n",
       "         308.,  325.,  323.,  325.,  333.,  309.,  341.,  324.,  345.,\n",
       "         322.,  336.,  359.,  341.,  303.,  344.,  352.,  342.,  345.,\n",
       "         348.,  371.,  365.,  338.,  372.,  373.,  378.,  345.,  366.,\n",
       "         377.,  391.,  405.,  449.,  401.,  412.,  432.,  448.,  459.,\n",
       "         434.,  439.,  449.,  503.,  507.,  505.,  523.,  530.,  559.,\n",
       "         632.,  613.,  644.,  690.,  772.,  846.,  968., 1122., 1506.,\n",
       "        3611.]),\n",
       " array([9.65155000e-10, 2.50000096e-03, 5.00000095e-03, 7.50000094e-03,\n",
       "        1.00000009e-02, 1.25000009e-02, 1.50000009e-02, 1.75000009e-02,\n",
       "        2.00000009e-02, 2.25000009e-02, 2.50000009e-02, 2.75000009e-02,\n",
       "        3.00000008e-02, 3.25000008e-02, 3.50000008e-02, 3.75000008e-02,\n",
       "        4.00000008e-02, 4.25000008e-02, 4.50000008e-02, 4.75000008e-02,\n",
       "        5.00000008e-02, 5.25000008e-02, 5.50000008e-02, 5.75000007e-02,\n",
       "        6.00000007e-02, 6.25000007e-02, 6.50000007e-02, 6.75000007e-02,\n",
       "        7.00000007e-02, 7.25000007e-02, 7.50000007e-02, 7.75000007e-02,\n",
       "        8.00000007e-02, 8.25000006e-02, 8.50000006e-02, 8.75000006e-02,\n",
       "        9.00000006e-02, 9.25000006e-02, 9.50000006e-02, 9.75000006e-02,\n",
       "        1.00000001e-01, 1.02500001e-01, 1.05000001e-01, 1.07500001e-01,\n",
       "        1.10000001e-01, 1.12500001e-01, 1.15000001e-01, 1.17500001e-01,\n",
       "        1.20000001e-01, 1.22500000e-01, 1.25000000e-01, 1.27500000e-01,\n",
       "        1.30000000e-01, 1.32500000e-01, 1.35000000e-01, 1.37500000e-01,\n",
       "        1.40000000e-01, 1.42500000e-01, 1.45000000e-01, 1.47500000e-01,\n",
       "        1.50000000e-01, 1.52500000e-01, 1.55000000e-01, 1.57500000e-01,\n",
       "        1.60000000e-01, 1.62500000e-01, 1.65000000e-01, 1.67500000e-01,\n",
       "        1.70000000e-01, 1.72500000e-01, 1.75000000e-01, 1.77500000e-01,\n",
       "        1.80000000e-01, 1.82500000e-01, 1.85000000e-01, 1.87500000e-01,\n",
       "        1.90000000e-01, 1.92500000e-01, 1.95000000e-01, 1.97500000e-01,\n",
       "        2.00000000e-01, 2.02500000e-01, 2.05000000e-01, 2.07500000e-01,\n",
       "        2.10000000e-01, 2.12500000e-01, 2.15000000e-01, 2.17500000e-01,\n",
       "        2.20000000e-01, 2.22500000e-01, 2.25000000e-01, 2.27500000e-01,\n",
       "        2.30000000e-01, 2.32500000e-01, 2.35000000e-01, 2.37500000e-01,\n",
       "        2.40000000e-01, 2.42500000e-01, 2.45000000e-01, 2.47500000e-01,\n",
       "        2.50000000e-01]),\n",
       " <a list of 100 Patch objects>)"
      ]
     },
     "execution_count": 4,
     "metadata": {},
     "output_type": "execute_result"
    },
    {
     "data": {
      "image/png": "[encoded data removed]",
      "text/plain": [
       "<Figure size 432x288 with 1 Axes>"
      ]
     },
     "metadata": {},
     "output_type": "display_data"
    }
   ],
   "source": [
    "plt.hist(R_O, bins = 100, color='blue', label = r'$\\beta = 1$', alpha=1, histtype='bar', ec='black')"
   ]
  },
  {
   "cell_type": "code",
   "execution_count": 5,
   "metadata": {},
   "outputs": [
    {
     "data": {
      "text/plain": [
       "0.3342661380624402"
      ]
     },
     "execution_count": 5,
     "metadata": {},
     "output_type": "execute_result"
    }
   ],
   "source": [
    "np.mean(G_O)"
   ]
  },
  {
   "cell_type": "code",
   "execution_count": 6,
   "metadata": {},
   "outputs": [
    {
     "data": {
      "text/plain": [
       "0.08869793593816383"
      ]
     },
     "execution_count": 6,
     "metadata": {},
     "output_type": "execute_result"
    }
   ],
   "source": [
    "np.var(G_O)"
   ]
  },
  {
   "cell_type": "code",
   "execution_count": null,
   "metadata": {},
   "outputs": [],
   "source": []
  }
 ],
 "metadata": {
  "kernelspec": {
   "display_name": "Python 3",
   "language": "python",
   "name": "python3"
  },
  "language_info": {
   "codemirror_mode": {
    "name": "ipython",
    "version": 3
   },
   "file_extension": ".py",
   "mimetype": "text/x-python",
   "name": "python",
   "nbconvert_exporter": "python",
   "pygments_lexer": "ipython3",
   "version": "3.6.9"
  }
 },
 "nbformat": 4,
 "nbformat_minor": 2
}
