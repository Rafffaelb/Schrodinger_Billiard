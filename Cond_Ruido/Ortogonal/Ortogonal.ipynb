{
 "cells": [
  {
   "cell_type": "code",
   "execution_count": 1,
   "metadata": {},
   "outputs": [],
   "source": [
    "import numpy as np\n",
    "import matplotlib.pyplot as plt\n",
    "import pandas as pd"
   ]
  },
  {
   "cell_type": "code",
   "execution_count": 2,
   "metadata": {},
   "outputs": [],
   "source": [
    "df_G = pd.read_csv(r'G_O.txt', sep='\\t', header = None)\n",
    "df_R = pd.read_csv(r'R_O.txt', sep='\\t', header = None)"
   ]
  },
  {
   "cell_type": "code",
   "execution_count": 3,
   "metadata": {},
   "outputs": [
    {
     "data": {
      "text/html": [
       "<div>\n",
       "<style scoped>\n",
       "    .dataframe tbody tr th:only-of-type {\n",
       "        vertical-align: middle;\n",
       "    }\n",
       "\n",
       "    .dataframe tbody tr th {\n",
       "        vertical-align: top;\n",
       "    }\n",
       "\n",
       "    .dataframe thead th {\n",
       "        text-align: right;\n",
       "    }\n",
       "</style>\n",
       "<table border=\"1\" class=\"dataframe\">\n",
       "  <thead>\n",
       "    <tr style=\"text-align: right;\">\n",
       "      <th></th>\n",
       "      <th>0</th>\n",
       "      <th>1</th>\n",
       "      <th>2</th>\n",
       "      <th>3</th>\n",
       "      <th>4</th>\n",
       "      <th>5</th>\n",
       "      <th>6</th>\n",
       "      <th>7</th>\n",
       "      <th>8</th>\n",
       "      <th>9</th>\n",
       "    </tr>\n",
       "  </thead>\n",
       "  <tbody>\n",
       "    <tr>\n",
       "      <th>0</th>\n",
       "      <td>0.050410</td>\n",
       "      <td>0.879029</td>\n",
       "      <td>1.379690</td>\n",
       "      <td>2.04532</td>\n",
       "      <td>2.80523</td>\n",
       "      <td>4.86651</td>\n",
       "      <td>6.01807</td>\n",
       "      <td>7.18665</td>\n",
       "      <td>9.98324</td>\n",
       "      <td>10.38620</td>\n",
       "    </tr>\n",
       "    <tr>\n",
       "      <th>1</th>\n",
       "      <td>0.132189</td>\n",
       "      <td>0.770217</td>\n",
       "      <td>1.612250</td>\n",
       "      <td>1.33708</td>\n",
       "      <td>2.24924</td>\n",
       "      <td>5.46993</td>\n",
       "      <td>9.22244</td>\n",
       "      <td>9.14493</td>\n",
       "      <td>9.92237</td>\n",
       "      <td>12.31600</td>\n",
       "    </tr>\n",
       "    <tr>\n",
       "      <th>2</th>\n",
       "      <td>0.948422</td>\n",
       "      <td>0.956717</td>\n",
       "      <td>0.880393</td>\n",
       "      <td>1.58635</td>\n",
       "      <td>2.50519</td>\n",
       "      <td>6.18955</td>\n",
       "      <td>6.88734</td>\n",
       "      <td>8.50596</td>\n",
       "      <td>10.15150</td>\n",
       "      <td>12.16020</td>\n",
       "    </tr>\n",
       "    <tr>\n",
       "      <th>3</th>\n",
       "      <td>0.949992</td>\n",
       "      <td>1.333610</td>\n",
       "      <td>1.024730</td>\n",
       "      <td>1.59749</td>\n",
       "      <td>1.98816</td>\n",
       "      <td>5.33945</td>\n",
       "      <td>6.54682</td>\n",
       "      <td>8.40406</td>\n",
       "      <td>9.77722</td>\n",
       "      <td>11.29430</td>\n",
       "    </tr>\n",
       "    <tr>\n",
       "      <th>4</th>\n",
       "      <td>0.692478</td>\n",
       "      <td>0.524238</td>\n",
       "      <td>0.968632</td>\n",
       "      <td>1.50737</td>\n",
       "      <td>2.42399</td>\n",
       "      <td>4.70956</td>\n",
       "      <td>6.97982</td>\n",
       "      <td>6.08442</td>\n",
       "      <td>8.42009</td>\n",
       "      <td>10.24210</td>\n",
       "    </tr>\n",
       "    <tr>\n",
       "      <th>...</th>\n",
       "      <td>...</td>\n",
       "      <td>...</td>\n",
       "      <td>...</td>\n",
       "      <td>...</td>\n",
       "      <td>...</td>\n",
       "      <td>...</td>\n",
       "      <td>...</td>\n",
       "      <td>...</td>\n",
       "      <td>...</td>\n",
       "      <td>...</td>\n",
       "    </tr>\n",
       "    <tr>\n",
       "      <th>99995</th>\n",
       "      <td>0.068977</td>\n",
       "      <td>0.474035</td>\n",
       "      <td>2.029940</td>\n",
       "      <td>2.29555</td>\n",
       "      <td>3.01419</td>\n",
       "      <td>5.39023</td>\n",
       "      <td>8.32843</td>\n",
       "      <td>6.88044</td>\n",
       "      <td>8.87635</td>\n",
       "      <td>9.58309</td>\n",
       "    </tr>\n",
       "    <tr>\n",
       "      <th>99996</th>\n",
       "      <td>0.123721</td>\n",
       "      <td>1.027380</td>\n",
       "      <td>1.065390</td>\n",
       "      <td>2.24580</td>\n",
       "      <td>2.58997</td>\n",
       "      <td>6.73463</td>\n",
       "      <td>7.58453</td>\n",
       "      <td>8.06770</td>\n",
       "      <td>9.18935</td>\n",
       "      <td>10.41030</td>\n",
       "    </tr>\n",
       "    <tr>\n",
       "      <th>99997</th>\n",
       "      <td>0.390248</td>\n",
       "      <td>0.748585</td>\n",
       "      <td>1.363720</td>\n",
       "      <td>1.66031</td>\n",
       "      <td>2.55280</td>\n",
       "      <td>5.13235</td>\n",
       "      <td>7.37689</td>\n",
       "      <td>7.58727</td>\n",
       "      <td>9.37366</td>\n",
       "      <td>11.89270</td>\n",
       "    </tr>\n",
       "    <tr>\n",
       "      <th>99998</th>\n",
       "      <td>0.823920</td>\n",
       "      <td>0.546625</td>\n",
       "      <td>1.250480</td>\n",
       "      <td>1.87630</td>\n",
       "      <td>2.14914</td>\n",
       "      <td>4.10653</td>\n",
       "      <td>6.29892</td>\n",
       "      <td>7.72375</td>\n",
       "      <td>9.56829</td>\n",
       "      <td>11.46180</td>\n",
       "    </tr>\n",
       "    <tr>\n",
       "      <th>99999</th>\n",
       "      <td>0.325127</td>\n",
       "      <td>0.576065</td>\n",
       "      <td>1.501490</td>\n",
       "      <td>1.70073</td>\n",
       "      <td>2.55262</td>\n",
       "      <td>5.61558</td>\n",
       "      <td>6.24436</td>\n",
       "      <td>7.99183</td>\n",
       "      <td>9.67299</td>\n",
       "      <td>10.46690</td>\n",
       "    </tr>\n",
       "  </tbody>\n",
       "</table>\n",
       "<p>100000 rows × 10 columns</p>\n",
       "</div>"
      ],
      "text/plain": [
       "              0         1         2        3        4        5        6  \\\n",
       "0      0.050410  0.879029  1.379690  2.04532  2.80523  4.86651  6.01807   \n",
       "1      0.132189  0.770217  1.612250  1.33708  2.24924  5.46993  9.22244   \n",
       "2      0.948422  0.956717  0.880393  1.58635  2.50519  6.18955  6.88734   \n",
       "3      0.949992  1.333610  1.024730  1.59749  1.98816  5.33945  6.54682   \n",
       "4      0.692478  0.524238  0.968632  1.50737  2.42399  4.70956  6.97982   \n",
       "...         ...       ...       ...      ...      ...      ...      ...   \n",
       "99995  0.068977  0.474035  2.029940  2.29555  3.01419  5.39023  8.32843   \n",
       "99996  0.123721  1.027380  1.065390  2.24580  2.58997  6.73463  7.58453   \n",
       "99997  0.390248  0.748585  1.363720  1.66031  2.55280  5.13235  7.37689   \n",
       "99998  0.823920  0.546625  1.250480  1.87630  2.14914  4.10653  6.29892   \n",
       "99999  0.325127  0.576065  1.501490  1.70073  2.55262  5.61558  6.24436   \n",
       "\n",
       "             7         8         9  \n",
       "0      7.18665   9.98324  10.38620  \n",
       "1      9.14493   9.92237  12.31600  \n",
       "2      8.50596  10.15150  12.16020  \n",
       "3      8.40406   9.77722  11.29430  \n",
       "4      6.08442   8.42009  10.24210  \n",
       "...        ...       ...       ...  \n",
       "99995  6.88044   8.87635   9.58309  \n",
       "99996  8.06770   9.18935  10.41030  \n",
       "99997  7.58727   9.37366  11.89270  \n",
       "99998  7.72375   9.56829  11.46180  \n",
       "99999  7.99183   9.67299  10.46690  \n",
       "\n",
       "[100000 rows x 10 columns]"
      ]
     },
     "execution_count": 3,
     "metadata": {},
     "output_type": "execute_result"
    }
   ],
   "source": [
    "df_G"
   ]
  },
  {
   "cell_type": "code",
   "execution_count": 6,
   "metadata": {},
   "outputs": [
    {
     "data": {
      "text/plain": [
       "100000"
      ]
     },
     "execution_count": 6,
     "metadata": {},
     "output_type": "execute_result"
    }
   ],
   "source": [
    "G_O = df_G[0].values\n",
    "R_O = df_R[0].values\n",
    "len(G_O)"
   ]
  },
  {
   "cell_type": "code",
   "execution_count": 7,
   "metadata": {},
   "outputs": [
    {
     "data": {
      "text/plain": [
       "(array([9931., 4007., 3192., 2581., 2405., 2154., 2013., 1831., 1666.,\n",
       "        1568., 1529., 1448., 1451., 1399., 1337., 1346., 1220., 1216.,\n",
       "        1116., 1184., 1157., 1084., 1090., 1016.,  997., 1029.,  985.,\n",
       "         945.,  883.,  937.,  937.,  857.,  909.,  874.,  925.,  816.,\n",
       "         828.,  882.,  811.,  798.,  806.,  763.,  729.,  787.,  738.,\n",
       "         706.,  711.,  695.,  662.,  720.,  689.,  706.,  669.,  677.,\n",
       "         684.,  650.,  645.,  691.,  616.,  674.,  622.,  642.,  619.,\n",
       "         583.,  553.,  611.,  577.,  657.,  604.,  582.,  658.,  603.,\n",
       "         574.,  550.,  609.,  605.,  603.,  535.,  562.,  564.,  576.,\n",
       "         549.,  497.,  540.,  545.,  558.,  551.,  553.,  541.,  501.,\n",
       "         524.,  544.,  589.,  508.,  526.,  509.,  532.,  539.,  511.,\n",
       "         522.]),\n",
       " array([1.66556000e-09, 9.99979165e-03, 1.99995816e-02, 2.99993716e-02,\n",
       "        3.99991616e-02, 4.99989516e-02, 5.99987416e-02, 6.99985315e-02,\n",
       "        7.99983215e-02, 8.99981115e-02, 9.99979015e-02, 1.09997691e-01,\n",
       "        1.19997481e-01, 1.29997271e-01, 1.39997061e-01, 1.49996851e-01,\n",
       "        1.59996641e-01, 1.69996431e-01, 1.79996221e-01, 1.89996011e-01,\n",
       "        1.99995801e-01, 2.09995591e-01, 2.19995381e-01, 2.29995171e-01,\n",
       "        2.39994961e-01, 2.49994751e-01, 2.59994541e-01, 2.69994331e-01,\n",
       "        2.79994121e-01, 2.89993911e-01, 2.99993701e-01, 3.09993491e-01,\n",
       "        3.19993281e-01, 3.29993071e-01, 3.39992861e-01, 3.49992651e-01,\n",
       "        3.59992441e-01, 3.69992231e-01, 3.79992021e-01, 3.89991811e-01,\n",
       "        3.99991601e-01, 4.09991391e-01, 4.19991181e-01, 4.29990971e-01,\n",
       "        4.39990761e-01, 4.49990551e-01, 4.59990341e-01, 4.69990131e-01,\n",
       "        4.79989921e-01, 4.89989711e-01, 4.99989501e-01, 5.09989291e-01,\n",
       "        5.19989081e-01, 5.29988871e-01, 5.39988661e-01, 5.49988451e-01,\n",
       "        5.59988241e-01, 5.69988031e-01, 5.79987821e-01, 5.89987611e-01,\n",
       "        5.99987401e-01, 6.09987191e-01, 6.19986981e-01, 6.29986771e-01,\n",
       "        6.39986561e-01, 6.49986351e-01, 6.59986141e-01, 6.69985931e-01,\n",
       "        6.79985721e-01, 6.89985511e-01, 6.99985300e-01, 7.09985090e-01,\n",
       "        7.19984880e-01, 7.29984670e-01, 7.39984460e-01, 7.49984250e-01,\n",
       "        7.59984040e-01, 7.69983830e-01, 7.79983620e-01, 7.89983410e-01,\n",
       "        7.99983200e-01, 8.09982990e-01, 8.19982780e-01, 8.29982570e-01,\n",
       "        8.39982360e-01, 8.49982150e-01, 8.59981940e-01, 8.69981730e-01,\n",
       "        8.79981520e-01, 8.89981310e-01, 8.99981100e-01, 9.09980890e-01,\n",
       "        9.19980680e-01, 9.29980470e-01, 9.39980260e-01, 9.49980050e-01,\n",
       "        9.59979840e-01, 9.69979630e-01, 9.79979420e-01, 9.89979210e-01,\n",
       "        9.99979000e-01]),\n",
       " <a list of 100 Patch objects>)"
      ]
     },
     "execution_count": 7,
     "metadata": {},
     "output_type": "execute_result"
    },
    {
     "data": {
      "image/png": "[encoded data removed]",
      "text/plain": [
       "<Figure size 432x288 with 1 Axes>"
      ]
     },
     "metadata": {},
     "output_type": "display_data"
    }
   ],
   "source": [
    "plt.hist(G_O, bins = 100, color='blue', label = r'$\\beta = 1$', alpha=1, histtype='bar', ec='black')"
   ]
  },
  {
   "cell_type": "code",
   "execution_count": 8,
   "metadata": {},
   "outputs": [
    {
     "data": {
      "text/plain": [
       "(array([5117., 2205., 1750., 1434., 1308., 1197., 1076., 1059.,  992.,\n",
       "         997.,  967.,  918.,  848.,  844.,  811.,  775.,  829.,  794.,\n",
       "         806.,  732.,  782.,  758.,  755.,  721.,  718.,  699.,  760.,\n",
       "         701.,  698.,  676.,  663.,  681.,  640.,  664.,  643.,  635.,\n",
       "         649.,  627.,  629.,  648.,  639.,  665.,  693.,  654.,  661.,\n",
       "         644.,  676.,  681.,  712.,  708.,  581.,  689.,  690.,  642.,\n",
       "         661.,  671.,  653.,  675.,  649.,  681.,  643.,  686.,  733.,\n",
       "         717.,  749.,  716.,  705.,  717.,  714.,  716.,  789.,  746.,\n",
       "         800.,  768.,  792.,  822.,  848.,  824.,  817.,  823.,  862.,\n",
       "         865.,  939.,  972.,  959.,  984.,  993., 1094., 1129., 1116.,\n",
       "        1259., 1186., 1272., 1417., 1584., 1691., 1971., 2222., 2908.,\n",
       "        6921.]),\n",
       " array([1.66556000e-09, 2.50000165e-03, 5.00000163e-03, 7.50000162e-03,\n",
       "        1.00000016e-02, 1.25000016e-02, 1.50000016e-02, 1.75000015e-02,\n",
       "        2.00000015e-02, 2.25000015e-02, 2.50000015e-02, 2.75000015e-02,\n",
       "        3.00000015e-02, 3.25000014e-02, 3.50000014e-02, 3.75000014e-02,\n",
       "        4.00000014e-02, 4.25000014e-02, 4.50000014e-02, 4.75000013e-02,\n",
       "        5.00000013e-02, 5.25000013e-02, 5.50000013e-02, 5.75000013e-02,\n",
       "        6.00000013e-02, 6.25000012e-02, 6.50000012e-02, 6.75000012e-02,\n",
       "        7.00000012e-02, 7.25000012e-02, 7.50000012e-02, 7.75000011e-02,\n",
       "        8.00000011e-02, 8.25000011e-02, 8.50000011e-02, 8.75000011e-02,\n",
       "        9.00000011e-02, 9.25000010e-02, 9.50000010e-02, 9.75000010e-02,\n",
       "        1.00000001e-01, 1.02500001e-01, 1.05000001e-01, 1.07500001e-01,\n",
       "        1.10000001e-01, 1.12500001e-01, 1.15000001e-01, 1.17500001e-01,\n",
       "        1.20000001e-01, 1.22500001e-01, 1.25000001e-01, 1.27500001e-01,\n",
       "        1.30000001e-01, 1.32500001e-01, 1.35000001e-01, 1.37500001e-01,\n",
       "        1.40000001e-01, 1.42500001e-01, 1.45000001e-01, 1.47500001e-01,\n",
       "        1.50000001e-01, 1.52500001e-01, 1.55000001e-01, 1.57500001e-01,\n",
       "        1.60000001e-01, 1.62500001e-01, 1.65000001e-01, 1.67500001e-01,\n",
       "        1.70000001e-01, 1.72500001e-01, 1.75000000e-01, 1.77500000e-01,\n",
       "        1.80000000e-01, 1.82500000e-01, 1.85000000e-01, 1.87500000e-01,\n",
       "        1.90000000e-01, 1.92500000e-01, 1.95000000e-01, 1.97500000e-01,\n",
       "        2.00000000e-01, 2.02500000e-01, 2.05000000e-01, 2.07500000e-01,\n",
       "        2.10000000e-01, 2.12500000e-01, 2.15000000e-01, 2.17500000e-01,\n",
       "        2.20000000e-01, 2.22500000e-01, 2.25000000e-01, 2.27500000e-01,\n",
       "        2.30000000e-01, 2.32500000e-01, 2.35000000e-01, 2.37500000e-01,\n",
       "        2.40000000e-01, 2.42500000e-01, 2.45000000e-01, 2.47500000e-01,\n",
       "        2.50000000e-01]),\n",
       " <a list of 100 Patch objects>)"
      ]
     },
     "execution_count": 8,
     "metadata": {},
     "output_type": "execute_result"
    },
    {
     "data": {
      "image/png": "[encoded data removed]",
      "text/plain": [
       "<Figure size 432x288 with 1 Axes>"
      ]
     },
     "metadata": {},
     "output_type": "display_data"
    }
   ],
   "source": [
    "plt.hist(R_O, bins = 100, color='blue', label = r'$\\beta = 1$', alpha=1, histtype='bar', ec='black')"
   ]
  },
  {
   "cell_type": "code",
   "execution_count": 9,
   "metadata": {},
   "outputs": [
    {
     "data": {
      "text/plain": [
       "0.33438991760278747"
      ]
     },
     "execution_count": 9,
     "metadata": {},
     "output_type": "execute_result"
    }
   ],
   "source": [
    "np.mean(G_O)"
   ]
  },
  {
   "cell_type": "code",
   "execution_count": 10,
   "metadata": {},
   "outputs": [
    {
     "data": {
      "text/plain": [
       "0.08924854207211243"
      ]
     },
     "execution_count": 10,
     "metadata": {},
     "output_type": "execute_result"
    }
   ],
   "source": [
    "np.var(G_O)"
   ]
  },
  {
   "cell_type": "code",
   "execution_count": null,
   "metadata": {},
   "outputs": [],
   "source": []
  },
  {
   "cell_type": "code",
   "execution_count": null,
   "metadata": {},
   "outputs": [],
   "source": []
  }
 ],
 "metadata": {
  "kernelspec": {
   "display_name": "Python 3",
   "language": "python",
   "name": "python3"
  },
  "language_info": {
   "codemirror_mode": {
    "name": "ipython",
    "version": 3
   },
   "file_extension": ".py",
   "mimetype": "text/x-python",
   "name": "python",
   "nbconvert_exporter": "python",
   "pygments_lexer": "ipython3",
   "version": "3.6.9"
  }
 },
 "nbformat": 4,
 "nbformat_minor": 2
}
