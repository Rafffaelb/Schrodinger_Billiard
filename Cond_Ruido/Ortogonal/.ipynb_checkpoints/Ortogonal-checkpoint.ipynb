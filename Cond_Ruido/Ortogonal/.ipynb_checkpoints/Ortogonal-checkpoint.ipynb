{
 "cells": [
  {
   "cell_type": "code",
   "execution_count": 1,
   "metadata": {},
   "outputs": [],
   "source": [
    "import numpy as np\n",
    "import matplotlib.pyplot as plt\n",
    "import pandas as pd\n",
    "%matplotlib inline"
   ]
  },
  {
   "cell_type": "code",
   "execution_count": 16,
   "metadata": {},
   "outputs": [],
   "source": [
    "df_G = pd.read_csv(r'G_O.txt', sep='\\t', header = None)\n",
    "df_R = pd.read_csv(r'R_O.txt', sep='\\t', header = None)"
   ]
  },
  {
   "cell_type": "code",
   "execution_count": 17,
   "metadata": {
    "scrolled": false
   },
   "outputs": [
    {
     "data": {
      "text/html": [
       "<div>\n",
       "<style scoped>\n",
       "    .dataframe tbody tr th:only-of-type {\n",
       "        vertical-align: middle;\n",
       "    }\n",
       "\n",
       "    .dataframe tbody tr th {\n",
       "        vertical-align: top;\n",
       "    }\n",
       "\n",
       "    .dataframe thead th {\n",
       "        text-align: right;\n",
       "    }\n",
       "</style>\n",
       "<table border=\"1\" class=\"dataframe\">\n",
       "  <thead>\n",
       "    <tr style=\"text-align: right;\">\n",
       "      <th></th>\n",
       "      <th>0</th>\n",
       "      <th>1</th>\n",
       "      <th>2</th>\n",
       "      <th>3</th>\n",
       "      <th>4</th>\n",
       "      <th>5</th>\n",
       "      <th>6</th>\n",
       "      <th>7</th>\n",
       "      <th>8</th>\n",
       "      <th>9</th>\n",
       "    </tr>\n",
       "  </thead>\n",
       "  <tbody>\n",
       "    <tr>\n",
       "      <th>0</th>\n",
       "      <td>0.201016</td>\n",
       "      <td>0.476794</td>\n",
       "      <td>1.360380</td>\n",
       "      <td>1.77547</td>\n",
       "      <td>2.12656</td>\n",
       "      <td>2.83236</td>\n",
       "      <td>3.86656</td>\n",
       "      <td>3.29958</td>\n",
       "      <td>4.37444</td>\n",
       "      <td>4.25101</td>\n",
       "    </tr>\n",
       "    <tr>\n",
       "      <th>1</th>\n",
       "      <td>0.188150</td>\n",
       "      <td>0.708943</td>\n",
       "      <td>1.124840</td>\n",
       "      <td>1.13429</td>\n",
       "      <td>1.87037</td>\n",
       "      <td>2.92273</td>\n",
       "      <td>3.37430</td>\n",
       "      <td>3.78366</td>\n",
       "      <td>4.39323</td>\n",
       "      <td>4.26346</td>\n",
       "    </tr>\n",
       "    <tr>\n",
       "      <th>2</th>\n",
       "      <td>0.099731</td>\n",
       "      <td>0.871478</td>\n",
       "      <td>1.993510</td>\n",
       "      <td>1.87638</td>\n",
       "      <td>2.34636</td>\n",
       "      <td>2.95179</td>\n",
       "      <td>2.96173</td>\n",
       "      <td>3.67610</td>\n",
       "      <td>5.10349</td>\n",
       "      <td>5.07343</td>\n",
       "    </tr>\n",
       "    <tr>\n",
       "      <th>3</th>\n",
       "      <td>0.787197</td>\n",
       "      <td>0.719270</td>\n",
       "      <td>1.406760</td>\n",
       "      <td>1.72937</td>\n",
       "      <td>1.80878</td>\n",
       "      <td>3.01495</td>\n",
       "      <td>3.35814</td>\n",
       "      <td>3.45716</td>\n",
       "      <td>3.98571</td>\n",
       "      <td>4.93714</td>\n",
       "    </tr>\n",
       "    <tr>\n",
       "      <th>4</th>\n",
       "      <td>0.061764</td>\n",
       "      <td>1.149400</td>\n",
       "      <td>1.068380</td>\n",
       "      <td>1.77317</td>\n",
       "      <td>1.65702</td>\n",
       "      <td>3.00785</td>\n",
       "      <td>3.60044</td>\n",
       "      <td>4.20623</td>\n",
       "      <td>4.12674</td>\n",
       "      <td>4.49795</td>\n",
       "    </tr>\n",
       "    <tr>\n",
       "      <th>...</th>\n",
       "      <td>...</td>\n",
       "      <td>...</td>\n",
       "      <td>...</td>\n",
       "      <td>...</td>\n",
       "      <td>...</td>\n",
       "      <td>...</td>\n",
       "      <td>...</td>\n",
       "      <td>...</td>\n",
       "      <td>...</td>\n",
       "      <td>...</td>\n",
       "    </tr>\n",
       "    <tr>\n",
       "      <th>99995</th>\n",
       "      <td>0.027436</td>\n",
       "      <td>1.324530</td>\n",
       "      <td>1.107700</td>\n",
       "      <td>1.99467</td>\n",
       "      <td>2.33004</td>\n",
       "      <td>2.77882</td>\n",
       "      <td>2.77422</td>\n",
       "      <td>3.77834</td>\n",
       "      <td>4.15522</td>\n",
       "      <td>4.55275</td>\n",
       "    </tr>\n",
       "    <tr>\n",
       "      <th>99996</th>\n",
       "      <td>0.678757</td>\n",
       "      <td>0.831437</td>\n",
       "      <td>0.830049</td>\n",
       "      <td>1.75141</td>\n",
       "      <td>2.67293</td>\n",
       "      <td>2.24700</td>\n",
       "      <td>3.15226</td>\n",
       "      <td>3.81334</td>\n",
       "      <td>4.41787</td>\n",
       "      <td>4.26010</td>\n",
       "    </tr>\n",
       "    <tr>\n",
       "      <th>99997</th>\n",
       "      <td>0.722630</td>\n",
       "      <td>1.026610</td>\n",
       "      <td>1.971110</td>\n",
       "      <td>1.53689</td>\n",
       "      <td>2.20082</td>\n",
       "      <td>3.52035</td>\n",
       "      <td>2.96402</td>\n",
       "      <td>3.72086</td>\n",
       "      <td>4.14659</td>\n",
       "      <td>5.16883</td>\n",
       "    </tr>\n",
       "    <tr>\n",
       "      <th>99998</th>\n",
       "      <td>0.136140</td>\n",
       "      <td>0.531679</td>\n",
       "      <td>1.367310</td>\n",
       "      <td>1.87094</td>\n",
       "      <td>1.39036</td>\n",
       "      <td>2.56165</td>\n",
       "      <td>3.11730</td>\n",
       "      <td>3.80328</td>\n",
       "      <td>4.35842</td>\n",
       "      <td>5.06044</td>\n",
       "    </tr>\n",
       "    <tr>\n",
       "      <th>99999</th>\n",
       "      <td>0.111144</td>\n",
       "      <td>0.812888</td>\n",
       "      <td>0.945026</td>\n",
       "      <td>1.43738</td>\n",
       "      <td>2.11721</td>\n",
       "      <td>2.84687</td>\n",
       "      <td>3.36709</td>\n",
       "      <td>3.56542</td>\n",
       "      <td>4.81660</td>\n",
       "      <td>4.88991</td>\n",
       "    </tr>\n",
       "  </tbody>\n",
       "</table>\n",
       "<p>100000 rows × 10 columns</p>\n",
       "</div>"
      ],
      "text/plain": [
       "              0         1         2        3        4        5        6  \\\n",
       "0      0.201016  0.476794  1.360380  1.77547  2.12656  2.83236  3.86656   \n",
       "1      0.188150  0.708943  1.124840  1.13429  1.87037  2.92273  3.37430   \n",
       "2      0.099731  0.871478  1.993510  1.87638  2.34636  2.95179  2.96173   \n",
       "3      0.787197  0.719270  1.406760  1.72937  1.80878  3.01495  3.35814   \n",
       "4      0.061764  1.149400  1.068380  1.77317  1.65702  3.00785  3.60044   \n",
       "...         ...       ...       ...      ...      ...      ...      ...   \n",
       "99995  0.027436  1.324530  1.107700  1.99467  2.33004  2.77882  2.77422   \n",
       "99996  0.678757  0.831437  0.830049  1.75141  2.67293  2.24700  3.15226   \n",
       "99997  0.722630  1.026610  1.971110  1.53689  2.20082  3.52035  2.96402   \n",
       "99998  0.136140  0.531679  1.367310  1.87094  1.39036  2.56165  3.11730   \n",
       "99999  0.111144  0.812888  0.945026  1.43738  2.11721  2.84687  3.36709   \n",
       "\n",
       "             7        8        9  \n",
       "0      3.29958  4.37444  4.25101  \n",
       "1      3.78366  4.39323  4.26346  \n",
       "2      3.67610  5.10349  5.07343  \n",
       "3      3.45716  3.98571  4.93714  \n",
       "4      4.20623  4.12674  4.49795  \n",
       "...        ...      ...      ...  \n",
       "99995  3.77834  4.15522  4.55275  \n",
       "99996  3.81334  4.41787  4.26010  \n",
       "99997  3.72086  4.14659  5.16883  \n",
       "99998  3.80328  4.35842  5.06044  \n",
       "99999  3.56542  4.81660  4.88991  \n",
       "\n",
       "[100000 rows x 10 columns]"
      ]
     },
     "execution_count": 17,
     "metadata": {},
     "output_type": "execute_result"
    }
   ],
   "source": [
    "df_G"
   ]
  },
  {
   "cell_type": "code",
   "execution_count": 24,
   "metadata": {},
   "outputs": [],
   "source": [
    "G_O = df_G[0].values\n",
    "R_O = df_R[0].values"
   ]
  },
  {
   "cell_type": "code",
   "execution_count": 25,
   "metadata": {},
   "outputs": [
    {
     "data": {
      "text/plain": [
       "(array([9921., 4157., 3153., 2561., 2312., 2201., 2050., 1821., 1844.,\n",
       "        1607., 1601., 1524., 1389., 1323., 1315., 1255., 1138., 1198.,\n",
       "        1199., 1123., 1077., 1079., 1114., 1041., 1026., 1018.,  945.,\n",
       "         983.,  929.,  902.,  943.,  902.,  929.,  893.,  830.,  823.,\n",
       "         826.,  897.,  746.,  788.,  749.,  779.,  746.,  769.,  765.,\n",
       "         700.,  742.,  723.,  707.,  677.,  690.,  684.,  681.,  722.,\n",
       "         660.,  716.,  702.,  685.,  668.,  635.,  654.,  636.,  610.,\n",
       "         599.,  561.,  591.,  655.,  604.,  572.,  564.,  615.,  544.,\n",
       "         624.,  583.,  569.,  596.,  555.,  535.,  544.,  607.,  559.,\n",
       "         540.,  540.,  516.,  508.,  557.,  553.,  521.,  571.,  540.,\n",
       "         541.,  560.,  533.,  499.,  508.,  533.,  519.,  517.,  505.,\n",
       "         479.]),\n",
       " array([2.97423000e-11, 9.99987003e-03, 1.99997400e-02, 2.99996100e-02,\n",
       "        3.99994800e-02, 4.99993500e-02, 5.99992200e-02, 6.99990900e-02,\n",
       "        7.99989600e-02, 8.99988300e-02, 9.99987000e-02, 1.09998570e-01,\n",
       "        1.19998440e-01, 1.29998310e-01, 1.39998180e-01, 1.49998050e-01,\n",
       "        1.59997920e-01, 1.69997790e-01, 1.79997660e-01, 1.89997530e-01,\n",
       "        1.99997400e-01, 2.09997270e-01, 2.19997140e-01, 2.29997010e-01,\n",
       "        2.39996880e-01, 2.49996750e-01, 2.59996620e-01, 2.69996490e-01,\n",
       "        2.79996360e-01, 2.89996230e-01, 2.99996100e-01, 3.09995970e-01,\n",
       "        3.19995840e-01, 3.29995710e-01, 3.39995580e-01, 3.49995450e-01,\n",
       "        3.59995320e-01, 3.69995190e-01, 3.79995060e-01, 3.89994930e-01,\n",
       "        3.99994800e-01, 4.09994670e-01, 4.19994540e-01, 4.29994410e-01,\n",
       "        4.39994280e-01, 4.49994150e-01, 4.59994020e-01, 4.69993890e-01,\n",
       "        4.79993760e-01, 4.89993630e-01, 4.99993500e-01, 5.09993370e-01,\n",
       "        5.19993240e-01, 5.29993110e-01, 5.39992980e-01, 5.49992850e-01,\n",
       "        5.59992720e-01, 5.69992590e-01, 5.79992460e-01, 5.89992330e-01,\n",
       "        5.99992200e-01, 6.09992070e-01, 6.19991940e-01, 6.29991810e-01,\n",
       "        6.39991680e-01, 6.49991550e-01, 6.59991420e-01, 6.69991290e-01,\n",
       "        6.79991160e-01, 6.89991030e-01, 6.99990900e-01, 7.09990770e-01,\n",
       "        7.19990640e-01, 7.29990510e-01, 7.39990380e-01, 7.49990250e-01,\n",
       "        7.59990120e-01, 7.69989990e-01, 7.79989860e-01, 7.89989730e-01,\n",
       "        7.99989600e-01, 8.09989470e-01, 8.19989340e-01, 8.29989210e-01,\n",
       "        8.39989080e-01, 8.49988950e-01, 8.59988820e-01, 8.69988690e-01,\n",
       "        8.79988560e-01, 8.89988430e-01, 8.99988300e-01, 9.09988170e-01,\n",
       "        9.19988040e-01, 9.29987910e-01, 9.39987780e-01, 9.49987650e-01,\n",
       "        9.59987520e-01, 9.69987390e-01, 9.79987260e-01, 9.89987130e-01,\n",
       "        9.99987000e-01]),\n",
       " <a list of 100 Patch objects>)"
      ]
     },
     "execution_count": 25,
     "metadata": {},
     "output_type": "execute_result"
    },
    {
     "data": {
      "image/png": "[encoded data removed]",
      "text/plain": [
       "<Figure size 432x288 with 1 Axes>"
      ]
     },
     "metadata": {},
     "output_type": "display_data"
    }
   ],
   "source": [
    "plt.hist(G_O, bins = 100, color='blue', label = r'$\\beta = 1$', alpha=1, histtype='bar', ec='black')"
   ]
  },
  {
   "cell_type": "code",
   "execution_count": 26,
   "metadata": {},
   "outputs": [
    {
     "data": {
      "text/plain": [
       "(array([5113., 2169., 1732., 1427., 1392., 1238., 1093., 1051., 1010.,\n",
       "         979.,  962.,  882.,  804.,  875.,  807.,  820.,  779.,  773.,\n",
       "         751.,  764.,  767.,  735.,  771.,  708.,  754.,  738.,  726.,\n",
       "         666.,  664.,  720.,  728.,  732.,  697.,  675.,  658.,  662.,\n",
       "         687.,  680.,  663.,  680.,  715.,  644.,  685.,  627.,  640.,\n",
       "         609.,  647.,  637.,  686.,  662.,  632.,  623.,  648.,  633.,\n",
       "         564.,  671.,  633.,  667.,  693.,  681.,  674.,  733.,  655.,\n",
       "         699.,  663.,  740.,  743.,  694.,  723.,  742.,  783.,  768.,\n",
       "         723.,  793.,  804.,  772.,  853.,  787.,  838.,  900.,  871.,\n",
       "         850.,  918.,  921.,  993.,  917., 1030., 1072., 1185., 1136.,\n",
       "        1150., 1201., 1279., 1479., 1464., 1717., 1863., 2297., 3056.,\n",
       "        6985.]),\n",
       " array([2.97423000e-11, 2.50000003e-03, 5.00000003e-03, 7.50000003e-03,\n",
       "        1.00000000e-02, 1.25000000e-02, 1.50000000e-02, 1.75000000e-02,\n",
       "        2.00000000e-02, 2.25000000e-02, 2.50000000e-02, 2.75000000e-02,\n",
       "        3.00000000e-02, 3.25000000e-02, 3.50000000e-02, 3.75000000e-02,\n",
       "        4.00000000e-02, 4.25000000e-02, 4.50000000e-02, 4.75000000e-02,\n",
       "        5.00000000e-02, 5.25000000e-02, 5.50000000e-02, 5.75000000e-02,\n",
       "        6.00000000e-02, 6.25000000e-02, 6.50000000e-02, 6.75000000e-02,\n",
       "        7.00000000e-02, 7.25000000e-02, 7.50000000e-02, 7.75000000e-02,\n",
       "        8.00000000e-02, 8.25000000e-02, 8.50000000e-02, 8.75000000e-02,\n",
       "        9.00000000e-02, 9.25000000e-02, 9.50000000e-02, 9.75000000e-02,\n",
       "        1.00000000e-01, 1.02500000e-01, 1.05000000e-01, 1.07500000e-01,\n",
       "        1.10000000e-01, 1.12500000e-01, 1.15000000e-01, 1.17500000e-01,\n",
       "        1.20000000e-01, 1.22500000e-01, 1.25000000e-01, 1.27500000e-01,\n",
       "        1.30000000e-01, 1.32500000e-01, 1.35000000e-01, 1.37500000e-01,\n",
       "        1.40000000e-01, 1.42500000e-01, 1.45000000e-01, 1.47500000e-01,\n",
       "        1.50000000e-01, 1.52500000e-01, 1.55000000e-01, 1.57500000e-01,\n",
       "        1.60000000e-01, 1.62500000e-01, 1.65000000e-01, 1.67500000e-01,\n",
       "        1.70000000e-01, 1.72500000e-01, 1.75000000e-01, 1.77500000e-01,\n",
       "        1.80000000e-01, 1.82500000e-01, 1.85000000e-01, 1.87500000e-01,\n",
       "        1.90000000e-01, 1.92500000e-01, 1.95000000e-01, 1.97500000e-01,\n",
       "        2.00000000e-01, 2.02500000e-01, 2.05000000e-01, 2.07500000e-01,\n",
       "        2.10000000e-01, 2.12500000e-01, 2.15000000e-01, 2.17500000e-01,\n",
       "        2.20000000e-01, 2.22500000e-01, 2.25000000e-01, 2.27500000e-01,\n",
       "        2.30000000e-01, 2.32500000e-01, 2.35000000e-01, 2.37500000e-01,\n",
       "        2.40000000e-01, 2.42500000e-01, 2.45000000e-01, 2.47500000e-01,\n",
       "        2.50000000e-01]),\n",
       " <a list of 100 Patch objects>)"
      ]
     },
     "execution_count": 26,
     "metadata": {},
     "output_type": "execute_result"
    },
    {
     "data": {
      "image/png": "[encoded data removed]",
      "text/plain": [
       "<Figure size 432x288 with 1 Axes>"
      ]
     },
     "metadata": {},
     "output_type": "display_data"
    }
   ],
   "source": [
    "plt.hist(R_O, bins = 100, color='blue', label = r'$\\beta = 1$', alpha=1, histtype='bar', ec='black')"
   ]
  },
  {
   "cell_type": "code",
   "execution_count": 27,
   "metadata": {},
   "outputs": [],
   "source": [
    "G = df_G[range(0,10)].values"
   ]
  },
  {
   "cell_type": "code",
   "execution_count": 28,
   "metadata": {},
   "outputs": [
    {
     "data": {
      "image/png": "[encoded data removed]",
      "text/plain": [
       "<Figure size 432x288 with 1 Axes>"
      ]
     },
     "metadata": {},
     "output_type": "display_data"
    },
    {
     "data": {
      "text/plain": [
       "<Figure size 1440x1008 with 0 Axes>"
      ]
     },
     "metadata": {},
     "output_type": "display_data"
    }
   ],
   "source": [
    "plt.scatter(np.arange(1,11),np.mean(G,axis=0))\n",
    "fig=plt.figure(figsize=(20,14))"
   ]
  },
  {
   "cell_type": "code",
   "execution_count": 29,
   "metadata": {},
   "outputs": [
    {
     "data": {
      "image/png": "[encoded data removed]",
      "text/plain": [
       "<Figure size 432x288 with 1 Axes>"
      ]
     },
     "metadata": {},
     "output_type": "display_data"
    },
    {
     "data": {
      "text/plain": [
       "<Figure size 1440x1008 with 0 Axes>"
      ]
     },
     "metadata": {},
     "output_type": "display_data"
    }
   ],
   "source": [
    "plt.scatter(np.arange(1,11),np.var(G,axis=0))\n",
    "fig=plt.figure(figsize=(20,14))"
   ]
  },
  {
   "cell_type": "code",
   "execution_count": null,
   "metadata": {},
   "outputs": [],
   "source": []
  }
 ],
 "metadata": {
  "kernelspec": {
   "display_name": "Python 3",
   "language": "python",
   "name": "python3"
  },
  "language_info": {
   "codemirror_mode": {
    "name": "ipython",
    "version": 3
   },
   "file_extension": ".py",
   "mimetype": "text/x-python",
   "name": "python",
   "nbconvert_exporter": "python",
   "pygments_lexer": "ipython3",
   "version": "3.6.9"
  }
 },
 "nbformat": 4,
 "nbformat_minor": 2
}
