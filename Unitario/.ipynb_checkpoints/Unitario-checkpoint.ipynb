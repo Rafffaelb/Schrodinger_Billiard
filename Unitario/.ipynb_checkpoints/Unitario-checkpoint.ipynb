{
 "cells": [
  {
   "cell_type": "code",
   "execution_count": 4,
   "metadata": {},
   "outputs": [],
   "source": [
    "import numpy as np\n",
    "import matplotlib.pyplot as plt"
   ]
  },
  {
   "cell_type": "code",
   "execution_count": 11,
   "metadata": {},
   "outputs": [],
   "source": [
    "f = open(\"G_U.txt\", \"r\")\n",
    "data = [float(line) for line in f.readlines()]\n",
    "f.close()"
   ]
  },
  {
   "cell_type": "code",
   "execution_count": 12,
   "metadata": {},
   "outputs": [
    {
     "data": {
      "text/plain": [
       "100000"
      ]
     },
     "execution_count": 12,
     "metadata": {},
     "output_type": "execute_result"
    }
   ],
   "source": [
    "len(data)"
   ]
  },
  {
   "cell_type": "code",
   "execution_count": 13,
   "metadata": {},
   "outputs": [
    {
     "data": {
      "text/plain": [
       "(array([ 979., 1017.,  997.,  978., 1003., 1034., 1021.,  952.,  992.,\n",
       "         992., 1032., 1038., 1028.,  989.,  998.,  970.,  917., 1059.,\n",
       "         940., 1038.,  995., 1038.,  947.,  942., 1008., 1003., 1021.,\n",
       "         996.,  997., 1003.,  983., 1014.,  956., 1027., 1000.,  990.,\n",
       "        1034.,  993., 1001., 1031.,  956., 1005., 1013.,  957., 1014.,\n",
       "        1027., 1021., 1008., 1022.,  972.,  985.,  974., 1014., 1044.,\n",
       "        1035.,  972., 1009.,  961., 1003.,  943., 1062., 1026., 1019.,\n",
       "        1032., 1020., 1065.,  986., 1033., 1020., 1034.,  946.,  973.,\n",
       "         998.,  998.,  975., 1031.,  977., 1003.,  968.,  990.,  977.,\n",
       "        1030., 1040.,  986.,  988.,  992.,  967., 1066., 1009., 1027.,\n",
       "         984.,  968.,  963., 1009., 1018.,  944., 1000., 1024., 1022.,\n",
       "         942.]),\n",
       " array([5.25308000e-06, 1.00051205e-02, 2.00049880e-02, 3.00048555e-02,\n",
       "        4.00047230e-02, 5.00045904e-02, 6.00044579e-02, 7.00043254e-02,\n",
       "        8.00041928e-02, 9.00040603e-02, 1.00003928e-01, 1.10003795e-01,\n",
       "        1.20003663e-01, 1.30003530e-01, 1.40003398e-01, 1.50003265e-01,\n",
       "        1.60003133e-01, 1.70003000e-01, 1.80002868e-01, 1.90002735e-01,\n",
       "        2.00002602e-01, 2.10002470e-01, 2.20002337e-01, 2.30002205e-01,\n",
       "        2.40002072e-01, 2.50001940e-01, 2.60001807e-01, 2.70001675e-01,\n",
       "        2.80001542e-01, 2.90001410e-01, 3.00001277e-01, 3.10001145e-01,\n",
       "        3.20001012e-01, 3.30000880e-01, 3.40000747e-01, 3.50000615e-01,\n",
       "        3.60000482e-01, 3.70000349e-01, 3.80000217e-01, 3.90000084e-01,\n",
       "        3.99999952e-01, 4.09999819e-01, 4.19999687e-01, 4.29999554e-01,\n",
       "        4.39999422e-01, 4.49999289e-01, 4.59999157e-01, 4.69999024e-01,\n",
       "        4.79998892e-01, 4.89998759e-01, 4.99998627e-01, 5.09998494e-01,\n",
       "        5.19998361e-01, 5.29998229e-01, 5.39998096e-01, 5.49997964e-01,\n",
       "        5.59997831e-01, 5.69997699e-01, 5.79997566e-01, 5.89997434e-01,\n",
       "        5.99997301e-01, 6.09997169e-01, 6.19997036e-01, 6.29996904e-01,\n",
       "        6.39996771e-01, 6.49996639e-01, 6.59996506e-01, 6.69996374e-01,\n",
       "        6.79996241e-01, 6.89996108e-01, 6.99995976e-01, 7.09995843e-01,\n",
       "        7.19995711e-01, 7.29995578e-01, 7.39995446e-01, 7.49995313e-01,\n",
       "        7.59995181e-01, 7.69995048e-01, 7.79994916e-01, 7.89994783e-01,\n",
       "        7.99994651e-01, 8.09994518e-01, 8.19994386e-01, 8.29994253e-01,\n",
       "        8.39994120e-01, 8.49993988e-01, 8.59993855e-01, 8.69993723e-01,\n",
       "        8.79993590e-01, 8.89993458e-01, 8.99993325e-01, 9.09993193e-01,\n",
       "        9.19993060e-01, 9.29992928e-01, 9.39992795e-01, 9.49992663e-01,\n",
       "        9.59992530e-01, 9.69992398e-01, 9.79992265e-01, 9.89992133e-01,\n",
       "        9.99992000e-01]),\n",
       " <a list of 100 Patch objects>)"
      ]
     },
     "execution_count": 13,
     "metadata": {},
     "output_type": "execute_result"
    },
    {
     "data": {
      "image/png": "[encoded data removed]",
      "text/plain": [
       "<Figure size 432x288 with 1 Axes>"
      ]
     },
     "metadata": {},
     "output_type": "display_data"
    }
   ],
   "source": [
    "plt.hist(data, bins = 100, color='red', label = r'$\\beta = 1$', alpha=1, histtype='bar', ec='black')"
   ]
  },
  {
   "cell_type": "code",
   "execution_count": 56,
   "metadata": {},
   "outputs": [
    {
     "data": {
      "text/plain": [
       "0.0022485162442329996"
      ]
     },
     "execution_count": 56,
     "metadata": {},
     "output_type": "execute_result"
    }
   ],
   "source": [
    "np.mean(data)"
   ]
  },
  {
   "cell_type": "code",
   "execution_count": 57,
   "metadata": {},
   "outputs": [
    {
     "data": {
      "text/plain": [
       "0.9954985662137171"
      ]
     },
     "execution_count": 57,
     "metadata": {},
     "output_type": "execute_result"
    }
   ],
   "source": [
    "np.var(data)"
   ]
  },
  {
   "cell_type": "code",
   "execution_count": null,
   "metadata": {},
   "outputs": [],
   "source": []
  }
 ],
 "metadata": {
  "kernelspec": {
   "display_name": "Python 3",
   "language": "python",
   "name": "python3"
  },
  "language_info": {
   "codemirror_mode": {
    "name": "ipython",
    "version": 3
   },
   "file_extension": ".py",
   "mimetype": "text/x-python",
   "name": "python",
   "nbconvert_exporter": "python",
   "pygments_lexer": "ipython3",
   "version": "3.6.9"
  }
 },
 "nbformat": 4,
 "nbformat_minor": 2
}
