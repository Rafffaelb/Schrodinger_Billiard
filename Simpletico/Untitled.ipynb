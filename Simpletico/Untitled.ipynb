{
 "cells": [
  {
   "cell_type": "code",
   "execution_count": 1,
   "metadata": {},
   "outputs": [],
   "source": [
    "import numpy as np\n",
    "import matplotlib.pyplot as plt"
   ]
  },
  {
   "cell_type": "code",
   "execution_count": 2,
   "metadata": {},
   "outputs": [
    {
     "data": {
      "text/plain": [
       "100000"
      ]
     },
     "execution_count": 2,
     "metadata": {},
     "output_type": "execute_result"
    }
   ],
   "source": [
    "f = open(\"G.txt\", \"r\")\n",
    "data = [float(line) for line in f.readlines()]\n",
    "f.close()\n",
    "len(data)"
   ]
  },
  {
   "cell_type": "code",
   "execution_count": 3,
   "metadata": {},
   "outputs": [
    {
     "data": {
      "text/plain": [
       "(array([9.993e+04, 3.900e+01, 1.000e+01, 5.000e+00, 3.000e+00, 1.000e+00,\n",
       "        0.000e+00, 0.000e+00, 2.000e+00, 0.000e+00, 1.000e+00, 0.000e+00,\n",
       "        1.000e+00, 1.000e+00, 1.000e+00, 1.000e+00, 1.000e+00, 0.000e+00,\n",
       "        1.000e+00, 0.000e+00, 0.000e+00, 0.000e+00, 1.000e+00, 0.000e+00,\n",
       "        0.000e+00, 0.000e+00, 0.000e+00, 0.000e+00, 0.000e+00, 0.000e+00,\n",
       "        1.000e+00, 0.000e+00, 0.000e+00, 0.000e+00, 0.000e+00, 0.000e+00,\n",
       "        0.000e+00, 0.000e+00, 0.000e+00, 0.000e+00, 0.000e+00, 0.000e+00,\n",
       "        0.000e+00, 0.000e+00, 0.000e+00, 0.000e+00, 0.000e+00, 0.000e+00,\n",
       "        0.000e+00, 0.000e+00, 0.000e+00, 0.000e+00, 0.000e+00, 0.000e+00,\n",
       "        0.000e+00, 0.000e+00, 0.000e+00, 0.000e+00, 0.000e+00, 0.000e+00,\n",
       "        0.000e+00, 0.000e+00, 0.000e+00, 0.000e+00, 0.000e+00, 0.000e+00,\n",
       "        0.000e+00, 0.000e+00, 0.000e+00, 0.000e+00, 0.000e+00, 0.000e+00,\n",
       "        0.000e+00, 0.000e+00, 0.000e+00, 0.000e+00, 0.000e+00, 0.000e+00,\n",
       "        0.000e+00, 0.000e+00, 0.000e+00, 0.000e+00, 0.000e+00, 0.000e+00,\n",
       "        0.000e+00, 0.000e+00, 0.000e+00, 0.000e+00, 0.000e+00, 0.000e+00,\n",
       "        0.000e+00, 0.000e+00, 0.000e+00, 0.000e+00, 0.000e+00, 0.000e+00,\n",
       "        0.000e+00, 0.000e+00, 0.000e+00, 1.000e+00]),\n",
       " array([9.80245000e-07, 7.24821001e+02, 1.44964200e+03, 2.17446300e+03,\n",
       "        2.89928400e+03, 3.62410500e+03, 4.34892600e+03, 5.07374700e+03,\n",
       "        5.79856800e+03, 6.52338900e+03, 7.24821000e+03, 7.97303100e+03,\n",
       "        8.69785200e+03, 9.42267300e+03, 1.01474940e+04, 1.08723150e+04,\n",
       "        1.15971360e+04, 1.23219570e+04, 1.30467780e+04, 1.37715990e+04,\n",
       "        1.44964200e+04, 1.52212410e+04, 1.59460620e+04, 1.66708830e+04,\n",
       "        1.73957040e+04, 1.81205250e+04, 1.88453460e+04, 1.95701670e+04,\n",
       "        2.02949880e+04, 2.10198090e+04, 2.17446300e+04, 2.24694510e+04,\n",
       "        2.31942720e+04, 2.39190930e+04, 2.46439140e+04, 2.53687350e+04,\n",
       "        2.60935560e+04, 2.68183770e+04, 2.75431980e+04, 2.82680190e+04,\n",
       "        2.89928400e+04, 2.97176610e+04, 3.04424820e+04, 3.11673030e+04,\n",
       "        3.18921240e+04, 3.26169450e+04, 3.33417660e+04, 3.40665870e+04,\n",
       "        3.47914080e+04, 3.55162290e+04, 3.62410500e+04, 3.69658710e+04,\n",
       "        3.76906920e+04, 3.84155130e+04, 3.91403340e+04, 3.98651550e+04,\n",
       "        4.05899760e+04, 4.13147970e+04, 4.20396180e+04, 4.27644390e+04,\n",
       "        4.34892600e+04, 4.42140810e+04, 4.49389020e+04, 4.56637230e+04,\n",
       "        4.63885440e+04, 4.71133650e+04, 4.78381860e+04, 4.85630070e+04,\n",
       "        4.92878280e+04, 5.00126490e+04, 5.07374700e+04, 5.14622910e+04,\n",
       "        5.21871120e+04, 5.29119330e+04, 5.36367540e+04, 5.43615750e+04,\n",
       "        5.50863960e+04, 5.58112170e+04, 5.65360380e+04, 5.72608590e+04,\n",
       "        5.79856800e+04, 5.87105010e+04, 5.94353220e+04, 6.01601430e+04,\n",
       "        6.08849640e+04, 6.16097850e+04, 6.23346060e+04, 6.30594270e+04,\n",
       "        6.37842480e+04, 6.45090690e+04, 6.52338900e+04, 6.59587110e+04,\n",
       "        6.66835320e+04, 6.74083530e+04, 6.81331740e+04, 6.88579950e+04,\n",
       "        6.95828160e+04, 7.03076370e+04, 7.10324580e+04, 7.17572790e+04,\n",
       "        7.24821000e+04]),\n",
       " <a list of 100 Patch objects>)"
      ]
     },
     "execution_count": 3,
     "metadata": {},
     "output_type": "execute_result"
    },
    {
     "data": {
      "image/png": "[encoded data removed]",
      "text/plain": [
       "<Figure size 432x288 with 1 Axes>"
      ]
     },
     "metadata": {},
     "output_type": "display_data"
    }
   ],
   "source": [
    "plt.hist(data, bins = 100, color='green', label = r'$\\beta = 1$', alpha=1, histtype='bar', ec='black')"
   ]
  },
  {
   "cell_type": "code",
   "execution_count": null,
   "metadata": {},
   "outputs": [],
   "source": []
  }
 ],
 "metadata": {
  "kernelspec": {
   "display_name": "Python 3",
   "language": "python",
   "name": "python3"
  },
  "language_info": {
   "codemirror_mode": {
    "name": "ipython",
    "version": 3
   },
   "file_extension": ".py",
   "mimetype": "text/x-python",
   "name": "python",
   "nbconvert_exporter": "python",
   "pygments_lexer": "ipython3",
   "version": "3.6.9"
  }
 },
 "nbformat": 4,
 "nbformat_minor": 2
}
