{
 "cells": [
  {
   "cell_type": "code",
   "execution_count": 9,
   "metadata": {},
   "outputs": [],
   "source": [
    "import numpy as np\n",
    "import matplotlib.pyplot as plt"
   ]
  },
  {
   "cell_type": "code",
   "execution_count": 53,
   "metadata": {},
   "outputs": [],
   "source": [
    "f = open(\"Teste.txt\", \"r\")\n",
    "data = [float(line) for line in f.readlines()]\n",
    "f.close()"
   ]
  },
  {
   "cell_type": "code",
   "execution_count": 54,
   "metadata": {},
   "outputs": [
    {
     "data": {
      "text/plain": [
       "100000"
      ]
     },
     "execution_count": 54,
     "metadata": {},
     "output_type": "execute_result"
    }
   ],
   "source": [
    "len(data)"
   ]
  },
  {
   "cell_type": "code",
   "execution_count": 55,
   "metadata": {},
   "outputs": [
    {
     "data": {
      "text/plain": [
       "(array([1.000e+00, 0.000e+00, 1.000e+00, 1.000e+00, 1.000e+00, 1.000e+00,\n",
       "        3.000e+00, 1.000e+00, 5.000e+00, 4.000e+00, 7.000e+00, 1.100e+01,\n",
       "        1.300e+01, 1.600e+01, 3.000e+01, 3.000e+01, 4.000e+01, 6.500e+01,\n",
       "        7.100e+01, 1.090e+02, 1.400e+02, 1.410e+02, 2.130e+02, 2.470e+02,\n",
       "        3.070e+02, 3.570e+02, 4.650e+02, 5.150e+02, 6.170e+02, 7.490e+02,\n",
       "        8.960e+02, 9.570e+02, 1.159e+03, 1.327e+03, 1.502e+03, 1.733e+03,\n",
       "        1.880e+03, 2.059e+03, 2.252e+03, 2.496e+03, 2.683e+03, 2.851e+03,\n",
       "        3.162e+03, 3.136e+03, 3.304e+03, 3.328e+03, 3.410e+03, 3.521e+03,\n",
       "        3.604e+03, 3.595e+03, 3.625e+03, 3.539e+03, 3.437e+03, 3.401e+03,\n",
       "        3.194e+03, 3.026e+03, 2.880e+03, 2.742e+03, 2.529e+03, 2.257e+03,\n",
       "        2.149e+03, 1.982e+03, 1.729e+03, 1.553e+03, 1.310e+03, 1.182e+03,\n",
       "        1.004e+03, 9.610e+02, 7.820e+02, 7.040e+02, 5.840e+02, 4.860e+02,\n",
       "        3.810e+02, 3.430e+02, 2.570e+02, 2.030e+02, 1.670e+02, 1.390e+02,\n",
       "        9.700e+01, 7.000e+01, 5.200e+01, 5.500e+01, 4.400e+01, 3.800e+01,\n",
       "        1.700e+01, 2.100e+01, 1.000e+01, 8.000e+00, 8.000e+00, 7.000e+00,\n",
       "        5.000e+00, 1.000e+00, 2.000e+00, 0.000e+00, 1.000e+00, 0.000e+00,\n",
       "        1.000e+00, 0.000e+00, 0.000e+00, 1.000e+00]),\n",
       " array([-4.43044  , -4.3402466, -4.2500532, -4.1598598, -4.0696664,\n",
       "        -3.979473 , -3.8892796, -3.7990862, -3.7088928, -3.6186994,\n",
       "        -3.528506 , -3.4383126, -3.3481192, -3.2579258, -3.1677324,\n",
       "        -3.077539 , -2.9873456, -2.8971522, -2.8069588, -2.7167654,\n",
       "        -2.626572 , -2.5363786, -2.4461852, -2.3559918, -2.2657984,\n",
       "        -2.175605 , -2.0854116, -1.9952182, -1.9050248, -1.8148314,\n",
       "        -1.724638 , -1.6344446, -1.5442512, -1.4540578, -1.3638644,\n",
       "        -1.273671 , -1.1834776, -1.0932842, -1.0030908, -0.9128974,\n",
       "        -0.822704 , -0.7325106, -0.6423172, -0.5521238, -0.4619304,\n",
       "        -0.371737 , -0.2815436, -0.1913502, -0.1011568, -0.0109634,\n",
       "         0.07923  ,  0.1694234,  0.2596168,  0.3498102,  0.4400036,\n",
       "         0.530197 ,  0.6203904,  0.7105838,  0.8007772,  0.8909706,\n",
       "         0.981164 ,  1.0713574,  1.1615508,  1.2517442,  1.3419376,\n",
       "         1.432131 ,  1.5223244,  1.6125178,  1.7027112,  1.7929046,\n",
       "         1.883098 ,  1.9732914,  2.0634848,  2.1536782,  2.2438716,\n",
       "         2.334065 ,  2.4242584,  2.5144518,  2.6046452,  2.6948386,\n",
       "         2.785032 ,  2.8752254,  2.9654188,  3.0556122,  3.1458056,\n",
       "         3.235999 ,  3.3261924,  3.4163858,  3.5065792,  3.5967726,\n",
       "         3.686966 ,  3.7771594,  3.8673528,  3.9575462,  4.0477396,\n",
       "         4.137933 ,  4.2281264,  4.3183198,  4.4085132,  4.4987066,\n",
       "         4.5889   ]),\n",
       " <a list of 100 Patch objects>)"
      ]
     },
     "execution_count": 55,
     "metadata": {},
     "output_type": "execute_result"
    },
    {
     "data": {
      "image/png": "[encoded data removed]",
      "text/plain": [
       "<Figure size 432x288 with 1 Axes>"
      ]
     },
     "metadata": {},
     "output_type": "display_data"
    }
   ],
   "source": [
    "plt.hist(data, bins = 100, color='red', label = r'$\\beta = 1$', alpha=1, histtype='bar', ec='black')"
   ]
  },
  {
   "cell_type": "code",
   "execution_count": 56,
   "metadata": {},
   "outputs": [
    {
     "data": {
      "text/plain": [
       "0.0022485162442329996"
      ]
     },
     "execution_count": 56,
     "metadata": {},
     "output_type": "execute_result"
    }
   ],
   "source": [
    "np.mean(data)"
   ]
  },
  {
   "cell_type": "code",
   "execution_count": 57,
   "metadata": {},
   "outputs": [
    {
     "data": {
      "text/plain": [
       "0.9954985662137171"
      ]
     },
     "execution_count": 57,
     "metadata": {},
     "output_type": "execute_result"
    }
   ],
   "source": [
    "np.var(data)"
   ]
  },
  {
   "cell_type": "code",
   "execution_count": null,
   "metadata": {},
   "outputs": [],
   "source": []
  }
 ],
 "metadata": {
  "kernelspec": {
   "display_name": "Python 3",
   "language": "python",
   "name": "python3"
  },
  "language_info": {
   "codemirror_mode": {
    "name": "ipython",
    "version": 3
   },
   "file_extension": ".py",
   "mimetype": "text/x-python",
   "name": "python",
   "nbconvert_exporter": "python",
   "pygments_lexer": "ipython3",
   "version": "3.6.9"
  }
 },
 "nbformat": 4,
 "nbformat_minor": 2
}
