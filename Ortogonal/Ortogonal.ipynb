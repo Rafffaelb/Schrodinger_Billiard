{
 "cells": [
  {
   "cell_type": "code",
   "execution_count": 6,
   "metadata": {},
   "outputs": [],
   "source": [
    "import numpy as np\n",
    "import matplotlib.pyplot as plt"
   ]
  },
  {
   "cell_type": "code",
   "execution_count": 8,
   "metadata": {},
   "outputs": [
    {
     "data": {
      "text/plain": [
       "100000"
      ]
     },
     "execution_count": 8,
     "metadata": {},
     "output_type": "execute_result"
    }
   ],
   "source": [
    "G_txt = open(\"G_O.txt\", \"r\")\n",
    "G_O = [float(line) for line in G_txt.readlines()]\n",
    "G_txt.close()\n",
    "len(G_O)\n",
    "\n",
    "R_txt = open(\"R_O.txt\", \"r\")\n",
    "R_O = [float(line) for line in R_txt.readlines()]\n",
    "R_txt.close()\n",
    "len(R_O)"
   ]
  },
  {
   "cell_type": "code",
   "execution_count": 11,
   "metadata": {},
   "outputs": [
    {
     "data": {
      "text/plain": [
       "(array([10073.,  4157.,  3273.,  2681.,  2336.,  2126.,  1971.,  1836.,\n",
       "         1701.,  1598.,  1432.,  1457.,  1401.,  1326.,  1274.,  1222.,\n",
       "         1273.,  1169.,  1205.,  1237.,  1126.,  1080.,  1079.,  1006.,\n",
       "         1017.,   960.,   951.,   950.,   919.,   894.,   904.,   911.,\n",
       "          867.,   891.,   821.,   862.,   799.,   808.,   804.,   807.,\n",
       "          770.,   790.,   779.,   810.,   779.,   753.,   728.,   706.,\n",
       "          689.,   746.,   714.,   700.,   645.,   678.,   711.,   651.,\n",
       "          664.,   676.,   631.,   672.,   574.,   605.,   663.,   638.,\n",
       "          683.,   617.,   572.,   626.,   584.,   558.,   600.,   566.,\n",
       "          605.,   586.,   556.,   596.,   603.,   569.,   560.,   610.,\n",
       "          546.,   586.,   550.,   580.,   559.,   532.,   529.,   531.,\n",
       "          533.,   495.,   526.,   505.,   521.,   499.,   483.,   512.,\n",
       "          551.,   490.,   508.,   497.]),\n",
       " array([8.00093000e-12, 9.99946001e-03, 1.99989200e-02, 2.99983800e-02,\n",
       "        3.99978400e-02, 4.99973000e-02, 5.99967600e-02, 6.99962200e-02,\n",
       "        7.99956800e-02, 8.99951400e-02, 9.99946000e-02, 1.09994060e-01,\n",
       "        1.19993520e-01, 1.29992980e-01, 1.39992440e-01, 1.49991900e-01,\n",
       "        1.59991360e-01, 1.69990820e-01, 1.79990280e-01, 1.89989740e-01,\n",
       "        1.99989200e-01, 2.09988660e-01, 2.19988120e-01, 2.29987580e-01,\n",
       "        2.39987040e-01, 2.49986500e-01, 2.59985960e-01, 2.69985420e-01,\n",
       "        2.79984880e-01, 2.89984340e-01, 2.99983800e-01, 3.09983260e-01,\n",
       "        3.19982720e-01, 3.29982180e-01, 3.39981640e-01, 3.49981100e-01,\n",
       "        3.59980560e-01, 3.69980020e-01, 3.79979480e-01, 3.89978940e-01,\n",
       "        3.99978400e-01, 4.09977860e-01, 4.19977320e-01, 4.29976780e-01,\n",
       "        4.39976240e-01, 4.49975700e-01, 4.59975160e-01, 4.69974620e-01,\n",
       "        4.79974080e-01, 4.89973540e-01, 4.99973000e-01, 5.09972460e-01,\n",
       "        5.19971920e-01, 5.29971380e-01, 5.39970840e-01, 5.49970300e-01,\n",
       "        5.59969760e-01, 5.69969220e-01, 5.79968680e-01, 5.89968140e-01,\n",
       "        5.99967600e-01, 6.09967060e-01, 6.19966520e-01, 6.29965980e-01,\n",
       "        6.39965440e-01, 6.49964900e-01, 6.59964360e-01, 6.69963820e-01,\n",
       "        6.79963280e-01, 6.89962740e-01, 6.99962200e-01, 7.09961660e-01,\n",
       "        7.19961120e-01, 7.29960580e-01, 7.39960040e-01, 7.49959500e-01,\n",
       "        7.59958960e-01, 7.69958420e-01, 7.79957880e-01, 7.89957340e-01,\n",
       "        7.99956800e-01, 8.09956260e-01, 8.19955720e-01, 8.29955180e-01,\n",
       "        8.39954640e-01, 8.49954100e-01, 8.59953560e-01, 8.69953020e-01,\n",
       "        8.79952480e-01, 8.89951940e-01, 8.99951400e-01, 9.09950860e-01,\n",
       "        9.19950320e-01, 9.29949780e-01, 9.39949240e-01, 9.49948700e-01,\n",
       "        9.59948160e-01, 9.69947620e-01, 9.79947080e-01, 9.89946540e-01,\n",
       "        9.99946000e-01]),\n",
       " <a list of 100 Patch objects>)"
      ]
     },
     "execution_count": 11,
     "metadata": {},
     "output_type": "execute_result"
    },
    {
     "data": {
      "image/png": "[encoded data removed]",
      "text/plain": [
       "<Figure size 432x288 with 1 Axes>"
      ]
     },
     "metadata": {},
     "output_type": "display_data"
    }
   ],
   "source": [
    "plt.hist(G_O, bins = 100, color='blue', label = r'$\\beta = 1$', alpha=1, histtype='bar', ec='black')"
   ]
  },
  {
   "cell_type": "code",
   "execution_count": 12,
   "metadata": {},
   "outputs": [
    {
     "data": {
      "text/plain": [
       "(array([5114., 2238., 1753., 1523., 1283., 1213., 1161., 1134., 1049.,\n",
       "         970.,  923.,  939.,  842.,  860.,  893.,  848.,  767.,  787.,\n",
       "         778.,  794.,  718.,  706.,  693.,  697.,  710.,  721.,  738.,\n",
       "         680.,  681.,  656.,  646.,  696.,  646.,  687.,  648.,  653.,\n",
       "         648.,  604.,  587.,  641.,  645.,  637.,  678.,  622.,  640.,\n",
       "         639.,  602.,  650.,  628.,  647.,  638.,  654.,  682.,  604.,\n",
       "         674.,  725.,  689.,  630.,  668.,  708.,  726.,  683.,  700.,\n",
       "         785.,  711.,  774.,  749.,  669.,  743.,  740.,  759.,  761.,\n",
       "         754.,  778.,  811.,  785.,  770.,  822.,  807.,  858.,  872.,\n",
       "         847.,  891.,  935.,  930.,  945., 1042., 1059., 1057., 1148.,\n",
       "        1168., 1305., 1339., 1467., 1487., 1646., 1963., 2246., 3014.,\n",
       "        7069.]),\n",
       " array([8.00093000e-12, 2.50000001e-03, 5.00000001e-03, 7.50000001e-03,\n",
       "        1.00000000e-02, 1.25000000e-02, 1.50000000e-02, 1.75000000e-02,\n",
       "        2.00000000e-02, 2.25000000e-02, 2.50000000e-02, 2.75000000e-02,\n",
       "        3.00000000e-02, 3.25000000e-02, 3.50000000e-02, 3.75000000e-02,\n",
       "        4.00000000e-02, 4.25000000e-02, 4.50000000e-02, 4.75000000e-02,\n",
       "        5.00000000e-02, 5.25000000e-02, 5.50000000e-02, 5.75000000e-02,\n",
       "        6.00000000e-02, 6.25000000e-02, 6.50000000e-02, 6.75000000e-02,\n",
       "        7.00000000e-02, 7.25000000e-02, 7.50000000e-02, 7.75000000e-02,\n",
       "        8.00000000e-02, 8.25000000e-02, 8.50000000e-02, 8.75000000e-02,\n",
       "        9.00000000e-02, 9.25000000e-02, 9.50000000e-02, 9.75000000e-02,\n",
       "        1.00000000e-01, 1.02500000e-01, 1.05000000e-01, 1.07500000e-01,\n",
       "        1.10000000e-01, 1.12500000e-01, 1.15000000e-01, 1.17500000e-01,\n",
       "        1.20000000e-01, 1.22500000e-01, 1.25000000e-01, 1.27500000e-01,\n",
       "        1.30000000e-01, 1.32500000e-01, 1.35000000e-01, 1.37500000e-01,\n",
       "        1.40000000e-01, 1.42500000e-01, 1.45000000e-01, 1.47500000e-01,\n",
       "        1.50000000e-01, 1.52500000e-01, 1.55000000e-01, 1.57500000e-01,\n",
       "        1.60000000e-01, 1.62500000e-01, 1.65000000e-01, 1.67500000e-01,\n",
       "        1.70000000e-01, 1.72500000e-01, 1.75000000e-01, 1.77500000e-01,\n",
       "        1.80000000e-01, 1.82500000e-01, 1.85000000e-01, 1.87500000e-01,\n",
       "        1.90000000e-01, 1.92500000e-01, 1.95000000e-01, 1.97500000e-01,\n",
       "        2.00000000e-01, 2.02500000e-01, 2.05000000e-01, 2.07500000e-01,\n",
       "        2.10000000e-01, 2.12500000e-01, 2.15000000e-01, 2.17500000e-01,\n",
       "        2.20000000e-01, 2.22500000e-01, 2.25000000e-01, 2.27500000e-01,\n",
       "        2.30000000e-01, 2.32500000e-01, 2.35000000e-01, 2.37500000e-01,\n",
       "        2.40000000e-01, 2.42500000e-01, 2.45000000e-01, 2.47500000e-01,\n",
       "        2.50000000e-01]),\n",
       " <a list of 100 Patch objects>)"
      ]
     },
     "execution_count": 12,
     "metadata": {},
     "output_type": "execute_result"
    },
    {
     "data": {
      "image/png": "[encoded data removed]",
      "text/plain": [
       "<Figure size 432x288 with 1 Axes>"
      ]
     },
     "metadata": {},
     "output_type": "display_data"
    }
   ],
   "source": [
    "plt.hist(R_O, bins = 100, color='blue', label = r'$\\beta = 1$', alpha=1, histtype='bar', ec='black')"
   ]
  },
  {
   "cell_type": "code",
   "execution_count": null,
   "metadata": {},
   "outputs": [],
   "source": []
  }
 ],
 "metadata": {
  "kernelspec": {
   "display_name": "Python 3",
   "language": "python",
   "name": "python3"
  },
  "language_info": {
   "codemirror_mode": {
    "name": "ipython",
    "version": 3
   },
   "file_extension": ".py",
   "mimetype": "text/x-python",
   "name": "python",
   "nbconvert_exporter": "python",
   "pygments_lexer": "ipython3",
   "version": "3.6.9"
  }
 },
 "nbformat": 4,
 "nbformat_minor": 2
}
