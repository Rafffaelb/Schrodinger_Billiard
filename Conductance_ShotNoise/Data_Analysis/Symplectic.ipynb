{
 "cells": [
  {
   "cell_type": "code",
   "execution_count": 1,
   "metadata": {},
   "outputs": [],
   "source": [
    "import numpy as np\n",
    "import matplotlib.pyplot as plt\n",
    "import pandas as pd\n",
    "%matplotlib inline"
   ]
  },
  {
   "cell_type": "code",
   "execution_count": 2,
   "metadata": {},
   "outputs": [],
   "source": [
    "df_G = pd.read_csv(r'G_S.txt', sep='\\t', header = None)\n",
    "df_P = pd.read_csv(r'P_S.txt', sep='\\t', header = None)"
   ]
  },
  {
   "cell_type": "code",
   "execution_count": 3,
   "metadata": {
    "scrolled": false
   },
   "outputs": [
    {
     "data": {
      "text/html": [
       "<div>\n",
       "<style scoped>\n",
       "    .dataframe tbody tr th:only-of-type {\n",
       "        vertical-align: middle;\n",
       "    }\n",
       "\n",
       "    .dataframe tbody tr th {\n",
       "        vertical-align: top;\n",
       "    }\n",
       "\n",
       "    .dataframe thead th {\n",
       "        text-align: right;\n",
       "    }\n",
       "</style>\n",
       "<table border=\"1\" class=\"dataframe\">\n",
       "  <thead>\n",
       "    <tr style=\"text-align: right;\">\n",
       "      <th></th>\n",
       "      <th>1</th>\n",
       "      <th>2</th>\n",
       "      <th>3</th>\n",
       "      <th>4</th>\n",
       "      <th>5</th>\n",
       "      <th>6</th>\n",
       "      <th>7</th>\n",
       "      <th>8</th>\n",
       "      <th>9</th>\n",
       "      <th>10</th>\n",
       "    </tr>\n",
       "  </thead>\n",
       "  <tbody>\n",
       "    <tr>\n",
       "      <th>1</th>\n",
       "      <td>1.030120</td>\n",
       "      <td>1.48836</td>\n",
       "      <td>3.42005</td>\n",
       "      <td>4.27210</td>\n",
       "      <td>4.97189</td>\n",
       "      <td>6.00228</td>\n",
       "      <td>7.75247</td>\n",
       "      <td>7.46278</td>\n",
       "      <td>9.30121</td>\n",
       "      <td>9.72063</td>\n",
       "    </tr>\n",
       "    <tr>\n",
       "      <th>2</th>\n",
       "      <td>1.979390</td>\n",
       "      <td>1.83732</td>\n",
       "      <td>3.71741</td>\n",
       "      <td>4.67821</td>\n",
       "      <td>4.77355</td>\n",
       "      <td>5.84443</td>\n",
       "      <td>6.78670</td>\n",
       "      <td>7.88541</td>\n",
       "      <td>9.38376</td>\n",
       "      <td>10.20820</td>\n",
       "    </tr>\n",
       "    <tr>\n",
       "      <th>3</th>\n",
       "      <td>1.897690</td>\n",
       "      <td>2.22073</td>\n",
       "      <td>3.49252</td>\n",
       "      <td>3.79332</td>\n",
       "      <td>4.74889</td>\n",
       "      <td>6.80990</td>\n",
       "      <td>6.81019</td>\n",
       "      <td>8.36260</td>\n",
       "      <td>9.27711</td>\n",
       "      <td>9.53039</td>\n",
       "    </tr>\n",
       "    <tr>\n",
       "      <th>4</th>\n",
       "      <td>0.543327</td>\n",
       "      <td>2.25427</td>\n",
       "      <td>3.73047</td>\n",
       "      <td>3.90538</td>\n",
       "      <td>4.63958</td>\n",
       "      <td>5.76337</td>\n",
       "      <td>6.90387</td>\n",
       "      <td>8.00658</td>\n",
       "      <td>8.75004</td>\n",
       "      <td>10.35910</td>\n",
       "    </tr>\n",
       "    <tr>\n",
       "      <th>5</th>\n",
       "      <td>1.378130</td>\n",
       "      <td>2.23297</td>\n",
       "      <td>3.21892</td>\n",
       "      <td>4.92253</td>\n",
       "      <td>5.43033</td>\n",
       "      <td>4.91539</td>\n",
       "      <td>6.85986</td>\n",
       "      <td>8.18647</td>\n",
       "      <td>9.71884</td>\n",
       "      <td>10.55090</td>\n",
       "    </tr>\n",
       "    <tr>\n",
       "      <th>...</th>\n",
       "      <td>...</td>\n",
       "      <td>...</td>\n",
       "      <td>...</td>\n",
       "      <td>...</td>\n",
       "      <td>...</td>\n",
       "      <td>...</td>\n",
       "      <td>...</td>\n",
       "      <td>...</td>\n",
       "      <td>...</td>\n",
       "      <td>...</td>\n",
       "    </tr>\n",
       "    <tr>\n",
       "      <th>99996</th>\n",
       "      <td>1.159590</td>\n",
       "      <td>1.74345</td>\n",
       "      <td>2.83300</td>\n",
       "      <td>4.90155</td>\n",
       "      <td>5.04288</td>\n",
       "      <td>6.45446</td>\n",
       "      <td>8.42445</td>\n",
       "      <td>8.75183</td>\n",
       "      <td>9.23835</td>\n",
       "      <td>10.10750</td>\n",
       "    </tr>\n",
       "    <tr>\n",
       "      <th>99997</th>\n",
       "      <td>0.567104</td>\n",
       "      <td>2.38972</td>\n",
       "      <td>3.64758</td>\n",
       "      <td>4.19556</td>\n",
       "      <td>5.35687</td>\n",
       "      <td>6.33280</td>\n",
       "      <td>6.96615</td>\n",
       "      <td>7.83297</td>\n",
       "      <td>9.28513</td>\n",
       "      <td>10.13200</td>\n",
       "    </tr>\n",
       "    <tr>\n",
       "      <th>99998</th>\n",
       "      <td>1.434840</td>\n",
       "      <td>1.73851</td>\n",
       "      <td>3.93777</td>\n",
       "      <td>4.89727</td>\n",
       "      <td>5.75220</td>\n",
       "      <td>6.52703</td>\n",
       "      <td>7.27367</td>\n",
       "      <td>8.94736</td>\n",
       "      <td>9.21257</td>\n",
       "      <td>10.06510</td>\n",
       "    </tr>\n",
       "    <tr>\n",
       "      <th>99999</th>\n",
       "      <td>1.888500</td>\n",
       "      <td>2.42803</td>\n",
       "      <td>3.25275</td>\n",
       "      <td>3.93107</td>\n",
       "      <td>5.71447</td>\n",
       "      <td>6.12911</td>\n",
       "      <td>7.48651</td>\n",
       "      <td>8.05574</td>\n",
       "      <td>9.66585</td>\n",
       "      <td>10.55960</td>\n",
       "    </tr>\n",
       "    <tr>\n",
       "      <th>100000</th>\n",
       "      <td>1.661410</td>\n",
       "      <td>1.38112</td>\n",
       "      <td>3.31543</td>\n",
       "      <td>3.81518</td>\n",
       "      <td>5.93354</td>\n",
       "      <td>6.07044</td>\n",
       "      <td>7.14801</td>\n",
       "      <td>8.26614</td>\n",
       "      <td>9.12221</td>\n",
       "      <td>10.01140</td>\n",
       "    </tr>\n",
       "  </tbody>\n",
       "</table>\n",
       "<p>100000 rows × 10 columns</p>\n",
       "</div>"
      ],
      "text/plain": [
       "              1        2        3        4        5        6        7   \\\n",
       "1       1.030120  1.48836  3.42005  4.27210  4.97189  6.00228  7.75247   \n",
       "2       1.979390  1.83732  3.71741  4.67821  4.77355  5.84443  6.78670   \n",
       "3       1.897690  2.22073  3.49252  3.79332  4.74889  6.80990  6.81019   \n",
       "4       0.543327  2.25427  3.73047  3.90538  4.63958  5.76337  6.90387   \n",
       "5       1.378130  2.23297  3.21892  4.92253  5.43033  4.91539  6.85986   \n",
       "...          ...      ...      ...      ...      ...      ...      ...   \n",
       "99996   1.159590  1.74345  2.83300  4.90155  5.04288  6.45446  8.42445   \n",
       "99997   0.567104  2.38972  3.64758  4.19556  5.35687  6.33280  6.96615   \n",
       "99998   1.434840  1.73851  3.93777  4.89727  5.75220  6.52703  7.27367   \n",
       "99999   1.888500  2.42803  3.25275  3.93107  5.71447  6.12911  7.48651   \n",
       "100000  1.661410  1.38112  3.31543  3.81518  5.93354  6.07044  7.14801   \n",
       "\n",
       "             8        9         10  \n",
       "1       7.46278  9.30121   9.72063  \n",
       "2       7.88541  9.38376  10.20820  \n",
       "3       8.36260  9.27711   9.53039  \n",
       "4       8.00658  8.75004  10.35910  \n",
       "5       8.18647  9.71884  10.55090  \n",
       "...         ...      ...       ...  \n",
       "99996   8.75183  9.23835  10.10750  \n",
       "99997   7.83297  9.28513  10.13200  \n",
       "99998   8.94736  9.21257  10.06510  \n",
       "99999   8.05574  9.66585  10.55960  \n",
       "100000  8.26614  9.12221  10.01140  \n",
       "\n",
       "[100000 rows x 10 columns]"
      ]
     },
     "execution_count": 3,
     "metadata": {},
     "output_type": "execute_result"
    }
   ],
   "source": [
    "df_G.rename(columns = lambda s: s+1, index = lambda s: s+1)\n",
    "#Realizações por número de canais em cada guia"
   ]
  },
  {
   "cell_type": "code",
   "execution_count": 4,
   "metadata": {},
   "outputs": [],
   "source": [
    "G_O = (df_G[0].values)/2\n",
    "P_O = (df_P[0].values)/2"
   ]
  },
  {
   "cell_type": "code",
   "execution_count": 5,
   "metadata": {},
   "outputs": [
    {
     "data": {
      "text/plain": [
       "(array([  12.,   39.,   59.,   73.,   82.,  113.,  137.,  146.,  179.,\n",
       "         210.,  207.,  251.,  238.,  288.,  271.,  291.,  348.,  350.,\n",
       "         364.,  374.,  438.,  462.,  432.,  524.,  495.,  516.,  548.,\n",
       "         533.,  559.,  576.,  594.,  651.,  633.,  687.,  658.,  707.,\n",
       "         763.,  758.,  734.,  780.,  760.,  845.,  839.,  875.,  938.,\n",
       "         872.,  962.,  889.,  995.,  961., 1034., 1018., 1072., 1100.,\n",
       "        1070., 1092., 1122., 1129., 1156., 1143., 1166., 1274., 1208.,\n",
       "        1258., 1280., 1361., 1372., 1340., 1400., 1413., 1372., 1436.,\n",
       "        1436., 1490., 1452., 1481., 1571., 1518., 1596., 1541., 1671.,\n",
       "        1636., 1677., 1598., 1726., 1664., 1733., 1751., 1805., 1797.,\n",
       "        1776., 1865., 1861., 1867., 1894., 2015., 1943., 1914., 1958.,\n",
       "        1932.]),\n",
       " array([0.00158781, 0.01157188, 0.02155595, 0.03154002, 0.04152409,\n",
       "        0.05150816, 0.06149224, 0.07147631, 0.08146038, 0.09144445,\n",
       "        0.10142852, 0.1114126 , 0.12139667, 0.13138074, 0.14136481,\n",
       "        0.15134888, 0.16133296, 0.17131703, 0.1813011 , 0.19128517,\n",
       "        0.20126924, 0.21125332, 0.22123739, 0.23122146, 0.24120553,\n",
       "        0.2511896 , 0.26117368, 0.27115775, 0.28114182, 0.29112589,\n",
       "        0.30110996, 0.31109404, 0.32107811, 0.33106218, 0.34104625,\n",
       "        0.35103032, 0.3610144 , 0.37099847, 0.38098254, 0.39096661,\n",
       "        0.40095068, 0.41093475, 0.42091883, 0.4309029 , 0.44088697,\n",
       "        0.45087104, 0.46085511, 0.47083919, 0.48082326, 0.49080733,\n",
       "        0.5007914 , 0.51077547, 0.52075955, 0.53074362, 0.54072769,\n",
       "        0.55071176, 0.56069583, 0.57067991, 0.58066398, 0.59064805,\n",
       "        0.60063212, 0.61061619, 0.62060027, 0.63058434, 0.64056841,\n",
       "        0.65055248, 0.66053655, 0.67052063, 0.6805047 , 0.69048877,\n",
       "        0.70047284, 0.71045691, 0.72044099, 0.73042506, 0.74040913,\n",
       "        0.7503932 , 0.76037727, 0.77036135, 0.78034542, 0.79032949,\n",
       "        0.80031356, 0.81029763, 0.8202817 , 0.83026578, 0.84024985,\n",
       "        0.85023392, 0.86021799, 0.87020206, 0.88018614, 0.89017021,\n",
       "        0.90015428, 0.91013835, 0.92012242, 0.9301065 , 0.94009057,\n",
       "        0.95007464, 0.96005871, 0.97004278, 0.98002686, 0.99001093,\n",
       "        0.999995  ]),\n",
       " <BarContainer object of 100 artists>)"
      ]
     },
     "execution_count": 5,
     "metadata": {},
     "output_type": "execute_result"
    },
    {
     "data": {
      "image/png": "[encoded data removed]",
      "text/plain": [
       "<Figure size 432x288 with 1 Axes>"
      ]
     },
     "metadata": {
      "needs_background": "light"
     },
     "output_type": "display_data"
    }
   ],
   "source": [
    "plt.hist(G_O, bins = 100, color='green', label = r'$\\beta = 4$', alpha=1, histtype='bar', ec='black')"
   ]
  },
  {
   "cell_type": "code",
   "execution_count": 6,
   "metadata": {},
   "outputs": [
    {
     "data": {
      "text/plain": [
       "(array([ 497.,  475.,  492.,  496.,  503.,  496.,  534.,  522.,  526.,\n",
       "         530.,  503.,  531.,  532.,  555.,  544.,  590.,  598.,  563.,\n",
       "         534.,  588.,  561.,  535.,  556.,  575.,  600.,  578.,  567.,\n",
       "         622.,  601.,  580.,  619.,  605.,  639.,  583.,  586.,  659.,\n",
       "         601.,  671.,  632.,  646.,  663.,  658.,  689.,  662.,  668.,\n",
       "         682.,  668.,  705.,  730.,  656.,  664.,  738.,  729.,  733.,\n",
       "         716.,  747.,  737.,  776.,  802.,  796.,  786.,  820.,  802.,\n",
       "         856.,  836.,  833.,  916.,  880.,  917.,  896.,  888.,  935.,\n",
       "        1032.,  945.,  993.,  976., 1014., 1106., 1075., 1116., 1114.,\n",
       "        1157., 1136., 1226., 1286., 1311., 1403., 1419., 1460., 1575.,\n",
       "        1642., 1733., 1803., 1968., 2128., 2324., 2545., 3167., 4173.,\n",
       "        9964.]),\n",
       " array([3.69552000e-06, 2.50365856e-03, 5.00362161e-03, 7.50358465e-03,\n",
       "        1.00035477e-02, 1.25035107e-02, 1.50034738e-02, 1.75034368e-02,\n",
       "        2.00033999e-02, 2.25033629e-02, 2.50033260e-02, 2.75032890e-02,\n",
       "        3.00032521e-02, 3.25032151e-02, 3.50031781e-02, 3.75031412e-02,\n",
       "        4.00031042e-02, 4.25030673e-02, 4.50030303e-02, 4.75029934e-02,\n",
       "        5.00029564e-02, 5.25029195e-02, 5.50028825e-02, 5.75028456e-02,\n",
       "        6.00028086e-02, 6.25027716e-02, 6.50027347e-02, 6.75026977e-02,\n",
       "        7.00026608e-02, 7.25026238e-02, 7.50025869e-02, 7.75025499e-02,\n",
       "        8.00025130e-02, 8.25024760e-02, 8.50024390e-02, 8.75024021e-02,\n",
       "        9.00023651e-02, 9.25023282e-02, 9.50022912e-02, 9.75022543e-02,\n",
       "        1.00002217e-01, 1.02502180e-01, 1.05002143e-01, 1.07502106e-01,\n",
       "        1.10002069e-01, 1.12502033e-01, 1.15001996e-01, 1.17501959e-01,\n",
       "        1.20001922e-01, 1.22501885e-01, 1.25001848e-01, 1.27501811e-01,\n",
       "        1.30001774e-01, 1.32501737e-01, 1.35001700e-01, 1.37501663e-01,\n",
       "        1.40001626e-01, 1.42501589e-01, 1.45001552e-01, 1.47501515e-01,\n",
       "        1.50001478e-01, 1.52501441e-01, 1.55001404e-01, 1.57501367e-01,\n",
       "        1.60001330e-01, 1.62501293e-01, 1.65001256e-01, 1.67501220e-01,\n",
       "        1.70001183e-01, 1.72501146e-01, 1.75001109e-01, 1.77501072e-01,\n",
       "        1.80001035e-01, 1.82500998e-01, 1.85000961e-01, 1.87500924e-01,\n",
       "        1.90000887e-01, 1.92500850e-01, 1.95000813e-01, 1.97500776e-01,\n",
       "        2.00000739e-01, 2.02500702e-01, 2.05000665e-01, 2.07500628e-01,\n",
       "        2.10000591e-01, 2.12500554e-01, 2.15000517e-01, 2.17500480e-01,\n",
       "        2.20000443e-01, 2.22500407e-01, 2.25000370e-01, 2.27500333e-01,\n",
       "        2.30000296e-01, 2.32500259e-01, 2.35000222e-01, 2.37500185e-01,\n",
       "        2.40000148e-01, 2.42500111e-01, 2.45000074e-01, 2.47500037e-01,\n",
       "        2.50000000e-01]),\n",
       " <BarContainer object of 100 artists>)"
      ]
     },
     "execution_count": 6,
     "metadata": {},
     "output_type": "execute_result"
    },
    {
     "data": {
      "image/png": "[encoded data removed]",
      "text/plain": [
       "<Figure size 432x288 with 1 Axes>"
      ]
     },
     "metadata": {
      "needs_background": "light"
     },
     "output_type": "display_data"
    }
   ],
   "source": [
    "plt.hist(P_O, bins = 100, color='green', label = r'$\\beta = 4$', alpha=1, histtype='bar', ec='black')"
   ]
  },
  {
   "cell_type": "code",
   "execution_count": 10,
   "metadata": {},
   "outputs": [],
   "source": [
    "G = df_G[range(0,10)].values/2"
   ]
  },
  {
   "cell_type": "code",
   "execution_count": 11,
   "metadata": {},
   "outputs": [
    {
     "data": {
      "image/png": "[encoded data removed]",
      "text/plain": [
       "<Figure size 432x288 with 1 Axes>"
      ]
     },
     "metadata": {
      "needs_background": "light"
     },
     "output_type": "display_data"
    },
    {
     "data": {
      "text/plain": [
       "<Figure size 1440x1008 with 0 Axes>"
      ]
     },
     "metadata": {},
     "output_type": "display_data"
    }
   ],
   "source": [
    "plt.scatter(np.arange(1,11),np.mean(G,axis=0), color = 'green')\n",
    "fig=plt.figure(figsize=(20,14))"
   ]
  },
  {
   "cell_type": "code",
   "execution_count": 12,
   "metadata": {},
   "outputs": [
    {
     "data": {
      "image/png": "[encoded data removed]",
      "text/plain": [
       "<Figure size 432x288 with 1 Axes>"
      ]
     },
     "metadata": {
      "needs_background": "light"
     },
     "output_type": "display_data"
    },
    {
     "data": {
      "text/plain": [
       "<Figure size 1440x1008 with 0 Axes>"
      ]
     },
     "metadata": {},
     "output_type": "display_data"
    }
   ],
   "source": [
    "plt.scatter(np.arange(1,11),np.var(G,axis=0), color = 'green')\n",
    "fig=plt.figure(figsize=(20,14))"
   ]
  },
  {
   "cell_type": "code",
   "execution_count": null,
   "metadata": {},
   "outputs": [],
   "source": []
  }
 ],
 "metadata": {
  "kernelspec": {
   "display_name": "Python 3",
   "language": "python",
   "name": "python3"
  },
  "language_info": {
   "codemirror_mode": {
    "name": "ipython",
    "version": 3
   },
   "file_extension": ".py",
   "mimetype": "text/x-python",
   "name": "python",
   "nbconvert_exporter": "python",
   "pygments_lexer": "ipython3",
   "version": "3.8.10"
  }
 },
 "nbformat": 4,
 "nbformat_minor": 2
}
