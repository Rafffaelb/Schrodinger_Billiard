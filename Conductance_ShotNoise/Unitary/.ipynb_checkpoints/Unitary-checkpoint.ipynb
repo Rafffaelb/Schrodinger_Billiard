{
 "cells": [
  {
   "cell_type": "code",
   "execution_count": 1,
   "metadata": {},
   "outputs": [],
   "source": [
    "import numpy as np\n",
    "import matplotlib.pyplot as plt\n",
    "import pandas as pd\n",
    "%matplotlib inline"
   ]
  },
  {
   "cell_type": "code",
   "execution_count": 2,
   "metadata": {},
   "outputs": [],
   "source": [
    "df_G = pd.read_csv(r'G.txt', sep='\\t', header = None)\n",
    "df_P = pd.read_csv(r'P.txt', sep='\\t', header = None)"
   ]
  },
  {
   "cell_type": "code",
   "execution_count": 3,
   "metadata": {
    "scrolled": false
   },
   "outputs": [
    {
     "data": {
      "text/html": [
       "<div>\n",
       "<style scoped>\n",
       "    .dataframe tbody tr th:only-of-type {\n",
       "        vertical-align: middle;\n",
       "    }\n",
       "\n",
       "    .dataframe tbody tr th {\n",
       "        vertical-align: top;\n",
       "    }\n",
       "\n",
       "    .dataframe thead th {\n",
       "        text-align: right;\n",
       "    }\n",
       "</style>\n",
       "<table border=\"1\" class=\"dataframe\">\n",
       "  <thead>\n",
       "    <tr style=\"text-align: right;\">\n",
       "      <th></th>\n",
       "      <th>1</th>\n",
       "      <th>2</th>\n",
       "      <th>3</th>\n",
       "      <th>4</th>\n",
       "      <th>5</th>\n",
       "      <th>6</th>\n",
       "      <th>7</th>\n",
       "      <th>8</th>\n",
       "      <th>9</th>\n",
       "      <th>10</th>\n",
       "    </tr>\n",
       "  </thead>\n",
       "  <tbody>\n",
       "    <tr>\n",
       "      <th>1</th>\n",
       "      <td>0.237806</td>\n",
       "      <td>0.998698</td>\n",
       "      <td>1.569810</td>\n",
       "      <td>1.99223</td>\n",
       "      <td>2.45047</td>\n",
       "      <td>3.33336</td>\n",
       "      <td>3.99126</td>\n",
       "      <td>3.60760</td>\n",
       "      <td>4.33236</td>\n",
       "      <td>4.84708</td>\n",
       "    </tr>\n",
       "    <tr>\n",
       "      <th>2</th>\n",
       "      <td>0.533926</td>\n",
       "      <td>0.752231</td>\n",
       "      <td>1.635990</td>\n",
       "      <td>2.03193</td>\n",
       "      <td>2.49270</td>\n",
       "      <td>3.06928</td>\n",
       "      <td>3.54301</td>\n",
       "      <td>3.76599</td>\n",
       "      <td>4.98602</td>\n",
       "      <td>5.03260</td>\n",
       "    </tr>\n",
       "    <tr>\n",
       "      <th>3</th>\n",
       "      <td>0.075272</td>\n",
       "      <td>1.291370</td>\n",
       "      <td>1.341490</td>\n",
       "      <td>1.81074</td>\n",
       "      <td>2.65343</td>\n",
       "      <td>3.03530</td>\n",
       "      <td>4.01262</td>\n",
       "      <td>4.06521</td>\n",
       "      <td>4.34118</td>\n",
       "      <td>4.75633</td>\n",
       "    </tr>\n",
       "    <tr>\n",
       "      <th>4</th>\n",
       "      <td>0.202573</td>\n",
       "      <td>1.481470</td>\n",
       "      <td>1.975610</td>\n",
       "      <td>2.11090</td>\n",
       "      <td>2.66933</td>\n",
       "      <td>3.20406</td>\n",
       "      <td>3.22489</td>\n",
       "      <td>4.34922</td>\n",
       "      <td>4.46022</td>\n",
       "      <td>5.40105</td>\n",
       "    </tr>\n",
       "    <tr>\n",
       "      <th>5</th>\n",
       "      <td>0.217531</td>\n",
       "      <td>0.614822</td>\n",
       "      <td>1.697360</td>\n",
       "      <td>1.30134</td>\n",
       "      <td>2.72847</td>\n",
       "      <td>2.83428</td>\n",
       "      <td>3.96283</td>\n",
       "      <td>3.78333</td>\n",
       "      <td>4.07973</td>\n",
       "      <td>4.87250</td>\n",
       "    </tr>\n",
       "    <tr>\n",
       "      <th>...</th>\n",
       "      <td>...</td>\n",
       "      <td>...</td>\n",
       "      <td>...</td>\n",
       "      <td>...</td>\n",
       "      <td>...</td>\n",
       "      <td>...</td>\n",
       "      <td>...</td>\n",
       "      <td>...</td>\n",
       "      <td>...</td>\n",
       "      <td>...</td>\n",
       "    </tr>\n",
       "    <tr>\n",
       "      <th>99996</th>\n",
       "      <td>0.778717</td>\n",
       "      <td>1.554670</td>\n",
       "      <td>1.631310</td>\n",
       "      <td>2.04860</td>\n",
       "      <td>2.76611</td>\n",
       "      <td>2.59998</td>\n",
       "      <td>3.40809</td>\n",
       "      <td>3.81553</td>\n",
       "      <td>4.45704</td>\n",
       "      <td>4.74694</td>\n",
       "    </tr>\n",
       "    <tr>\n",
       "      <th>99997</th>\n",
       "      <td>0.817659</td>\n",
       "      <td>0.739388</td>\n",
       "      <td>1.738670</td>\n",
       "      <td>2.05662</td>\n",
       "      <td>2.45545</td>\n",
       "      <td>2.70246</td>\n",
       "      <td>3.29190</td>\n",
       "      <td>3.97015</td>\n",
       "      <td>5.02922</td>\n",
       "      <td>5.06701</td>\n",
       "    </tr>\n",
       "    <tr>\n",
       "      <th>99998</th>\n",
       "      <td>0.496451</td>\n",
       "      <td>1.247540</td>\n",
       "      <td>0.957825</td>\n",
       "      <td>1.99358</td>\n",
       "      <td>2.42609</td>\n",
       "      <td>2.54235</td>\n",
       "      <td>3.79102</td>\n",
       "      <td>3.71509</td>\n",
       "      <td>4.76578</td>\n",
       "      <td>5.34892</td>\n",
       "    </tr>\n",
       "    <tr>\n",
       "      <th>99999</th>\n",
       "      <td>0.900452</td>\n",
       "      <td>0.878693</td>\n",
       "      <td>1.245180</td>\n",
       "      <td>1.74496</td>\n",
       "      <td>2.45199</td>\n",
       "      <td>2.88449</td>\n",
       "      <td>3.56389</td>\n",
       "      <td>4.29896</td>\n",
       "      <td>3.97110</td>\n",
       "      <td>4.80313</td>\n",
       "    </tr>\n",
       "    <tr>\n",
       "      <th>100000</th>\n",
       "      <td>0.046853</td>\n",
       "      <td>1.224090</td>\n",
       "      <td>1.419830</td>\n",
       "      <td>2.22340</td>\n",
       "      <td>2.37967</td>\n",
       "      <td>3.00832</td>\n",
       "      <td>3.51807</td>\n",
       "      <td>3.93924</td>\n",
       "      <td>4.53860</td>\n",
       "      <td>5.22788</td>\n",
       "    </tr>\n",
       "  </tbody>\n",
       "</table>\n",
       "<p>100000 rows × 10 columns</p>\n",
       "</div>"
      ],
      "text/plain": [
       "              1         2         3        4        5        6        7   \\\n",
       "1       0.237806  0.998698  1.569810  1.99223  2.45047  3.33336  3.99126   \n",
       "2       0.533926  0.752231  1.635990  2.03193  2.49270  3.06928  3.54301   \n",
       "3       0.075272  1.291370  1.341490  1.81074  2.65343  3.03530  4.01262   \n",
       "4       0.202573  1.481470  1.975610  2.11090  2.66933  3.20406  3.22489   \n",
       "5       0.217531  0.614822  1.697360  1.30134  2.72847  2.83428  3.96283   \n",
       "...          ...       ...       ...      ...      ...      ...      ...   \n",
       "99996   0.778717  1.554670  1.631310  2.04860  2.76611  2.59998  3.40809   \n",
       "99997   0.817659  0.739388  1.738670  2.05662  2.45545  2.70246  3.29190   \n",
       "99998   0.496451  1.247540  0.957825  1.99358  2.42609  2.54235  3.79102   \n",
       "99999   0.900452  0.878693  1.245180  1.74496  2.45199  2.88449  3.56389   \n",
       "100000  0.046853  1.224090  1.419830  2.22340  2.37967  3.00832  3.51807   \n",
       "\n",
       "             8        9        10  \n",
       "1       3.60760  4.33236  4.84708  \n",
       "2       3.76599  4.98602  5.03260  \n",
       "3       4.06521  4.34118  4.75633  \n",
       "4       4.34922  4.46022  5.40105  \n",
       "5       3.78333  4.07973  4.87250  \n",
       "...         ...      ...      ...  \n",
       "99996   3.81553  4.45704  4.74694  \n",
       "99997   3.97015  5.02922  5.06701  \n",
       "99998   3.71509  4.76578  5.34892  \n",
       "99999   4.29896  3.97110  4.80313  \n",
       "100000  3.93924  4.53860  5.22788  \n",
       "\n",
       "[100000 rows x 10 columns]"
      ]
     },
     "execution_count": 3,
     "metadata": {},
     "output_type": "execute_result"
    }
   ],
   "source": [
    "df_G.rename(columns = lambda s: s+1, index = lambda s: s+1)\n",
    "#Realizações por número de canais em cada guia"
   ]
  },
  {
   "cell_type": "code",
   "execution_count": 4,
   "metadata": {},
   "outputs": [],
   "source": [
    "G_O = df_G[0].values\n",
    "P_O = df_P[0].values"
   ]
  },
  {
   "cell_type": "code",
   "execution_count": 5,
   "metadata": {},
   "outputs": [
    {
     "data": {
      "text/plain": [
       "(array([1024., 1004., 1006., 1067.,  994., 1003., 1008., 1008.,  984.,\n",
       "        1013., 1024.,  961.,  993., 1015.,  996.,  998.,  967., 1039.,\n",
       "         957.,  935.,  980., 1024., 1008., 1009.,  993.,  979., 1011.,\n",
       "         984., 1000.,  970.,  956.,  983.,  985., 1012., 1004., 1005.,\n",
       "         993., 1012.,  982., 1005., 1019., 1028.,  993.,  955., 1020.,\n",
       "        1038., 1025.,  933.,  982., 1015.,  982., 1031.,  985.,  962.,\n",
       "         975., 1017.,  946., 1025.,  972., 1036., 1026., 1012., 1026.,\n",
       "         986., 1008., 1027., 1001.,  933., 1027.,  980., 1002., 1011.,\n",
       "         986.,  960.,  989.,  996., 1007.,  940.,  999.,  982., 1052.,\n",
       "        1055., 1032., 1082.,  983., 1034.,  994.,  959.,  989., 1038.,\n",
       "        1059.,  964., 1030., 1018., 1024.,  967., 1029.,  972.,  989.,\n",
       "        1002.]),\n",
       " array([6.00375000e-08, 1.00000594e-02, 2.00000588e-02, 3.00000582e-02,\n",
       "        4.00000576e-02, 5.00000570e-02, 6.00000564e-02, 7.00000558e-02,\n",
       "        8.00000552e-02, 9.00000546e-02, 1.00000054e-01, 1.10000053e-01,\n",
       "        1.20000053e-01, 1.30000052e-01, 1.40000052e-01, 1.50000051e-01,\n",
       "        1.60000050e-01, 1.70000050e-01, 1.80000049e-01, 1.90000049e-01,\n",
       "        2.00000048e-01, 2.10000047e-01, 2.20000047e-01, 2.30000046e-01,\n",
       "        2.40000046e-01, 2.50000045e-01, 2.60000044e-01, 2.70000044e-01,\n",
       "        2.80000043e-01, 2.90000043e-01, 3.00000042e-01, 3.10000041e-01,\n",
       "        3.20000041e-01, 3.30000040e-01, 3.40000040e-01, 3.50000039e-01,\n",
       "        3.60000038e-01, 3.70000038e-01, 3.80000037e-01, 3.90000037e-01,\n",
       "        4.00000036e-01, 4.10000035e-01, 4.20000035e-01, 4.30000034e-01,\n",
       "        4.40000034e-01, 4.50000033e-01, 4.60000032e-01, 4.70000032e-01,\n",
       "        4.80000031e-01, 4.90000031e-01, 5.00000030e-01, 5.10000029e-01,\n",
       "        5.20000029e-01, 5.30000028e-01, 5.40000028e-01, 5.50000027e-01,\n",
       "        5.60000026e-01, 5.70000026e-01, 5.80000025e-01, 5.90000025e-01,\n",
       "        6.00000024e-01, 6.10000023e-01, 6.20000023e-01, 6.30000022e-01,\n",
       "        6.40000022e-01, 6.50000021e-01, 6.60000020e-01, 6.70000020e-01,\n",
       "        6.80000019e-01, 6.90000019e-01, 7.00000018e-01, 7.10000017e-01,\n",
       "        7.20000017e-01, 7.30000016e-01, 7.40000016e-01, 7.50000015e-01,\n",
       "        7.60000014e-01, 7.70000014e-01, 7.80000013e-01, 7.90000013e-01,\n",
       "        8.00000012e-01, 8.10000011e-01, 8.20000011e-01, 8.30000010e-01,\n",
       "        8.40000010e-01, 8.50000009e-01, 8.60000008e-01, 8.70000008e-01,\n",
       "        8.80000007e-01, 8.90000007e-01, 9.00000006e-01, 9.10000005e-01,\n",
       "        9.20000005e-01, 9.30000004e-01, 9.40000004e-01, 9.50000003e-01,\n",
       "        9.60000002e-01, 9.70000002e-01, 9.80000001e-01, 9.90000001e-01,\n",
       "        1.00000000e+00]),\n",
       " <BarContainer object of 100 artists>)"
      ]
     },
     "execution_count": 5,
     "metadata": {},
     "output_type": "execute_result"
    },
    {
     "data": {
      "image/png": "[encoded data removed]",
      "text/plain": [
       "<Figure size 432x288 with 1 Axes>"
      ]
     },
     "metadata": {
      "needs_background": "light"
     },
     "output_type": "display_data"
    }
   ],
   "source": [
    "plt.hist(G_O, bins = 100, color='red', label = r'$\\beta = 2$', alpha=1, histtype='bar', ec='black')"
   ]
  },
  {
   "cell_type": "code",
   "execution_count": 6,
   "metadata": {},
   "outputs": [
    {
     "data": {
      "text/plain": [
       "(array([ 487.,  511.,  529.,  527.,  516.,  493.,  519.,  532.,  524.,\n",
       "         523.,  517.,  523.,  524.,  587.,  553.,  541.,  559.,  543.,\n",
       "         546.,  589.,  565.,  555.,  601.,  597.,  538.,  580.,  603.,\n",
       "         603.,  603.,  588.,  558.,  602.,  622.,  642.,  643.,  622.,\n",
       "         633.,  643.,  681.,  627.,  631.,  633.,  657.,  615.,  678.,\n",
       "         679.,  692.,  682.,  703.,  730.,  719.,  705.,  707.,  757.,\n",
       "         745.,  765.,  805.,  789.,  795.,  798.,  836.,  741.,  796.,\n",
       "         861.,  808.,  839.,  845.,  872.,  917.,  897.,  911.,  927.,\n",
       "         979., 1000.,  944.,  969., 1038., 1029., 1068., 1090., 1172.,\n",
       "        1151., 1194., 1182., 1234., 1291., 1364., 1367., 1502., 1532.,\n",
       "        1616., 1714., 1814., 2028., 2104., 2395., 2708., 3211., 4093.,\n",
       "        9927.]),\n",
       " array([6.00375000e-08, 2.50005944e-03, 5.00005884e-03, 7.50005824e-03,\n",
       "        1.00000576e-02, 1.25000570e-02, 1.50000564e-02, 1.75000558e-02,\n",
       "        2.00000552e-02, 2.25000546e-02, 2.50000540e-02, 2.75000534e-02,\n",
       "        3.00000528e-02, 3.25000522e-02, 3.50000516e-02, 3.75000510e-02,\n",
       "        4.00000504e-02, 4.25000498e-02, 4.50000492e-02, 4.75000486e-02,\n",
       "        5.00000480e-02, 5.25000474e-02, 5.50000468e-02, 5.75000462e-02,\n",
       "        6.00000456e-02, 6.25000450e-02, 6.50000444e-02, 6.75000438e-02,\n",
       "        7.00000432e-02, 7.25000426e-02, 7.50000420e-02, 7.75000414e-02,\n",
       "        8.00000408e-02, 8.25000402e-02, 8.50000396e-02, 8.75000390e-02,\n",
       "        9.00000384e-02, 9.25000378e-02, 9.50000372e-02, 9.75000366e-02,\n",
       "        1.00000036e-01, 1.02500035e-01, 1.05000035e-01, 1.07500034e-01,\n",
       "        1.10000034e-01, 1.12500033e-01, 1.15000032e-01, 1.17500032e-01,\n",
       "        1.20000031e-01, 1.22500031e-01, 1.25000030e-01, 1.27500029e-01,\n",
       "        1.30000029e-01, 1.32500028e-01, 1.35000028e-01, 1.37500027e-01,\n",
       "        1.40000026e-01, 1.42500026e-01, 1.45000025e-01, 1.47500025e-01,\n",
       "        1.50000024e-01, 1.52500023e-01, 1.55000023e-01, 1.57500022e-01,\n",
       "        1.60000022e-01, 1.62500021e-01, 1.65000020e-01, 1.67500020e-01,\n",
       "        1.70000019e-01, 1.72500019e-01, 1.75000018e-01, 1.77500017e-01,\n",
       "        1.80000017e-01, 1.82500016e-01, 1.85000016e-01, 1.87500015e-01,\n",
       "        1.90000014e-01, 1.92500014e-01, 1.95000013e-01, 1.97500013e-01,\n",
       "        2.00000012e-01, 2.02500011e-01, 2.05000011e-01, 2.07500010e-01,\n",
       "        2.10000010e-01, 2.12500009e-01, 2.15000008e-01, 2.17500008e-01,\n",
       "        2.20000007e-01, 2.22500007e-01, 2.25000006e-01, 2.27500005e-01,\n",
       "        2.30000005e-01, 2.32500004e-01, 2.35000004e-01, 2.37500003e-01,\n",
       "        2.40000002e-01, 2.42500002e-01, 2.45000001e-01, 2.47500001e-01,\n",
       "        2.50000000e-01]),\n",
       " <BarContainer object of 100 artists>)"
      ]
     },
     "execution_count": 6,
     "metadata": {},
     "output_type": "execute_result"
    },
    {
     "data": {
      "image/png": "[encoded data removed]",
      "text/plain": [
       "<Figure size 432x288 with 1 Axes>"
      ]
     },
     "metadata": {
      "needs_background": "light"
     },
     "output_type": "display_data"
    }
   ],
   "source": [
    "plt.hist(P_O, bins = 100, color='red', label = r'$\\beta = 2$', alpha=1, histtype='bar', ec='black')"
   ]
  },
  {
   "cell_type": "code",
   "execution_count": 7,
   "metadata": {},
   "outputs": [],
   "source": [
    "G = df_G[range(0,10)].values"
   ]
  },
  {
   "cell_type": "code",
   "execution_count": 8,
   "metadata": {},
   "outputs": [
    {
     "data": {
      "image/png": "[encoded data removed]",
      "text/plain": [
       "<Figure size 432x288 with 1 Axes>"
      ]
     },
     "metadata": {
      "needs_background": "light"
     },
     "output_type": "display_data"
    },
    {
     "data": {
      "text/plain": [
       "<Figure size 1440x1008 with 0 Axes>"
      ]
     },
     "metadata": {},
     "output_type": "display_data"
    }
   ],
   "source": [
    "plt.scatter(np.arange(1,11),np.mean(G,axis=0), color = 'red')\n",
    "fig=plt.figure(figsize=(20,14))"
   ]
  },
  {
   "cell_type": "code",
   "execution_count": 9,
   "metadata": {},
   "outputs": [
    {
     "data": {
      "image/png": "[encoded data removed]",
      "text/plain": [
       "<Figure size 432x288 with 1 Axes>"
      ]
     },
     "metadata": {
      "needs_background": "light"
     },
     "output_type": "display_data"
    },
    {
     "data": {
      "text/plain": [
       "<Figure size 1440x1008 with 0 Axes>"
      ]
     },
     "metadata": {},
     "output_type": "display_data"
    }
   ],
   "source": [
    "plt.scatter(np.arange(1,11),np.var(G,axis=0), color = 'red')\n",
    "fig=plt.figure(figsize=(20,14))"
   ]
  },
  {
   "cell_type": "code",
   "execution_count": null,
   "metadata": {},
   "outputs": [],
   "source": []
  }
 ],
 "metadata": {
  "kernelspec": {
   "display_name": "Python 3",
   "language": "python",
   "name": "python3"
  },
  "language_info": {
   "codemirror_mode": {
    "name": "ipython",
    "version": 3
   },
   "file_extension": ".py",
   "mimetype": "text/x-python",
   "name": "python",
   "nbconvert_exporter": "python",
   "pygments_lexer": "ipython3",
   "version": "3.8.10"
  }
 },
 "nbformat": 4,
 "nbformat_minor": 2
}
