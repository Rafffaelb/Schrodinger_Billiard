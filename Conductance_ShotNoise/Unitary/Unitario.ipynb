{
 "cells": [
  {
   "cell_type": "code",
   "execution_count": 1,
   "metadata": {},
   "outputs": [],
   "source": [
    "import numpy as np\n",
    "import matplotlib.pyplot as plt"
   ]
  },
  {
   "cell_type": "code",
   "execution_count": 7,
   "metadata": {},
   "outputs": [
    {
     "data": {
      "text/plain": [
       "100000"
      ]
     },
     "execution_count": 7,
     "metadata": {},
     "output_type": "execute_result"
    }
   ],
   "source": [
    "G_txt = open(\"G_U.txt\", \"r\")\n",
    "G_U = [float(line) for line in G_txt.readlines()]\n",
    "G_txt.close()\n",
    "len(G_U)\n",
    "\n",
    "R_txt = open(\"R_U.txt\", \"r\")\n",
    "R_U = [float(line) for line in R_txt.readlines()]\n",
    "R_txt.close()\n",
    "len(R_U)"
   ]
  },
  {
   "cell_type": "code",
   "execution_count": 11,
   "metadata": {},
   "outputs": [
    {
     "data": {
      "text/plain": [
       "(array([ 979., 1017.,  997.,  978., 1003., 1034., 1021.,  952.,  992.,\n",
       "         992., 1032., 1038., 1028.,  989.,  998.,  970.,  917., 1059.,\n",
       "         940., 1038.,  995., 1038.,  947.,  942., 1008., 1003., 1021.,\n",
       "         996.,  997., 1003.,  983., 1014.,  956., 1027., 1000.,  990.,\n",
       "        1034.,  993., 1001., 1031.,  956., 1005., 1013.,  957., 1014.,\n",
       "        1027., 1021., 1008., 1022.,  972.,  985.,  974., 1014., 1044.,\n",
       "        1035.,  972., 1009.,  961., 1003.,  943., 1062., 1026., 1019.,\n",
       "        1032., 1020., 1065.,  986., 1033., 1020., 1034.,  946.,  973.,\n",
       "         998.,  998.,  975., 1031.,  977., 1003.,  968.,  990.,  977.,\n",
       "        1030., 1040.,  986.,  988.,  992.,  967., 1066., 1009., 1027.,\n",
       "         984.,  968.,  963., 1009., 1018.,  944., 1000., 1024., 1022.,\n",
       "         942.]),\n",
       " array([5.25308000e-06, 1.00051205e-02, 2.00049880e-02, 3.00048555e-02,\n",
       "        4.00047230e-02, 5.00045904e-02, 6.00044579e-02, 7.00043254e-02,\n",
       "        8.00041928e-02, 9.00040603e-02, 1.00003928e-01, 1.10003795e-01,\n",
       "        1.20003663e-01, 1.30003530e-01, 1.40003398e-01, 1.50003265e-01,\n",
       "        1.60003133e-01, 1.70003000e-01, 1.80002868e-01, 1.90002735e-01,\n",
       "        2.00002602e-01, 2.10002470e-01, 2.20002337e-01, 2.30002205e-01,\n",
       "        2.40002072e-01, 2.50001940e-01, 2.60001807e-01, 2.70001675e-01,\n",
       "        2.80001542e-01, 2.90001410e-01, 3.00001277e-01, 3.10001145e-01,\n",
       "        3.20001012e-01, 3.30000880e-01, 3.40000747e-01, 3.50000615e-01,\n",
       "        3.60000482e-01, 3.70000349e-01, 3.80000217e-01, 3.90000084e-01,\n",
       "        3.99999952e-01, 4.09999819e-01, 4.19999687e-01, 4.29999554e-01,\n",
       "        4.39999422e-01, 4.49999289e-01, 4.59999157e-01, 4.69999024e-01,\n",
       "        4.79998892e-01, 4.89998759e-01, 4.99998627e-01, 5.09998494e-01,\n",
       "        5.19998361e-01, 5.29998229e-01, 5.39998096e-01, 5.49997964e-01,\n",
       "        5.59997831e-01, 5.69997699e-01, 5.79997566e-01, 5.89997434e-01,\n",
       "        5.99997301e-01, 6.09997169e-01, 6.19997036e-01, 6.29996904e-01,\n",
       "        6.39996771e-01, 6.49996639e-01, 6.59996506e-01, 6.69996374e-01,\n",
       "        6.79996241e-01, 6.89996108e-01, 6.99995976e-01, 7.09995843e-01,\n",
       "        7.19995711e-01, 7.29995578e-01, 7.39995446e-01, 7.49995313e-01,\n",
       "        7.59995181e-01, 7.69995048e-01, 7.79994916e-01, 7.89994783e-01,\n",
       "        7.99994651e-01, 8.09994518e-01, 8.19994386e-01, 8.29994253e-01,\n",
       "        8.39994120e-01, 8.49993988e-01, 8.59993855e-01, 8.69993723e-01,\n",
       "        8.79993590e-01, 8.89993458e-01, 8.99993325e-01, 9.09993193e-01,\n",
       "        9.19993060e-01, 9.29992928e-01, 9.39992795e-01, 9.49992663e-01,\n",
       "        9.59992530e-01, 9.69992398e-01, 9.79992265e-01, 9.89992133e-01,\n",
       "        9.99992000e-01]),\n",
       " <a list of 100 Patch objects>)"
      ]
     },
     "execution_count": 11,
     "metadata": {},
     "output_type": "execute_result"
    },
    {
     "data": {
      "image/png": "[encoded data removed]",
      "text/plain": [
       "<Figure size 432x288 with 1 Axes>"
      ]
     },
     "metadata": {},
     "output_type": "display_data"
    }
   ],
   "source": [
    "plt.hist(G_U, bins = 100, color='red', label = r'$\\beta = 2$', alpha=1, histtype='bar', ec='black')"
   ]
  },
  {
   "cell_type": "code",
   "execution_count": 12,
   "metadata": {},
   "outputs": [
    {
     "data": {
      "text/plain": [
       "(array([  490.,   500.,   490.,   455.,   512.,   508.,   540.,   555.,\n",
       "          530.,   525.,   528.,   530.,   521.,   548.,   540.,   526.,\n",
       "          555.,   506.,   545.,   552.,   530.,   621.,   619.,   614.,\n",
       "          527.,   599.,   564.,   569.,   546.,   570.,   569.,   612.,\n",
       "          628.,   589.,   630.,   596.,   656.,   621.,   688.,   653.,\n",
       "          679.,   636.,   724.,   661.,   714.,   691.,   679.,   638.,\n",
       "          718.,   665.,   723.,   706.,   720.,   700.,   692.,   772.,\n",
       "          703.,   792.,   836.,   816.,   767.,   790.,   816.,   835.,\n",
       "          775.,   863.,   915.,   871.,   877.,   887.,   894.,   908.,\n",
       "          912.,  1014.,   983.,  1006.,  1013.,  1098.,  1039.,  1082.,\n",
       "         1156.,  1123.,  1190.,  1202.,  1277.,  1324.,  1403.,  1412.,\n",
       "         1411.,  1624.,  1668.,  1717.,  1882.,  1953.,  2213.,  2443.,\n",
       "         2589.,  3147.,  4097., 10102.]),\n",
       " array([5.25305000e-06, 2.50520052e-03, 5.00514799e-03, 7.50509546e-03,\n",
       "        1.00050429e-02, 1.25049904e-02, 1.50049379e-02, 1.75048853e-02,\n",
       "        2.00048328e-02, 2.25047803e-02, 2.50047277e-02, 2.75046752e-02,\n",
       "        3.00046227e-02, 3.25045702e-02, 3.50045176e-02, 3.75044651e-02,\n",
       "        4.00044126e-02, 4.25043600e-02, 4.50043075e-02, 4.75042550e-02,\n",
       "        5.00042024e-02, 5.25041499e-02, 5.50040974e-02, 5.75040448e-02,\n",
       "        6.00039923e-02, 6.25039398e-02, 6.50038873e-02, 6.75038347e-02,\n",
       "        7.00037822e-02, 7.25037297e-02, 7.50036771e-02, 7.75036246e-02,\n",
       "        8.00035721e-02, 8.25035195e-02, 8.50034670e-02, 8.75034145e-02,\n",
       "        9.00033620e-02, 9.25033094e-02, 9.50032569e-02, 9.75032044e-02,\n",
       "        1.00003152e-01, 1.02503099e-01, 1.05003047e-01, 1.07502994e-01,\n",
       "        1.10002942e-01, 1.12502889e-01, 1.15002837e-01, 1.17502784e-01,\n",
       "        1.20002732e-01, 1.22502679e-01, 1.25002627e-01, 1.27502574e-01,\n",
       "        1.30002521e-01, 1.32502469e-01, 1.35002416e-01, 1.37502364e-01,\n",
       "        1.40002311e-01, 1.42502259e-01, 1.45002206e-01, 1.47502154e-01,\n",
       "        1.50002101e-01, 1.52502049e-01, 1.55001996e-01, 1.57501944e-01,\n",
       "        1.60001891e-01, 1.62501839e-01, 1.65001786e-01, 1.67501734e-01,\n",
       "        1.70001681e-01, 1.72501628e-01, 1.75001576e-01, 1.77501523e-01,\n",
       "        1.80001471e-01, 1.82501418e-01, 1.85001366e-01, 1.87501313e-01,\n",
       "        1.90001261e-01, 1.92501208e-01, 1.95001156e-01, 1.97501103e-01,\n",
       "        2.00001051e-01, 2.02500998e-01, 2.05000946e-01, 2.07500893e-01,\n",
       "        2.10000840e-01, 2.12500788e-01, 2.15000735e-01, 2.17500683e-01,\n",
       "        2.20000630e-01, 2.22500578e-01, 2.25000525e-01, 2.27500473e-01,\n",
       "        2.30000420e-01, 2.32500368e-01, 2.35000315e-01, 2.37500263e-01,\n",
       "        2.40000210e-01, 2.42500158e-01, 2.45000105e-01, 2.47500053e-01,\n",
       "        2.50000000e-01]),\n",
       " <a list of 100 Patch objects>)"
      ]
     },
     "execution_count": 12,
     "metadata": {},
     "output_type": "execute_result"
    },
    {
     "data": {
      "image/png": "[encoded data removed]",
      "text/plain": [
       "<Figure size 432x288 with 1 Axes>"
      ]
     },
     "metadata": {},
     "output_type": "display_data"
    }
   ],
   "source": [
    "plt.hist(R_U, bins = 100, color='red', label = r'$\\beta = 2$', alpha=1, histtype='bar', ec='black')"
   ]
  },
  {
   "cell_type": "code",
   "execution_count": 14,
   "metadata": {},
   "outputs": [
    {
     "data": {
      "text/plain": [
       "0.5000233148119743"
      ]
     },
     "execution_count": 14,
     "metadata": {},
     "output_type": "execute_result"
    }
   ],
   "source": [
    "np.mean(G_U)"
   ]
  },
  {
   "cell_type": "code",
   "execution_count": 15,
   "metadata": {},
   "outputs": [
    {
     "data": {
      "text/plain": [
       "0.1668959634345214"
      ]
     },
     "execution_count": 15,
     "metadata": {},
     "output_type": "execute_result"
    }
   ],
   "source": [
    "np.mean(R_U)"
   ]
  },
  {
   "cell_type": "code",
   "execution_count": null,
   "metadata": {},
   "outputs": [],
   "source": []
  }
 ],
 "metadata": {
  "kernelspec": {
   "display_name": "Python 3",
   "language": "python",
   "name": "python3"
  },
  "language_info": {
   "codemirror_mode": {
    "name": "ipython",
    "version": 3
   },
   "file_extension": ".py",
   "mimetype": "text/x-python",
   "name": "python",
   "nbconvert_exporter": "python",
   "pygments_lexer": "ipython3",
   "version": "3.6.9"
  }
 },
 "nbformat": 4,
 "nbformat_minor": 2
}
