{
 "cells": [
  {
   "cell_type": "code",
   "execution_count": 1,
   "metadata": {},
   "outputs": [],
   "source": [
    "import numpy as np\n",
    "import matplotlib.pyplot as plt\n",
    "import pandas as pd\n",
    "%matplotlib inline"
   ]
  },
  {
   "cell_type": "code",
   "execution_count": 2,
   "metadata": {},
   "outputs": [],
   "source": [
    "df_G = pd.read_csv(r'G.txt', sep='\\t', header = None)\n",
    "df_P = pd.read_csv(r'P.txt', sep='\\t', header = None)"
   ]
  },
  {
   "cell_type": "code",
   "execution_count": 3,
   "metadata": {
    "scrolled": false
   },
   "outputs": [
    {
     "data": {
      "text/html": [
       "<div>\n",
       "<style scoped>\n",
       "    .dataframe tbody tr th:only-of-type {\n",
       "        vertical-align: middle;\n",
       "    }\n",
       "\n",
       "    .dataframe tbody tr th {\n",
       "        vertical-align: top;\n",
       "    }\n",
       "\n",
       "    .dataframe thead th {\n",
       "        text-align: right;\n",
       "    }\n",
       "</style>\n",
       "<table border=\"1\" class=\"dataframe\">\n",
       "  <thead>\n",
       "    <tr style=\"text-align: right;\">\n",
       "      <th></th>\n",
       "      <th>1</th>\n",
       "      <th>2</th>\n",
       "      <th>3</th>\n",
       "      <th>4</th>\n",
       "      <th>5</th>\n",
       "      <th>6</th>\n",
       "      <th>7</th>\n",
       "      <th>8</th>\n",
       "      <th>9</th>\n",
       "      <th>10</th>\n",
       "    </tr>\n",
       "  </thead>\n",
       "  <tbody>\n",
       "    <tr>\n",
       "      <th>1</th>\n",
       "      <td>0.757311</td>\n",
       "      <td>0.398865</td>\n",
       "      <td>0.584691</td>\n",
       "      <td>1.44208</td>\n",
       "      <td>2.44172</td>\n",
       "      <td>2.66885</td>\n",
       "      <td>4.11065</td>\n",
       "      <td>3.89334</td>\n",
       "      <td>3.59020</td>\n",
       "      <td>5.33445</td>\n",
       "    </tr>\n",
       "    <tr>\n",
       "      <th>2</th>\n",
       "      <td>0.383245</td>\n",
       "      <td>0.623974</td>\n",
       "      <td>1.117670</td>\n",
       "      <td>1.15197</td>\n",
       "      <td>2.07211</td>\n",
       "      <td>2.38233</td>\n",
       "      <td>3.64602</td>\n",
       "      <td>3.74591</td>\n",
       "      <td>4.44264</td>\n",
       "      <td>4.60485</td>\n",
       "    </tr>\n",
       "    <tr>\n",
       "      <th>3</th>\n",
       "      <td>0.006659</td>\n",
       "      <td>0.803805</td>\n",
       "      <td>0.939169</td>\n",
       "      <td>2.31514</td>\n",
       "      <td>2.82577</td>\n",
       "      <td>2.77056</td>\n",
       "      <td>3.80129</td>\n",
       "      <td>3.33967</td>\n",
       "      <td>4.75128</td>\n",
       "      <td>4.68576</td>\n",
       "    </tr>\n",
       "    <tr>\n",
       "      <th>4</th>\n",
       "      <td>0.196502</td>\n",
       "      <td>0.984585</td>\n",
       "      <td>1.290740</td>\n",
       "      <td>1.58440</td>\n",
       "      <td>1.52778</td>\n",
       "      <td>2.93520</td>\n",
       "      <td>3.40950</td>\n",
       "      <td>4.10830</td>\n",
       "      <td>4.91153</td>\n",
       "      <td>5.15006</td>\n",
       "    </tr>\n",
       "    <tr>\n",
       "      <th>5</th>\n",
       "      <td>0.538940</td>\n",
       "      <td>0.508107</td>\n",
       "      <td>1.250230</td>\n",
       "      <td>1.61239</td>\n",
       "      <td>1.54662</td>\n",
       "      <td>3.28204</td>\n",
       "      <td>2.92846</td>\n",
       "      <td>3.44400</td>\n",
       "      <td>4.63166</td>\n",
       "      <td>4.78567</td>\n",
       "    </tr>\n",
       "    <tr>\n",
       "      <th>...</th>\n",
       "      <td>...</td>\n",
       "      <td>...</td>\n",
       "      <td>...</td>\n",
       "      <td>...</td>\n",
       "      <td>...</td>\n",
       "      <td>...</td>\n",
       "      <td>...</td>\n",
       "      <td>...</td>\n",
       "      <td>...</td>\n",
       "      <td>...</td>\n",
       "    </tr>\n",
       "    <tr>\n",
       "      <th>99996</th>\n",
       "      <td>0.669194</td>\n",
       "      <td>1.644030</td>\n",
       "      <td>1.361290</td>\n",
       "      <td>2.04623</td>\n",
       "      <td>2.87907</td>\n",
       "      <td>2.85506</td>\n",
       "      <td>3.36643</td>\n",
       "      <td>3.10884</td>\n",
       "      <td>4.16535</td>\n",
       "      <td>4.97015</td>\n",
       "    </tr>\n",
       "    <tr>\n",
       "      <th>99997</th>\n",
       "      <td>0.124631</td>\n",
       "      <td>0.854509</td>\n",
       "      <td>1.077230</td>\n",
       "      <td>1.82803</td>\n",
       "      <td>2.03795</td>\n",
       "      <td>2.38178</td>\n",
       "      <td>3.15901</td>\n",
       "      <td>3.23090</td>\n",
       "      <td>4.82028</td>\n",
       "      <td>4.36547</td>\n",
       "    </tr>\n",
       "    <tr>\n",
       "      <th>99998</th>\n",
       "      <td>0.055345</td>\n",
       "      <td>0.470194</td>\n",
       "      <td>2.171720</td>\n",
       "      <td>1.55417</td>\n",
       "      <td>1.41702</td>\n",
       "      <td>2.48091</td>\n",
       "      <td>3.11347</td>\n",
       "      <td>4.47810</td>\n",
       "      <td>4.49314</td>\n",
       "      <td>5.47919</td>\n",
       "    </tr>\n",
       "    <tr>\n",
       "      <th>99999</th>\n",
       "      <td>0.089092</td>\n",
       "      <td>1.186160</td>\n",
       "      <td>0.846264</td>\n",
       "      <td>2.08882</td>\n",
       "      <td>2.93978</td>\n",
       "      <td>2.59573</td>\n",
       "      <td>3.79338</td>\n",
       "      <td>3.60337</td>\n",
       "      <td>4.51468</td>\n",
       "      <td>4.55613</td>\n",
       "    </tr>\n",
       "    <tr>\n",
       "      <th>100000</th>\n",
       "      <td>0.775493</td>\n",
       "      <td>1.024660</td>\n",
       "      <td>1.133420</td>\n",
       "      <td>1.67377</td>\n",
       "      <td>2.16982</td>\n",
       "      <td>3.03731</td>\n",
       "      <td>3.34131</td>\n",
       "      <td>3.62528</td>\n",
       "      <td>5.06238</td>\n",
       "      <td>4.70585</td>\n",
       "    </tr>\n",
       "  </tbody>\n",
       "</table>\n",
       "<p>100000 rows × 10 columns</p>\n",
       "</div>"
      ],
      "text/plain": [
       "              1         2         3        4        5        6        7   \\\n",
       "1       0.757311  0.398865  0.584691  1.44208  2.44172  2.66885  4.11065   \n",
       "2       0.383245  0.623974  1.117670  1.15197  2.07211  2.38233  3.64602   \n",
       "3       0.006659  0.803805  0.939169  2.31514  2.82577  2.77056  3.80129   \n",
       "4       0.196502  0.984585  1.290740  1.58440  1.52778  2.93520  3.40950   \n",
       "5       0.538940  0.508107  1.250230  1.61239  1.54662  3.28204  2.92846   \n",
       "...          ...       ...       ...      ...      ...      ...      ...   \n",
       "99996   0.669194  1.644030  1.361290  2.04623  2.87907  2.85506  3.36643   \n",
       "99997   0.124631  0.854509  1.077230  1.82803  2.03795  2.38178  3.15901   \n",
       "99998   0.055345  0.470194  2.171720  1.55417  1.41702  2.48091  3.11347   \n",
       "99999   0.089092  1.186160  0.846264  2.08882  2.93978  2.59573  3.79338   \n",
       "100000  0.775493  1.024660  1.133420  1.67377  2.16982  3.03731  3.34131   \n",
       "\n",
       "             8        9        10  \n",
       "1       3.89334  3.59020  5.33445  \n",
       "2       3.74591  4.44264  4.60485  \n",
       "3       3.33967  4.75128  4.68576  \n",
       "4       4.10830  4.91153  5.15006  \n",
       "5       3.44400  4.63166  4.78567  \n",
       "...         ...      ...      ...  \n",
       "99996   3.10884  4.16535  4.97015  \n",
       "99997   3.23090  4.82028  4.36547  \n",
       "99998   4.47810  4.49314  5.47919  \n",
       "99999   3.60337  4.51468  4.55613  \n",
       "100000  3.62528  5.06238  4.70585  \n",
       "\n",
       "[100000 rows x 10 columns]"
      ]
     },
     "execution_count": 3,
     "metadata": {},
     "output_type": "execute_result"
    }
   ],
   "source": [
    "df_G.rename(columns = lambda s: s+1, index = lambda s: s+1)\n",
    "#Realizações por número de canais em cada guia"
   ]
  },
  {
   "cell_type": "code",
   "execution_count": 8,
   "metadata": {},
   "outputs": [],
   "source": [
    "G_O = df_G[0].values\n",
    "P_O = df_P[0].values"
   ]
  },
  {
   "cell_type": "code",
   "execution_count": 9,
   "metadata": {},
   "outputs": [
    {
     "data": {
      "text/plain": [
       "(array([9819., 4068., 3235., 2684., 2245., 2129., 1920., 1867., 1693.,\n",
       "        1556., 1573., 1513., 1462., 1360., 1302., 1314., 1273., 1200.,\n",
       "        1190., 1179., 1085., 1065., 1040., 1008.,  988., 1010., 1002.,\n",
       "        1007.,  971.,  988.,  913.,  916.,  907.,  856.,  854.,  951.,\n",
       "         829.,  806.,  745.,  796.,  779.,  770.,  745.,  794.,  745.,\n",
       "         732.,  706.,  709.,  692.,  709.,  704.,  681.,  651.,  700.,\n",
       "         674.,  687.,  628.,  667.,  664.,  681.,  698.,  636.,  615.,\n",
       "         644.,  631.,  611.,  569.,  632.,  596.,  604.,  567.,  554.,\n",
       "         584.,  588.,  572.,  590.,  609.,  559.,  614.,  505.,  527.,\n",
       "         542.,  531.,  532.,  530.,  543.,  541.,  521.,  521.,  542.,\n",
       "         510.,  560.,  533.,  554.,  534.,  558.,  515.,  487.,  512.,\n",
       "         492.]),\n",
       " array([5.56224000e-10, 9.99979055e-03, 1.99995805e-02, 2.99993705e-02,\n",
       "        3.99991605e-02, 4.99989505e-02, 5.99987405e-02, 6.99985305e-02,\n",
       "        7.99983205e-02, 8.99981105e-02, 9.99979005e-02, 1.09997690e-01,\n",
       "        1.19997480e-01, 1.29997270e-01, 1.39997060e-01, 1.49996850e-01,\n",
       "        1.59996640e-01, 1.69996430e-01, 1.79996220e-01, 1.89996010e-01,\n",
       "        1.99995800e-01, 2.09995590e-01, 2.19995380e-01, 2.29995170e-01,\n",
       "        2.39994960e-01, 2.49994750e-01, 2.59994540e-01, 2.69994330e-01,\n",
       "        2.79994120e-01, 2.89993910e-01, 2.99993700e-01, 3.09993490e-01,\n",
       "        3.19993280e-01, 3.29993070e-01, 3.39992860e-01, 3.49992650e-01,\n",
       "        3.59992440e-01, 3.69992230e-01, 3.79992020e-01, 3.89991810e-01,\n",
       "        3.99991600e-01, 4.09991390e-01, 4.19991180e-01, 4.29990970e-01,\n",
       "        4.39990760e-01, 4.49990550e-01, 4.59990340e-01, 4.69990130e-01,\n",
       "        4.79989920e-01, 4.89989710e-01, 4.99989500e-01, 5.09989290e-01,\n",
       "        5.19989080e-01, 5.29988870e-01, 5.39988660e-01, 5.49988450e-01,\n",
       "        5.59988240e-01, 5.69988030e-01, 5.79987820e-01, 5.89987610e-01,\n",
       "        5.99987400e-01, 6.09987190e-01, 6.19986980e-01, 6.29986770e-01,\n",
       "        6.39986560e-01, 6.49986350e-01, 6.59986140e-01, 6.69985930e-01,\n",
       "        6.79985720e-01, 6.89985510e-01, 6.99985300e-01, 7.09985090e-01,\n",
       "        7.19984880e-01, 7.29984670e-01, 7.39984460e-01, 7.49984250e-01,\n",
       "        7.59984040e-01, 7.69983830e-01, 7.79983620e-01, 7.89983410e-01,\n",
       "        7.99983200e-01, 8.09982990e-01, 8.19982780e-01, 8.29982570e-01,\n",
       "        8.39982360e-01, 8.49982150e-01, 8.59981940e-01, 8.69981730e-01,\n",
       "        8.79981520e-01, 8.89981310e-01, 8.99981100e-01, 9.09980890e-01,\n",
       "        9.19980680e-01, 9.29980470e-01, 9.39980260e-01, 9.49980050e-01,\n",
       "        9.59979840e-01, 9.69979630e-01, 9.79979420e-01, 9.89979210e-01,\n",
       "        9.99979000e-01]),\n",
       " <BarContainer object of 100 artists>)"
      ]
     },
     "execution_count": 9,
     "metadata": {},
     "output_type": "execute_result"
    },
    {
     "data": {
      "image/png": "[encoded data removed]",
      "text/plain": [
       "<Figure size 432x288 with 1 Axes>"
      ]
     },
     "metadata": {
      "needs_background": "light"
     },
     "output_type": "display_data"
    }
   ],
   "source": [
    "plt.hist(G_O, bins = 100, color='blue', label = r'$\\beta = 1$', alpha=1, histtype='bar', ec='black')"
   ]
  },
  {
   "cell_type": "code",
   "execution_count": 11,
   "metadata": {},
   "outputs": [
    {
     "data": {
      "text/plain": [
       "(array([4968., 2158., 1777., 1451., 1395., 1166., 1097., 1037., 1005.,\n",
       "         975.,  942.,  978.,  893.,  860.,  818.,  796.,  777.,  753.,\n",
       "         769.,  748.,  747.,  730.,  747.,  718.,  699.,  719.,  695.,\n",
       "         733.,  709.,  662.,  685.,  671.,  680.,  611.,  669.,  635.,\n",
       "         698.,  656.,  644.,  644.,  689.,  648.,  700.,  632.,  657.,\n",
       "         662.,  654.,  647.,  640.,  692.,  613.,  702.,  636.,  664.,\n",
       "         678.,  642.,  692.,  695.,  641.,  688.,  681.,  706.,  715.,\n",
       "         679.,  676.,  677.,  693.,  727.,  746.,  732.,  764.,  757.,\n",
       "         745.,  765.,  780.,  790.,  815.,  822.,  916.,  864.,  869.,\n",
       "         894.,  941.,  933.,  972.,  978., 1040., 1117., 1096., 1058.,\n",
       "        1197., 1346., 1386., 1412., 1461., 1745., 1938., 2273., 2950.,\n",
       "        6957.]),\n",
       " array([5.56224000e-10, 2.50000055e-03, 5.00000055e-03, 7.50000054e-03,\n",
       "        1.00000005e-02, 1.25000005e-02, 1.50000005e-02, 1.75000005e-02,\n",
       "        2.00000005e-02, 2.25000005e-02, 2.50000005e-02, 2.75000005e-02,\n",
       "        3.00000005e-02, 3.25000005e-02, 3.50000005e-02, 3.75000005e-02,\n",
       "        4.00000005e-02, 4.25000005e-02, 4.50000005e-02, 4.75000005e-02,\n",
       "        5.00000004e-02, 5.25000004e-02, 5.50000004e-02, 5.75000004e-02,\n",
       "        6.00000004e-02, 6.25000004e-02, 6.50000004e-02, 6.75000004e-02,\n",
       "        7.00000004e-02, 7.25000004e-02, 7.50000004e-02, 7.75000004e-02,\n",
       "        8.00000004e-02, 8.25000004e-02, 8.50000004e-02, 8.75000004e-02,\n",
       "        9.00000004e-02, 9.25000004e-02, 9.50000003e-02, 9.75000003e-02,\n",
       "        1.00000000e-01, 1.02500000e-01, 1.05000000e-01, 1.07500000e-01,\n",
       "        1.10000000e-01, 1.12500000e-01, 1.15000000e-01, 1.17500000e-01,\n",
       "        1.20000000e-01, 1.22500000e-01, 1.25000000e-01, 1.27500000e-01,\n",
       "        1.30000000e-01, 1.32500000e-01, 1.35000000e-01, 1.37500000e-01,\n",
       "        1.40000000e-01, 1.42500000e-01, 1.45000000e-01, 1.47500000e-01,\n",
       "        1.50000000e-01, 1.52500000e-01, 1.55000000e-01, 1.57500000e-01,\n",
       "        1.60000000e-01, 1.62500000e-01, 1.65000000e-01, 1.67500000e-01,\n",
       "        1.70000000e-01, 1.72500000e-01, 1.75000000e-01, 1.77500000e-01,\n",
       "        1.80000000e-01, 1.82500000e-01, 1.85000000e-01, 1.87500000e-01,\n",
       "        1.90000000e-01, 1.92500000e-01, 1.95000000e-01, 1.97500000e-01,\n",
       "        2.00000000e-01, 2.02500000e-01, 2.05000000e-01, 2.07500000e-01,\n",
       "        2.10000000e-01, 2.12500000e-01, 2.15000000e-01, 2.17500000e-01,\n",
       "        2.20000000e-01, 2.22500000e-01, 2.25000000e-01, 2.27500000e-01,\n",
       "        2.30000000e-01, 2.32500000e-01, 2.35000000e-01, 2.37500000e-01,\n",
       "        2.40000000e-01, 2.42500000e-01, 2.45000000e-01, 2.47500000e-01,\n",
       "        2.50000000e-01]),\n",
       " <BarContainer object of 100 artists>)"
      ]
     },
     "execution_count": 11,
     "metadata": {},
     "output_type": "execute_result"
    },
    {
     "data": {
      "image/png": "[encoded data removed]",
      "text/plain": [
       "<Figure size 432x288 with 1 Axes>"
      ]
     },
     "metadata": {
      "needs_background": "light"
     },
     "output_type": "display_data"
    }
   ],
   "source": [
    "plt.hist(P_O, bins = 100, color='blue', label = r'$\\beta = 1$', alpha=1, histtype='bar', ec='black')"
   ]
  },
  {
   "cell_type": "code",
   "execution_count": 12,
   "metadata": {},
   "outputs": [],
   "source": [
    "G = df_G[range(0,10)].values"
   ]
  },
  {
   "cell_type": "code",
   "execution_count": 13,
   "metadata": {},
   "outputs": [
    {
     "data": {
      "image/png": "[encoded data removed]",
      "text/plain": [
       "<Figure size 432x288 with 1 Axes>"
      ]
     },
     "metadata": {
      "needs_background": "light"
     },
     "output_type": "display_data"
    },
    {
     "data": {
      "text/plain": [
       "<Figure size 1440x1008 with 0 Axes>"
      ]
     },
     "metadata": {},
     "output_type": "display_data"
    }
   ],
   "source": [
    "plt.scatter(np.arange(1,11),np.mean(G,axis=0))\n",
    "fig=plt.figure(figsize=(20,14))"
   ]
  },
  {
   "cell_type": "code",
   "execution_count": 14,
   "metadata": {},
   "outputs": [
    {
     "data": {
      "image/png": "[encoded data removed]",
      "text/plain": [
       "<Figure size 432x288 with 1 Axes>"
      ]
     },
     "metadata": {
      "needs_background": "light"
     },
     "output_type": "display_data"
    },
    {
     "data": {
      "text/plain": [
       "<Figure size 1440x1008 with 0 Axes>"
      ]
     },
     "metadata": {},
     "output_type": "display_data"
    }
   ],
   "source": [
    "plt.scatter(np.arange(1,11),np.var(G,axis=0))\n",
    "fig=plt.figure(figsize=(20,14))"
   ]
  },
  {
   "cell_type": "code",
   "execution_count": null,
   "metadata": {},
   "outputs": [],
   "source": []
  }
 ],
 "metadata": {
  "kernelspec": {
   "display_name": "Python 3",
   "language": "python",
   "name": "python3"
  },
  "language_info": {
   "codemirror_mode": {
    "name": "ipython",
    "version": 3
   },
   "file_extension": ".py",
   "mimetype": "text/x-python",
   "name": "python",
   "nbconvert_exporter": "python",
   "pygments_lexer": "ipython3",
   "version": "3.8.10"
  }
 },
 "nbformat": 4,
 "nbformat_minor": 2
}
