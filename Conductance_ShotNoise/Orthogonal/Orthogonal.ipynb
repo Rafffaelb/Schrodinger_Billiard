{
 "cells": [
  {
   "cell_type": "code",
   "execution_count": 1,
   "metadata": {},
   "outputs": [],
   "source": [
    "import numpy as np\n",
    "import matplotlib.pyplot as plt\n",
    "import pandas as pd\n",
    "%matplotlib inline"
   ]
  },
  {
   "cell_type": "code",
   "execution_count": 2,
   "metadata": {},
   "outputs": [],
   "source": [
    "df_G = pd.read_csv(r'G_O.txt', sep='\\t', header = None)\n",
    "df_R = pd.read_csv(r'R_O.txt', sep='\\t', header = None)"
   ]
  },
  {
   "cell_type": "code",
   "execution_count": 3,
   "metadata": {
    "scrolled": false
   },
   "outputs": [
    {
     "data": {
      "text/html": [
       "<div>\n",
       "<style scoped>\n",
       "    .dataframe tbody tr th:only-of-type {\n",
       "        vertical-align: middle;\n",
       "    }\n",
       "\n",
       "    .dataframe tbody tr th {\n",
       "        vertical-align: top;\n",
       "    }\n",
       "\n",
       "    .dataframe thead th {\n",
       "        text-align: right;\n",
       "    }\n",
       "</style>\n",
       "<table border=\"1\" class=\"dataframe\">\n",
       "  <thead>\n",
       "    <tr style=\"text-align: right;\">\n",
       "      <th></th>\n",
       "      <th>1</th>\n",
       "      <th>2</th>\n",
       "      <th>3</th>\n",
       "      <th>4</th>\n",
       "      <th>5</th>\n",
       "      <th>6</th>\n",
       "      <th>7</th>\n",
       "      <th>8</th>\n",
       "      <th>9</th>\n",
       "      <th>10</th>\n",
       "    </tr>\n",
       "  </thead>\n",
       "  <tbody>\n",
       "    <tr>\n",
       "      <th>1</th>\n",
       "      <td>0.002310</td>\n",
       "      <td>0.619474</td>\n",
       "      <td>1.440870</td>\n",
       "      <td>1.92340</td>\n",
       "      <td>2.56723</td>\n",
       "      <td>2.98134</td>\n",
       "      <td>3.43955</td>\n",
       "      <td>3.54491</td>\n",
       "      <td>3.84962</td>\n",
       "      <td>5.14715</td>\n",
       "    </tr>\n",
       "    <tr>\n",
       "      <th>2</th>\n",
       "      <td>0.021559</td>\n",
       "      <td>0.700377</td>\n",
       "      <td>1.276770</td>\n",
       "      <td>1.53278</td>\n",
       "      <td>2.64107</td>\n",
       "      <td>3.35825</td>\n",
       "      <td>3.25378</td>\n",
       "      <td>3.95610</td>\n",
       "      <td>3.88579</td>\n",
       "      <td>4.50338</td>\n",
       "    </tr>\n",
       "    <tr>\n",
       "      <th>3</th>\n",
       "      <td>0.828818</td>\n",
       "      <td>0.820050</td>\n",
       "      <td>1.102840</td>\n",
       "      <td>1.90063</td>\n",
       "      <td>2.45983</td>\n",
       "      <td>2.66305</td>\n",
       "      <td>3.34621</td>\n",
       "      <td>4.32552</td>\n",
       "      <td>4.57742</td>\n",
       "      <td>5.33199</td>\n",
       "    </tr>\n",
       "    <tr>\n",
       "      <th>4</th>\n",
       "      <td>0.024201</td>\n",
       "      <td>0.882035</td>\n",
       "      <td>0.867990</td>\n",
       "      <td>2.17190</td>\n",
       "      <td>2.49317</td>\n",
       "      <td>2.89954</td>\n",
       "      <td>3.64399</td>\n",
       "      <td>3.87953</td>\n",
       "      <td>4.74631</td>\n",
       "      <td>4.88624</td>\n",
       "    </tr>\n",
       "    <tr>\n",
       "      <th>5</th>\n",
       "      <td>0.849155</td>\n",
       "      <td>0.732987</td>\n",
       "      <td>1.055970</td>\n",
       "      <td>2.10108</td>\n",
       "      <td>2.51224</td>\n",
       "      <td>2.44787</td>\n",
       "      <td>2.86150</td>\n",
       "      <td>4.09782</td>\n",
       "      <td>3.64236</td>\n",
       "      <td>4.88631</td>\n",
       "    </tr>\n",
       "    <tr>\n",
       "      <th>...</th>\n",
       "      <td>...</td>\n",
       "      <td>...</td>\n",
       "      <td>...</td>\n",
       "      <td>...</td>\n",
       "      <td>...</td>\n",
       "      <td>...</td>\n",
       "      <td>...</td>\n",
       "      <td>...</td>\n",
       "      <td>...</td>\n",
       "      <td>...</td>\n",
       "    </tr>\n",
       "    <tr>\n",
       "      <th>99996</th>\n",
       "      <td>0.004299</td>\n",
       "      <td>0.992819</td>\n",
       "      <td>0.990898</td>\n",
       "      <td>1.73885</td>\n",
       "      <td>2.09620</td>\n",
       "      <td>2.84862</td>\n",
       "      <td>3.13212</td>\n",
       "      <td>3.85368</td>\n",
       "      <td>4.52412</td>\n",
       "      <td>5.01379</td>\n",
       "    </tr>\n",
       "    <tr>\n",
       "      <th>99997</th>\n",
       "      <td>0.006691</td>\n",
       "      <td>0.610691</td>\n",
       "      <td>1.295810</td>\n",
       "      <td>1.52121</td>\n",
       "      <td>2.01978</td>\n",
       "      <td>2.26782</td>\n",
       "      <td>2.93841</td>\n",
       "      <td>4.47334</td>\n",
       "      <td>4.45089</td>\n",
       "      <td>4.75631</td>\n",
       "    </tr>\n",
       "    <tr>\n",
       "      <th>99998</th>\n",
       "      <td>0.092867</td>\n",
       "      <td>0.528623</td>\n",
       "      <td>1.332820</td>\n",
       "      <td>2.38617</td>\n",
       "      <td>3.13332</td>\n",
       "      <td>2.58092</td>\n",
       "      <td>3.24854</td>\n",
       "      <td>3.60685</td>\n",
       "      <td>4.54398</td>\n",
       "      <td>4.66677</td>\n",
       "    </tr>\n",
       "    <tr>\n",
       "      <th>99999</th>\n",
       "      <td>0.330061</td>\n",
       "      <td>1.506530</td>\n",
       "      <td>0.899209</td>\n",
       "      <td>1.28768</td>\n",
       "      <td>2.16991</td>\n",
       "      <td>3.12370</td>\n",
       "      <td>3.11681</td>\n",
       "      <td>3.31197</td>\n",
       "      <td>4.38703</td>\n",
       "      <td>4.59194</td>\n",
       "    </tr>\n",
       "    <tr>\n",
       "      <th>100000</th>\n",
       "      <td>0.552772</td>\n",
       "      <td>0.982917</td>\n",
       "      <td>1.969340</td>\n",
       "      <td>1.65809</td>\n",
       "      <td>1.98535</td>\n",
       "      <td>3.24816</td>\n",
       "      <td>3.81645</td>\n",
       "      <td>3.90814</td>\n",
       "      <td>3.86343</td>\n",
       "      <td>4.67975</td>\n",
       "    </tr>\n",
       "  </tbody>\n",
       "</table>\n",
       "<p>100000 rows × 10 columns</p>\n",
       "</div>"
      ],
      "text/plain": [
       "              1         2         3        4        5        6        7   \\\n",
       "1       0.002310  0.619474  1.440870  1.92340  2.56723  2.98134  3.43955   \n",
       "2       0.021559  0.700377  1.276770  1.53278  2.64107  3.35825  3.25378   \n",
       "3       0.828818  0.820050  1.102840  1.90063  2.45983  2.66305  3.34621   \n",
       "4       0.024201  0.882035  0.867990  2.17190  2.49317  2.89954  3.64399   \n",
       "5       0.849155  0.732987  1.055970  2.10108  2.51224  2.44787  2.86150   \n",
       "...          ...       ...       ...      ...      ...      ...      ...   \n",
       "99996   0.004299  0.992819  0.990898  1.73885  2.09620  2.84862  3.13212   \n",
       "99997   0.006691  0.610691  1.295810  1.52121  2.01978  2.26782  2.93841   \n",
       "99998   0.092867  0.528623  1.332820  2.38617  3.13332  2.58092  3.24854   \n",
       "99999   0.330061  1.506530  0.899209  1.28768  2.16991  3.12370  3.11681   \n",
       "100000  0.552772  0.982917  1.969340  1.65809  1.98535  3.24816  3.81645   \n",
       "\n",
       "             8        9        10  \n",
       "1       3.54491  3.84962  5.14715  \n",
       "2       3.95610  3.88579  4.50338  \n",
       "3       4.32552  4.57742  5.33199  \n",
       "4       3.87953  4.74631  4.88624  \n",
       "5       4.09782  3.64236  4.88631  \n",
       "...         ...      ...      ...  \n",
       "99996   3.85368  4.52412  5.01379  \n",
       "99997   4.47334  4.45089  4.75631  \n",
       "99998   3.60685  4.54398  4.66677  \n",
       "99999   3.31197  4.38703  4.59194  \n",
       "100000  3.90814  3.86343  4.67975  \n",
       "\n",
       "[100000 rows x 10 columns]"
      ]
     },
     "execution_count": 3,
     "metadata": {},
     "output_type": "execute_result"
    }
   ],
   "source": [
    "df_G.rename(columns = lambda s: s+1, index = lambda s: s+1)\n",
    "#Realizações por número de canais em cada guia"
   ]
  },
  {
   "cell_type": "code",
   "execution_count": 4,
   "metadata": {},
   "outputs": [],
   "source": [
    "G_O = df_G[0].values\n",
    "R_O = df_R[0].values"
   ]
  },
  {
   "cell_type": "code",
   "execution_count": 5,
   "metadata": {},
   "outputs": [
    {
     "data": {
      "text/plain": [
       "(array([10220.,  4146.,  3111.,  2746.,  2331.,  2139.,  1962.,  1778.,\n",
       "         1805.,  1572.,  1538.,  1459.,  1418.,  1343.,  1318.,  1288.,\n",
       "         1280.,  1198.,  1129.,  1140.,  1077.,  1079.,  1073.,  1037.,\n",
       "          942.,  1009.,   917.,   930.,   932.,   885.,   893.,   857.,\n",
       "          855.,   862.,   844.,   831.,   843.,   821.,   826.,   776.,\n",
       "          739.,   796.,   786.,   731.,   786.,   787.,   728.,   740.,\n",
       "          731.,   753.,   695.,   715.,   647.,   701.,   710.,   671.,\n",
       "          675.,   673.,   641.,   604.,   650.,   681.,   654.,   594.,\n",
       "          615.,   667.,   616.,   630.,   569.,   580.,   571.,   582.,\n",
       "          578.,   595.,   595.,   550.,   562.,   550.,   535.,   543.,\n",
       "          522.,   556.,   553.,   573.,   556.,   549.,   530.,   579.,\n",
       "          538.,   532.,   524.,   538.,   510.,   529.,   504.,   495.,\n",
       "          491.,   515.,   491.,   479.]),\n",
       " array([1.42518000e-10, 9.99996014e-03, 1.99999201e-02, 2.99998801e-02,\n",
       "        3.99998401e-02, 4.99998001e-02, 5.99997601e-02, 6.99997201e-02,\n",
       "        7.99996801e-02, 8.99996401e-02, 9.99996001e-02, 1.09999560e-01,\n",
       "        1.19999520e-01, 1.29999480e-01, 1.39999440e-01, 1.49999400e-01,\n",
       "        1.59999360e-01, 1.69999320e-01, 1.79999280e-01, 1.89999240e-01,\n",
       "        1.99999200e-01, 2.09999160e-01, 2.19999120e-01, 2.29999080e-01,\n",
       "        2.39999040e-01, 2.49999000e-01, 2.59998960e-01, 2.69998920e-01,\n",
       "        2.79998880e-01, 2.89998840e-01, 2.99998800e-01, 3.09998760e-01,\n",
       "        3.19998720e-01, 3.29998680e-01, 3.39998640e-01, 3.49998600e-01,\n",
       "        3.59998560e-01, 3.69998520e-01, 3.79998480e-01, 3.89998440e-01,\n",
       "        3.99998400e-01, 4.09998360e-01, 4.19998320e-01, 4.29998280e-01,\n",
       "        4.39998240e-01, 4.49998200e-01, 4.59998160e-01, 4.69998120e-01,\n",
       "        4.79998080e-01, 4.89998040e-01, 4.99998000e-01, 5.09997960e-01,\n",
       "        5.19997920e-01, 5.29997880e-01, 5.39997840e-01, 5.49997800e-01,\n",
       "        5.59997760e-01, 5.69997720e-01, 5.79997680e-01, 5.89997640e-01,\n",
       "        5.99997600e-01, 6.09997560e-01, 6.19997520e-01, 6.29997480e-01,\n",
       "        6.39997440e-01, 6.49997400e-01, 6.59997360e-01, 6.69997320e-01,\n",
       "        6.79997280e-01, 6.89997240e-01, 6.99997200e-01, 7.09997160e-01,\n",
       "        7.19997120e-01, 7.29997080e-01, 7.39997040e-01, 7.49997000e-01,\n",
       "        7.59996960e-01, 7.69996920e-01, 7.79996880e-01, 7.89996840e-01,\n",
       "        7.99996800e-01, 8.09996760e-01, 8.19996720e-01, 8.29996680e-01,\n",
       "        8.39996640e-01, 8.49996600e-01, 8.59996560e-01, 8.69996520e-01,\n",
       "        8.79996480e-01, 8.89996440e-01, 8.99996400e-01, 9.09996360e-01,\n",
       "        9.19996320e-01, 9.29996280e-01, 9.39996240e-01, 9.49996200e-01,\n",
       "        9.59996160e-01, 9.69996120e-01, 9.79996080e-01, 9.89996040e-01,\n",
       "        9.99996000e-01]),\n",
       " <a list of 100 Patch objects>)"
      ]
     },
     "execution_count": 5,
     "metadata": {},
     "output_type": "execute_result"
    },
    {
     "data": {
      "image/png": "[encoded data removed]",
      "text/plain": [
       "<Figure size 432x288 with 1 Axes>"
      ]
     },
     "metadata": {},
     "output_type": "display_data"
    }
   ],
   "source": [
    "plt.hist(G_O, bins = 100, color='blue', label = r'$\\beta = 1$', alpha=1, histtype='bar', ec='black')"
   ]
  },
  {
   "cell_type": "code",
   "execution_count": 6,
   "metadata": {},
   "outputs": [
    {
     "data": {
      "text/plain": [
       "(array([5153., 2247., 1852., 1489., 1339., 1195., 1187., 1024., 1045.,\n",
       "         936.,  927.,  880.,  903.,  829.,  906.,  812.,  782.,  736.,\n",
       "         783.,  767.,  734.,  736.,  729.,  734.,  728.,  674.,  709.,\n",
       "         654.,  658.,  676.,  710.,  729.,  680.,  674.,  634.,  635.,\n",
       "         684.,  615.,  660.,  638.,  666.,  650.,  655.,  650.,  677.,\n",
       "         678.,  621.,  650.,  665.,  644.,  651.,  686.,  646.,  680.,\n",
       "         693.,  698.,  688.,  649.,  685.,  658.,  689.,  684.,  701.,\n",
       "         638.,  675.,  702.,  710.,  677.,  746.,  683.,  794.,  743.,\n",
       "         756.,  702.,  760.,  813.,  836.,  820.,  769.,  838.,  874.,\n",
       "         872.,  883.,  888.,  915.,  991.,  961., 1030., 1095., 1159.,\n",
       "        1223., 1264., 1318., 1442., 1576., 1691., 1802., 2342., 2958.,\n",
       "        7207.]),\n",
       " array([1.42518000e-10, 2.50000014e-03, 5.00000014e-03, 7.50000014e-03,\n",
       "        1.00000001e-02, 1.25000001e-02, 1.50000001e-02, 1.75000001e-02,\n",
       "        2.00000001e-02, 2.25000001e-02, 2.50000001e-02, 2.75000001e-02,\n",
       "        3.00000001e-02, 3.25000001e-02, 3.50000001e-02, 3.75000001e-02,\n",
       "        4.00000001e-02, 4.25000001e-02, 4.50000001e-02, 4.75000001e-02,\n",
       "        5.00000001e-02, 5.25000001e-02, 5.50000001e-02, 5.75000001e-02,\n",
       "        6.00000001e-02, 6.25000001e-02, 6.50000001e-02, 6.75000001e-02,\n",
       "        7.00000001e-02, 7.25000001e-02, 7.50000001e-02, 7.75000001e-02,\n",
       "        8.00000001e-02, 8.25000001e-02, 8.50000001e-02, 8.75000001e-02,\n",
       "        9.00000001e-02, 9.25000001e-02, 9.50000001e-02, 9.75000001e-02,\n",
       "        1.00000000e-01, 1.02500000e-01, 1.05000000e-01, 1.07500000e-01,\n",
       "        1.10000000e-01, 1.12500000e-01, 1.15000000e-01, 1.17500000e-01,\n",
       "        1.20000000e-01, 1.22500000e-01, 1.25000000e-01, 1.27500000e-01,\n",
       "        1.30000000e-01, 1.32500000e-01, 1.35000000e-01, 1.37500000e-01,\n",
       "        1.40000000e-01, 1.42500000e-01, 1.45000000e-01, 1.47500000e-01,\n",
       "        1.50000000e-01, 1.52500000e-01, 1.55000000e-01, 1.57500000e-01,\n",
       "        1.60000000e-01, 1.62500000e-01, 1.65000000e-01, 1.67500000e-01,\n",
       "        1.70000000e-01, 1.72500000e-01, 1.75000000e-01, 1.77500000e-01,\n",
       "        1.80000000e-01, 1.82500000e-01, 1.85000000e-01, 1.87500000e-01,\n",
       "        1.90000000e-01, 1.92500000e-01, 1.95000000e-01, 1.97500000e-01,\n",
       "        2.00000000e-01, 2.02500000e-01, 2.05000000e-01, 2.07500000e-01,\n",
       "        2.10000000e-01, 2.12500000e-01, 2.15000000e-01, 2.17500000e-01,\n",
       "        2.20000000e-01, 2.22500000e-01, 2.25000000e-01, 2.27500000e-01,\n",
       "        2.30000000e-01, 2.32500000e-01, 2.35000000e-01, 2.37500000e-01,\n",
       "        2.40000000e-01, 2.42500000e-01, 2.45000000e-01, 2.47500000e-01,\n",
       "        2.50000000e-01]),\n",
       " <a list of 100 Patch objects>)"
      ]
     },
     "execution_count": 6,
     "metadata": {},
     "output_type": "execute_result"
    },
    {
     "data": {
      "image/png": "[encoded data removed]",
      "text/plain": [
       "<Figure size 432x288 with 1 Axes>"
      ]
     },
     "metadata": {},
     "output_type": "display_data"
    }
   ],
   "source": [
    "plt.hist(R_O, bins = 100, color='blue', label = r'$\\beta = 1$', alpha=1, histtype='bar', ec='black')"
   ]
  },
  {
   "cell_type": "code",
   "execution_count": 7,
   "metadata": {},
   "outputs": [],
   "source": [
    "G = df_G[range(0,10)].values"
   ]
  },
  {
   "cell_type": "code",
   "execution_count": 8,
   "metadata": {},
   "outputs": [
    {
     "data": {
      "image/png": "[encoded data removed]",
      "text/plain": [
       "<Figure size 432x288 with 1 Axes>"
      ]
     },
     "metadata": {},
     "output_type": "display_data"
    },
    {
     "data": {
      "text/plain": [
       "<Figure size 1440x1008 with 0 Axes>"
      ]
     },
     "metadata": {},
     "output_type": "display_data"
    }
   ],
   "source": [
    "plt.scatter(np.arange(1,11),np.mean(G,axis=0))\n",
    "fig=plt.figure(figsize=(20,14))"
   ]
  },
  {
   "cell_type": "code",
   "execution_count": 9,
   "metadata": {},
   "outputs": [
    {
     "data": {
      "image/png": "[encoded data removed]",
      "text/plain": [
       "<Figure size 432x288 with 1 Axes>"
      ]
     },
     "metadata": {},
     "output_type": "display_data"
    },
    {
     "data": {
      "text/plain": [
       "<Figure size 1440x1008 with 0 Axes>"
      ]
     },
     "metadata": {},
     "output_type": "display_data"
    }
   ],
   "source": [
    "plt.scatter(np.arange(1,11),np.var(G,axis=0))\n",
    "fig=plt.figure(figsize=(20,14))"
   ]
  },
  {
   "cell_type": "code",
   "execution_count": null,
   "metadata": {},
   "outputs": [],
   "source": []
  }
 ],
 "metadata": {
  "kernelspec": {
   "display_name": "Python 3",
   "language": "python",
   "name": "python3"
  },
  "language_info": {
   "codemirror_mode": {
    "name": "ipython",
    "version": 3
   },
   "file_extension": ".py",
   "mimetype": "text/x-python",
   "name": "python",
   "nbconvert_exporter": "python",
   "pygments_lexer": "ipython3",
   "version": "3.6.9"
  }
 },
 "nbformat": 4,
 "nbformat_minor": 2
}
