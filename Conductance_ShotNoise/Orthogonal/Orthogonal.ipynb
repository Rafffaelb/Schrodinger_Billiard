{
 "cells": [
  {
   "cell_type": "code",
   "execution_count": 1,
   "metadata": {},
   "outputs": [],
   "source": [
    "import numpy as np\n",
    "import matplotlib.pyplot as plt\n",
    "import pandas as pd\n",
    "%matplotlib inline"
   ]
  },
  {
   "cell_type": "code",
   "execution_count": 2,
   "metadata": {},
   "outputs": [],
   "source": [
    "df_G = pd.read_csv(r'G.txt', sep='\\t', header = None)\n",
    "df_P = pd.read_csv(r'P.txt', sep='\\t', header = None)"
   ]
  },
  {
   "cell_type": "code",
   "execution_count": 3,
   "metadata": {
    "scrolled": false
   },
   "outputs": [
    {
     "data": {
      "text/html": [
       "<div>\n",
       "<style scoped>\n",
       "    .dataframe tbody tr th:only-of-type {\n",
       "        vertical-align: middle;\n",
       "    }\n",
       "\n",
       "    .dataframe tbody tr th {\n",
       "        vertical-align: top;\n",
       "    }\n",
       "\n",
       "    .dataframe thead th {\n",
       "        text-align: right;\n",
       "    }\n",
       "</style>\n",
       "<table border=\"1\" class=\"dataframe\">\n",
       "  <thead>\n",
       "    <tr style=\"text-align: right;\">\n",
       "      <th></th>\n",
       "      <th>1</th>\n",
       "      <th>2</th>\n",
       "      <th>3</th>\n",
       "      <th>4</th>\n",
       "      <th>5</th>\n",
       "      <th>6</th>\n",
       "      <th>7</th>\n",
       "      <th>8</th>\n",
       "      <th>9</th>\n",
       "      <th>10</th>\n",
       "    </tr>\n",
       "  </thead>\n",
       "  <tbody>\n",
       "    <tr>\n",
       "      <th>1</th>\n",
       "      <td>0.286029</td>\n",
       "      <td>0.680003</td>\n",
       "      <td>1.164520</td>\n",
       "      <td>2.55547</td>\n",
       "      <td>1.85297</td>\n",
       "      <td>1.98367</td>\n",
       "      <td>2.91686</td>\n",
       "      <td>3.65669</td>\n",
       "      <td>4.53037</td>\n",
       "      <td>4.67317</td>\n",
       "    </tr>\n",
       "    <tr>\n",
       "      <th>2</th>\n",
       "      <td>0.013524</td>\n",
       "      <td>0.602924</td>\n",
       "      <td>1.076800</td>\n",
       "      <td>2.25123</td>\n",
       "      <td>1.67688</td>\n",
       "      <td>2.73732</td>\n",
       "      <td>3.20737</td>\n",
       "      <td>3.34579</td>\n",
       "      <td>3.71640</td>\n",
       "      <td>4.83817</td>\n",
       "    </tr>\n",
       "    <tr>\n",
       "      <th>3</th>\n",
       "      <td>0.612068</td>\n",
       "      <td>0.790149</td>\n",
       "      <td>1.190500</td>\n",
       "      <td>1.64134</td>\n",
       "      <td>2.04061</td>\n",
       "      <td>3.22468</td>\n",
       "      <td>3.09534</td>\n",
       "      <td>3.49260</td>\n",
       "      <td>4.49626</td>\n",
       "      <td>4.55133</td>\n",
       "    </tr>\n",
       "    <tr>\n",
       "      <th>4</th>\n",
       "      <td>0.192114</td>\n",
       "      <td>1.426360</td>\n",
       "      <td>1.383160</td>\n",
       "      <td>2.02586</td>\n",
       "      <td>2.46038</td>\n",
       "      <td>2.49832</td>\n",
       "      <td>3.12592</td>\n",
       "      <td>4.09572</td>\n",
       "      <td>3.95724</td>\n",
       "      <td>4.87615</td>\n",
       "    </tr>\n",
       "    <tr>\n",
       "      <th>5</th>\n",
       "      <td>0.902804</td>\n",
       "      <td>0.578913</td>\n",
       "      <td>1.404200</td>\n",
       "      <td>1.16879</td>\n",
       "      <td>2.45533</td>\n",
       "      <td>2.75348</td>\n",
       "      <td>3.50818</td>\n",
       "      <td>3.92045</td>\n",
       "      <td>4.49208</td>\n",
       "      <td>4.78686</td>\n",
       "    </tr>\n",
       "    <tr>\n",
       "      <th>...</th>\n",
       "      <td>...</td>\n",
       "      <td>...</td>\n",
       "      <td>...</td>\n",
       "      <td>...</td>\n",
       "      <td>...</td>\n",
       "      <td>...</td>\n",
       "      <td>...</td>\n",
       "      <td>...</td>\n",
       "      <td>...</td>\n",
       "      <td>...</td>\n",
       "    </tr>\n",
       "    <tr>\n",
       "      <th>99996</th>\n",
       "      <td>0.139338</td>\n",
       "      <td>0.774656</td>\n",
       "      <td>1.871310</td>\n",
       "      <td>1.98752</td>\n",
       "      <td>1.33210</td>\n",
       "      <td>2.84321</td>\n",
       "      <td>3.56512</td>\n",
       "      <td>3.26185</td>\n",
       "      <td>4.79534</td>\n",
       "      <td>4.54637</td>\n",
       "    </tr>\n",
       "    <tr>\n",
       "      <th>99997</th>\n",
       "      <td>0.103541</td>\n",
       "      <td>0.642640</td>\n",
       "      <td>0.738978</td>\n",
       "      <td>1.57951</td>\n",
       "      <td>2.42772</td>\n",
       "      <td>2.66137</td>\n",
       "      <td>3.21904</td>\n",
       "      <td>3.52882</td>\n",
       "      <td>4.60091</td>\n",
       "      <td>4.89536</td>\n",
       "    </tr>\n",
       "    <tr>\n",
       "      <th>99998</th>\n",
       "      <td>0.811180</td>\n",
       "      <td>0.320079</td>\n",
       "      <td>0.847647</td>\n",
       "      <td>2.08454</td>\n",
       "      <td>2.65668</td>\n",
       "      <td>2.57133</td>\n",
       "      <td>3.75328</td>\n",
       "      <td>4.09582</td>\n",
       "      <td>4.00121</td>\n",
       "      <td>4.26022</td>\n",
       "    </tr>\n",
       "    <tr>\n",
       "      <th>99999</th>\n",
       "      <td>0.054037</td>\n",
       "      <td>1.048290</td>\n",
       "      <td>1.268760</td>\n",
       "      <td>1.84710</td>\n",
       "      <td>1.86797</td>\n",
       "      <td>2.30100</td>\n",
       "      <td>3.25459</td>\n",
       "      <td>4.00476</td>\n",
       "      <td>4.76281</td>\n",
       "      <td>4.19179</td>\n",
       "    </tr>\n",
       "    <tr>\n",
       "      <th>100000</th>\n",
       "      <td>0.901649</td>\n",
       "      <td>0.726371</td>\n",
       "      <td>1.316410</td>\n",
       "      <td>2.02768</td>\n",
       "      <td>2.30075</td>\n",
       "      <td>3.24722</td>\n",
       "      <td>2.45834</td>\n",
       "      <td>4.23310</td>\n",
       "      <td>4.20034</td>\n",
       "      <td>4.71590</td>\n",
       "    </tr>\n",
       "  </tbody>\n",
       "</table>\n",
       "<p>100000 rows × 10 columns</p>\n",
       "</div>"
      ],
      "text/plain": [
       "              1         2         3        4        5        6        7   \\\n",
       "1       0.286029  0.680003  1.164520  2.55547  1.85297  1.98367  2.91686   \n",
       "2       0.013524  0.602924  1.076800  2.25123  1.67688  2.73732  3.20737   \n",
       "3       0.612068  0.790149  1.190500  1.64134  2.04061  3.22468  3.09534   \n",
       "4       0.192114  1.426360  1.383160  2.02586  2.46038  2.49832  3.12592   \n",
       "5       0.902804  0.578913  1.404200  1.16879  2.45533  2.75348  3.50818   \n",
       "...          ...       ...       ...      ...      ...      ...      ...   \n",
       "99996   0.139338  0.774656  1.871310  1.98752  1.33210  2.84321  3.56512   \n",
       "99997   0.103541  0.642640  0.738978  1.57951  2.42772  2.66137  3.21904   \n",
       "99998   0.811180  0.320079  0.847647  2.08454  2.65668  2.57133  3.75328   \n",
       "99999   0.054037  1.048290  1.268760  1.84710  1.86797  2.30100  3.25459   \n",
       "100000  0.901649  0.726371  1.316410  2.02768  2.30075  3.24722  2.45834   \n",
       "\n",
       "             8        9        10  \n",
       "1       3.65669  4.53037  4.67317  \n",
       "2       3.34579  3.71640  4.83817  \n",
       "3       3.49260  4.49626  4.55133  \n",
       "4       4.09572  3.95724  4.87615  \n",
       "5       3.92045  4.49208  4.78686  \n",
       "...         ...      ...      ...  \n",
       "99996   3.26185  4.79534  4.54637  \n",
       "99997   3.52882  4.60091  4.89536  \n",
       "99998   4.09582  4.00121  4.26022  \n",
       "99999   4.00476  4.76281  4.19179  \n",
       "100000  4.23310  4.20034  4.71590  \n",
       "\n",
       "[100000 rows x 10 columns]"
      ]
     },
     "execution_count": 3,
     "metadata": {},
     "output_type": "execute_result"
    }
   ],
   "source": [
    "df_G.rename(columns = lambda s: s+1, index = lambda s: s+1)\n",
    "#Realizações por número de canais em cada guia"
   ]
  },
  {
   "cell_type": "code",
   "execution_count": 4,
   "metadata": {},
   "outputs": [],
   "source": [
    "G_O = df_G[0].values\n",
    "P_O = df_P[0].values"
   ]
  },
  {
   "cell_type": "code",
   "execution_count": 5,
   "metadata": {},
   "outputs": [
    {
     "data": {
      "text/plain": [
       "(array([10158.,  4110.,  3255.,  2669.,  2393.,  2152.,  2019.,  1833.,\n",
       "         1721.,  1636.,  1623.,  1449.,  1388.,  1352.,  1291.,  1252.,\n",
       "         1212.,  1236.,  1117.,  1097.,  1055.,  1078.,  1049.,  1060.,\n",
       "          991.,  1047.,   926.,   912.,   891.,   947.,   879.,   914.,\n",
       "          867.,   893.,   752.,   895.,   840.,   795.,   767.,   824.,\n",
       "          775.,   827.,   755.,   726.,   714.,   778.,   738.,   753.,\n",
       "          680.,   785.,   718.,   695.,   694.,   669.,   692.,   640.,\n",
       "          651.,   655.,   649.,   674.,   654.,   662.,   618.,   657.,\n",
       "          631.,   645.,   562.,   567.,   613.,   577.,   592.,   616.,\n",
       "          579.,   563.,   526.,   561.,   573.,   535.,   594.,   592.,\n",
       "          546.,   516.,   565.,   534.,   499.,   551.,   528.,   554.,\n",
       "          554.,   481.,   523.,   491.,   538.,   479.,   527.,   543.,\n",
       "          512.,   492.,   528.,   509.]),\n",
       " array([1.99930000e-10, 9.99989020e-03, 1.99997802e-02, 2.99996702e-02,\n",
       "        3.99995602e-02, 4.99994502e-02, 5.99993402e-02, 6.99992302e-02,\n",
       "        7.99991202e-02, 8.99990102e-02, 9.99989002e-02, 1.09998790e-01,\n",
       "        1.19998680e-01, 1.29998570e-01, 1.39998460e-01, 1.49998350e-01,\n",
       "        1.59998240e-01, 1.69998130e-01, 1.79998020e-01, 1.89997910e-01,\n",
       "        1.99997800e-01, 2.09997690e-01, 2.19997580e-01, 2.29997470e-01,\n",
       "        2.39997360e-01, 2.49997250e-01, 2.59997140e-01, 2.69997030e-01,\n",
       "        2.79996920e-01, 2.89996810e-01, 2.99996700e-01, 3.09996590e-01,\n",
       "        3.19996480e-01, 3.29996370e-01, 3.39996260e-01, 3.49996150e-01,\n",
       "        3.59996040e-01, 3.69995930e-01, 3.79995820e-01, 3.89995710e-01,\n",
       "        3.99995600e-01, 4.09995490e-01, 4.19995380e-01, 4.29995270e-01,\n",
       "        4.39995160e-01, 4.49995050e-01, 4.59994940e-01, 4.69994830e-01,\n",
       "        4.79994720e-01, 4.89994610e-01, 4.99994500e-01, 5.09994390e-01,\n",
       "        5.19994280e-01, 5.29994170e-01, 5.39994060e-01, 5.49993950e-01,\n",
       "        5.59993840e-01, 5.69993730e-01, 5.79993620e-01, 5.89993510e-01,\n",
       "        5.99993400e-01, 6.09993290e-01, 6.19993180e-01, 6.29993070e-01,\n",
       "        6.39992960e-01, 6.49992850e-01, 6.59992740e-01, 6.69992630e-01,\n",
       "        6.79992520e-01, 6.89992410e-01, 6.99992300e-01, 7.09992190e-01,\n",
       "        7.19992080e-01, 7.29991970e-01, 7.39991860e-01, 7.49991750e-01,\n",
       "        7.59991640e-01, 7.69991530e-01, 7.79991420e-01, 7.89991310e-01,\n",
       "        7.99991200e-01, 8.09991090e-01, 8.19990980e-01, 8.29990870e-01,\n",
       "        8.39990760e-01, 8.49990650e-01, 8.59990540e-01, 8.69990430e-01,\n",
       "        8.79990320e-01, 8.89990210e-01, 8.99990100e-01, 9.09989990e-01,\n",
       "        9.19989880e-01, 9.29989770e-01, 9.39989660e-01, 9.49989550e-01,\n",
       "        9.59989440e-01, 9.69989330e-01, 9.79989220e-01, 9.89989110e-01,\n",
       "        9.99989000e-01]),\n",
       " <BarContainer object of 100 artists>)"
      ]
     },
     "execution_count": 5,
     "metadata": {},
     "output_type": "execute_result"
    },
    {
     "data": {
      "image/png": "[encoded data removed]",
      "text/plain": [
       "<Figure size 432x288 with 1 Axes>"
      ]
     },
     "metadata": {
      "needs_background": "light"
     },
     "output_type": "display_data"
    }
   ],
   "source": [
    "plt.hist(G_O, bins = 100, color='blue', label = r'$\\beta = 1$', alpha=1, histtype='bar', ec='black')"
   ]
  },
  {
   "cell_type": "code",
   "execution_count": 6,
   "metadata": {},
   "outputs": [
    {
     "data": {
      "text/plain": [
       "(array([5188., 2284., 1762., 1489., 1302., 1238., 1156., 1078., 1039.,\n",
       "         993.,  913.,  962.,  836.,  864.,  830.,  808.,  830.,  781.,\n",
       "         816.,  715.,  758.,  776.,  740.,  696.,  713.,  747.,  705.,\n",
       "         711.,  670.,  678.,  677.,  663.,  674.,  643.,  665.,  688.,\n",
       "         658.,  687.,  666.,  631.,  674.,  633.,  660.,  608.,  677.,\n",
       "         692.,  601.,  630.,  653.,  645.,  656.,  632.,  632.,  623.,\n",
       "         671.,  660.,  637.,  686.,  737.,  623.,  664.,  655.,  666.,\n",
       "         688.,  696.,  713.,  685.,  743.,  752.,  729.,  693.,  752.,\n",
       "         807.,  759.,  759.,  797.,  804.,  772.,  827.,  823.,  850.,\n",
       "         881.,  918.,  926.,  938.,  972., 1027., 1043., 1033., 1100.,\n",
       "        1155., 1314., 1359., 1430., 1500., 1741., 1961., 2272., 2836.,\n",
       "        7200.]),\n",
       " array([1.99930000e-10, 2.50000020e-03, 5.00000020e-03, 7.50000019e-03,\n",
       "        1.00000002e-02, 1.25000002e-02, 1.50000002e-02, 1.75000002e-02,\n",
       "        2.00000002e-02, 2.25000002e-02, 2.50000002e-02, 2.75000002e-02,\n",
       "        3.00000002e-02, 3.25000002e-02, 3.50000002e-02, 3.75000002e-02,\n",
       "        4.00000002e-02, 4.25000002e-02, 4.50000002e-02, 4.75000002e-02,\n",
       "        5.00000002e-02, 5.25000002e-02, 5.50000002e-02, 5.75000002e-02,\n",
       "        6.00000002e-02, 6.25000001e-02, 6.50000001e-02, 6.75000001e-02,\n",
       "        7.00000001e-02, 7.25000001e-02, 7.50000001e-02, 7.75000001e-02,\n",
       "        8.00000001e-02, 8.25000001e-02, 8.50000001e-02, 8.75000001e-02,\n",
       "        9.00000001e-02, 9.25000001e-02, 9.50000001e-02, 9.75000001e-02,\n",
       "        1.00000000e-01, 1.02500000e-01, 1.05000000e-01, 1.07500000e-01,\n",
       "        1.10000000e-01, 1.12500000e-01, 1.15000000e-01, 1.17500000e-01,\n",
       "        1.20000000e-01, 1.22500000e-01, 1.25000000e-01, 1.27500000e-01,\n",
       "        1.30000000e-01, 1.32500000e-01, 1.35000000e-01, 1.37500000e-01,\n",
       "        1.40000000e-01, 1.42500000e-01, 1.45000000e-01, 1.47500000e-01,\n",
       "        1.50000000e-01, 1.52500000e-01, 1.55000000e-01, 1.57500000e-01,\n",
       "        1.60000000e-01, 1.62500000e-01, 1.65000000e-01, 1.67500000e-01,\n",
       "        1.70000000e-01, 1.72500000e-01, 1.75000000e-01, 1.77500000e-01,\n",
       "        1.80000000e-01, 1.82500000e-01, 1.85000000e-01, 1.87500000e-01,\n",
       "        1.90000000e-01, 1.92500000e-01, 1.95000000e-01, 1.97500000e-01,\n",
       "        2.00000000e-01, 2.02500000e-01, 2.05000000e-01, 2.07500000e-01,\n",
       "        2.10000000e-01, 2.12500000e-01, 2.15000000e-01, 2.17500000e-01,\n",
       "        2.20000000e-01, 2.22500000e-01, 2.25000000e-01, 2.27500000e-01,\n",
       "        2.30000000e-01, 2.32500000e-01, 2.35000000e-01, 2.37500000e-01,\n",
       "        2.40000000e-01, 2.42500000e-01, 2.45000000e-01, 2.47500000e-01,\n",
       "        2.50000000e-01]),\n",
       " <BarContainer object of 100 artists>)"
      ]
     },
     "execution_count": 6,
     "metadata": {},
     "output_type": "execute_result"
    },
    {
     "data": {
      "image/png": "[encoded data removed]",
      "text/plain": [
       "<Figure size 432x288 with 1 Axes>"
      ]
     },
     "metadata": {
      "needs_background": "light"
     },
     "output_type": "display_data"
    }
   ],
   "source": [
    "plt.hist(P_O, bins = 100, color='blue', label = r'$\\beta = 1$', alpha=1, histtype='bar', ec='black')"
   ]
  },
  {
   "cell_type": "code",
   "execution_count": 7,
   "metadata": {},
   "outputs": [],
   "source": [
    "G = df_G[range(0,10)].values"
   ]
  },
  {
   "cell_type": "code",
   "execution_count": 8,
   "metadata": {},
   "outputs": [
    {
     "data": {
      "image/png": "[encoded data removed]",
      "text/plain": [
       "<Figure size 432x288 with 1 Axes>"
      ]
     },
     "metadata": {
      "needs_background": "light"
     },
     "output_type": "display_data"
    },
    {
     "data": {
      "text/plain": [
       "<Figure size 1440x1008 with 0 Axes>"
      ]
     },
     "metadata": {},
     "output_type": "display_data"
    }
   ],
   "source": [
    "plt.scatter(np.arange(1,11),np.mean(G,axis=0))\n",
    "fig=plt.figure(figsize=(20,14))"
   ]
  },
  {
   "cell_type": "code",
   "execution_count": 9,
   "metadata": {},
   "outputs": [
    {
     "data": {
      "image/png": "[encoded data removed]",
      "text/plain": [
       "<Figure size 432x288 with 1 Axes>"
      ]
     },
     "metadata": {
      "needs_background": "light"
     },
     "output_type": "display_data"
    },
    {
     "data": {
      "text/plain": [
       "<Figure size 1440x1008 with 0 Axes>"
      ]
     },
     "metadata": {},
     "output_type": "display_data"
    }
   ],
   "source": [
    "plt.scatter(np.arange(1,11),np.var(G,axis=0))\n",
    "fig=plt.figure(figsize=(20,14))"
   ]
  },
  {
   "cell_type": "code",
   "execution_count": null,
   "metadata": {},
   "outputs": [],
   "source": []
  }
 ],
 "metadata": {
  "kernelspec": {
   "display_name": "Python 3",
   "language": "python",
   "name": "python3"
  },
  "language_info": {
   "codemirror_mode": {
    "name": "ipython",
    "version": 3
   },
   "file_extension": ".py",
   "mimetype": "text/x-python",
   "name": "python",
   "nbconvert_exporter": "python",
   "pygments_lexer": "ipython3",
   "version": "3.8.10"
  }
 },
 "nbformat": 4,
 "nbformat_minor": 2
}
